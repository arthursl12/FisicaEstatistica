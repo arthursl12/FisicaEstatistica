{
 "cells": [
  {
   "cell_type": "code",
   "execution_count": 108,
   "metadata": {},
   "outputs": [],
   "source": [
    "import numpy as np\n",
    "from numba import jit\n",
    "import matplotlib.pyplot as plt"
   ]
  },
  {
   "cell_type": "code",
   "execution_count": 109,
   "metadata": {},
   "outputs": [],
   "source": [
    "def neighbours(N, L):\n",
    "    \"\"\"\n",
    "    Constrói a matriz de vizinhança.\n",
    "    Assume que há uma \"vizinhança circular\" como se a rede \n",
    "    fosse um toro.\n",
    "    Adaptação do algoritmo proposto no enunciado\n",
    "    \"\"\"\n",
    "    # Cria uma matriz Nx4\n",
    "    viz = np.zeros((N,4), dtype=np.longlong)\n",
    "\n",
    "    # (k,0): vizinho à direita\n",
    "    # (k,1): vizinho acima\n",
    "    # (k,2): vizinho à esquerda\n",
    "    # (k,3): vizinho abaixo]\n",
    "    for k in range(N):\n",
    "        # Vizinho à direita (k,0)\n",
    "        viz[k][0] = k+1\n",
    "        if (k % L == L-1):\n",
    "            # Sítio na borda da direita\n",
    "            viz[k][0] = k+1-L\n",
    "\n",
    "        # Vizinho acima (k,1)\n",
    "        viz[k][1] = k+L\n",
    "        if (k >= N-L):\n",
    "            # Sítio na borda superior\n",
    "            viz[k][1] = k+L-N\n",
    "\n",
    "        # Vizinho à esquerda (k,2)\n",
    "        viz[k][2] = k-1\n",
    "        if (k % L == 0):\n",
    "            # Sítio na borda da esquerda\n",
    "            viz[k][2] = k+L-1\n",
    "\n",
    "        # Vizinho abaixo (k,3)\n",
    "        viz[k][3] = k-L\n",
    "        if (k < L):\n",
    "            # Sítio na borda inferior\n",
    "            viz[k][3] = k+N-L\n",
    "    return viz"
   ]
  },
  {
   "cell_type": "code",
   "execution_count": 110,
   "metadata": {},
   "outputs": [],
   "source": [
    "def energy_ising(s, viz):\n",
    "    \"\"\"\n",
    "    Calcula a energia da rede Ising usando os vizinhos de cada sítio.\n",
    "    É importante notar que precisamos apenas dos \n",
    "    vizinhos à direita e acima\n",
    "    \"\"\"\n",
    "    E = 0\n",
    "    N = len(s)\n",
    "    for i in range(N):\n",
    "        right = viz[i][0]\n",
    "        up = viz[i][1]\n",
    "        h = s[right] + s[up]\n",
    "        E = E - s[i]*h\n",
    "    return E"
   ]
  },
  {
   "cell_type": "code",
   "execution_count": 111,
   "metadata": {},
   "outputs": [
    {
     "name": "stdout",
     "output_type": "stream",
     "text": [
      "0.07028957431399396\n",
      "0.5400483539214558\n",
      "0.6352257348780312\n",
      "0.7171816106728911\n",
      "0.552657385311307\n",
      "0.7019439186209295\n",
      "0.9533926736447927\n"
     ]
    }
   ],
   "source": [
    "rng = np.random.default_rng()\n",
    "print(rng.random())\n",
    "print(rng.random())\n",
    "print(rng.random())\n",
    "print(rng.random())\n",
    "print(rng.random())\n",
    "print(rng.random())\n",
    "print(rng.random())"
   ]
  },
  {
   "cell_type": "code",
   "execution_count": 112,
   "metadata": {},
   "outputs": [],
   "source": [
    "@jit(nopython=True)\n",
    "def monte_carlo_pi(nsamples):\n",
    "    acc = 0\n",
    "    for i in range(nsamples):\n",
    "        x = random.random()\n",
    "        y = random.random()\n",
    "        if (x ** 2 + y ** 2) < 1.0:\n",
    "            acc += 1\n",
    "    return 4.0 * acc / nsamples"
   ]
  },
  {
   "cell_type": "code",
   "execution_count": 103,
   "metadata": {},
   "outputs": [
    {
     "data": {
      "text/plain": [
       "3.1412272"
      ]
     },
     "execution_count": 103,
     "metadata": {},
     "output_type": "execute_result"
    }
   ],
   "source": [
    "monte_carlo_pi(10000000)"
   ]
  },
  {
   "cell_type": "code",
   "execution_count": 104,
   "metadata": {},
   "outputs": [
    {
     "ename": "NameError",
     "evalue": "name 'lnG' is not defined",
     "output_type": "error",
     "traceback": [
      "\u001b[0;31m---------------------------------------------------------------------------\u001b[0m",
      "\u001b[0;31mNameError\u001b[0m                                 Traceback (most recent call last)",
      "\u001b[0;32m<ipython-input-104-b8ccde5b96b5>\u001b[0m in \u001b[0;36m<module>\u001b[0;34m\u001b[0m\n\u001b[0;32m----> 1\u001b[0;31m \u001b[0mlnG\u001b[0m\u001b[0;34m\u001b[0m\u001b[0;34m\u001b[0m\u001b[0m\n\u001b[0m",
      "\u001b[0;31mNameError\u001b[0m: name 'lnG' is not defined"
     ]
    }
   ],
   "source": [
    "\n",
    "\n",
    "lnG"
   ]
  },
  {
   "cell_type": "code",
   "execution_count": 105,
   "metadata": {},
   "outputs": [
    {
     "data": {
      "image/png": "[encoded data removed]",
      "text/plain": [
       "<Figure size 432x288 with 1 Axes>"
      ]
     },
     "metadata": {
      "needs_background": "light"
     },
     "output_type": "display_data"
    }
   ],
   "source": [
    "%matplotlib inline\n",
    "import numpy as np\n",
    "import pandas as pd\n",
    "import time\n",
    "import pandas as pd\n",
    "import numpy as np\n",
    "import time\n",
    "from IPython import display\n",
    "\n",
    "i = pd.date_range('2013-1-1',periods=100,freq='s')\n",
    "\n",
    "x = []\n",
    "y = []\n",
    "for i in range(50):\n",
    "    try:\n",
    "        x = np.append(x, i)\n",
    "        y = np.append(y, i**2)\n",
    "        plt.gca().cla() \n",
    "    #     plt.plot(x,y,label='test')\n",
    "        plt.plot(pd.Series(data=np.random.randn(100)))\n",
    "        plt.title(f\"{i}\")\n",
    "        display.display(plt.gcf()) \n",
    "        display.clear_output(wait=True)\n",
    "        time.sleep(0.5) \n",
    "    except KeyboardInterrupt:\n",
    "        break"
   ]
  },
  {
   "cell_type": "code",
   "execution_count": 38,
   "metadata": {},
   "outputs": [
    {
     "ename": "NameError",
     "evalue": "name 'refresh_rate' is not defined",
     "output_type": "error",
     "traceback": [
      "\u001b[0;31m---------------------------------------------------------------------------\u001b[0m",
      "\u001b[0;31mNameError\u001b[0m                                 Traceback (most recent call last)",
      "\u001b[0;32m<ipython-input-38-711e087ac397>\u001b[0m in \u001b[0;36m<module>\u001b[0;34m\u001b[0m\n\u001b[1;32m      1\u001b[0m \u001b[0;32mfor\u001b[0m \u001b[0mt\u001b[0m \u001b[0;32min\u001b[0m \u001b[0mrange\u001b[0m\u001b[0;34m(\u001b[0m\u001b[0;36m100\u001b[0m\u001b[0;34m)\u001b[0m\u001b[0;34m:\u001b[0m\u001b[0;34m\u001b[0m\u001b[0;34m\u001b[0m\u001b[0m\n\u001b[0;32m----> 2\u001b[0;31m     \u001b[0;32mif\u001b[0m \u001b[0mt\u001b[0m \u001b[0;34m%\u001b[0m \u001b[0mrefresh_rate\u001b[0m \u001b[0;34m==\u001b[0m \u001b[0;36m0\u001b[0m\u001b[0;34m:\u001b[0m\u001b[0;34m\u001b[0m\u001b[0;34m\u001b[0m\u001b[0m\n\u001b[0m\u001b[1;32m      3\u001b[0m         \u001b[0mplt\u001b[0m\u001b[0;34m.\u001b[0m\u001b[0mclf\u001b[0m\u001b[0;34m(\u001b[0m\u001b[0;34m)\u001b[0m\u001b[0;34m\u001b[0m\u001b[0;34m\u001b[0m\u001b[0m\n\u001b[1;32m      4\u001b[0m         \u001b[0mplt\u001b[0m\u001b[0;34m.\u001b[0m\u001b[0mplot\u001b[0m\u001b[0;34m(\u001b[0m\u001b[0mhistory\u001b[0m\u001b[0;34m[\u001b[0m\u001b[0;34m'val_loss'\u001b[0m\u001b[0;34m]\u001b[0m\u001b[0;34m,\u001b[0m \u001b[0;34m'r-'\u001b[0m\u001b[0;34m,\u001b[0m \u001b[0mlw\u001b[0m\u001b[0;34m=\u001b[0m\u001b[0;36m2\u001b[0m\u001b[0;34m,\u001b[0m \u001b[0mlabel\u001b[0m\u001b[0;34m=\u001b[0m\u001b[0;34m'val'\u001b[0m\u001b[0;34m)\u001b[0m\u001b[0;34m\u001b[0m\u001b[0;34m\u001b[0m\u001b[0m\n\u001b[1;32m      5\u001b[0m         \u001b[0mplt\u001b[0m\u001b[0;34m.\u001b[0m\u001b[0mplot\u001b[0m\u001b[0;34m(\u001b[0m\u001b[0mhistory\u001b[0m\u001b[0;34m[\u001b[0m\u001b[0;34m'training_loss'\u001b[0m\u001b[0;34m]\u001b[0m\u001b[0;34m,\u001b[0m \u001b[0;34m'b-'\u001b[0m\u001b[0;34m,\u001b[0m \u001b[0mlw\u001b[0m\u001b[0;34m=\u001b[0m\u001b[0;36m1\u001b[0m\u001b[0;34m,\u001b[0m \u001b[0mlabel\u001b[0m\u001b[0;34m=\u001b[0m\u001b[0;34m'training'\u001b[0m\u001b[0;34m)\u001b[0m\u001b[0;34m\u001b[0m\u001b[0;34m\u001b[0m\u001b[0m\n",
      "\u001b[0;31mNameError\u001b[0m: name 'refresh_rate' is not defined"
     ]
    }
   ],
   "source": [
    "for t in range(100):\n",
    "    if t % refresh_rate == 0:\n",
    "        plt.clf()\n",
    "        plt.plot(history['val_loss'], 'r-', lw=2, label='val')\n",
    "        plt.plot(history['training_loss'], 'b-', lw=1, label='training')\n",
    "        plt.legend()\n",
    "        display.clear_output(wait=True)\n",
    "        display.display(plt.gcf())"
   ]
  },
  {
   "cell_type": "code",
   "execution_count": 113,
   "metadata": {},
   "outputs": [],
   "source": [
    "def sub_min(H):\n",
    "    \"\"\"\n",
    "    Retorna o mínimo do vetor H, ignorando o segundo e penúltimo\n",
    "    \"\"\"\n",
    "    H0 = np.array([H[0]])\n",
    "    H2_N2 = np.array(H[2:-2])\n",
    "    HN = np.array([H[-1]])\n",
    "#     print(f\"H0={H0}, H2_N2={H2_N2}, HN={HN}\")\n",
    "    \n",
    "    H_wo = np.concatenate((H0,H2_N2,HN))\n",
    "#     print(f\"LesMin={H_wo}\")\n",
    "    return min(H_wo)"
   ]
  },
  {
   "cell_type": "code",
   "execution_count": 114,
   "metadata": {},
   "outputs": [
    {
     "data": {
      "text/plain": [
       "1"
      ]
     },
     "execution_count": 114,
     "metadata": {},
     "output_type": "execute_result"
    }
   ],
   "source": [
    "sub_min([1,0,3,4,5,6,7,8,0,1])"
   ]
  },
  {
   "cell_type": "code",
   "execution_count": 115,
   "metadata": {},
   "outputs": [],
   "source": [
    "def energy_scale(N,E):\n",
    "    \"\"\"\n",
    "    Escala os valores de energia para que fiquem entre 0 e N \n",
    "    ao invés de -2N até 2N\n",
    "    \"\"\"\n",
    "    E = E+2*N\n",
    "    E = E/4\n",
    "    if (int(E) - E > 0):\n",
    "        raise(\"Energia não inteira pós escala!\")\n",
    "    return int(E)"
   ]
  },
  {
   "cell_type": "code",
   "execution_count": 116,
   "metadata": {},
   "outputs": [],
   "source": [
    "def random_energy_state(N):\n",
    "    \"\"\"\n",
    "    Gera um estado aleatório de energia\n",
    "    \"\"\"\n",
    "    s = []\n",
    "    # De 0 a N-1\n",
    "    rng = np.random.default_rng()\n",
    "    for i in range(N):\n",
    "        s.append(np.sign(2*rng.random()-1))\n",
    "    s = np.array(s)\n",
    "    return s"
   ]
  },
  {
   "cell_type": "code",
   "execution_count": 117,
   "metadata": {},
   "outputs": [
    {
     "data": {
      "text/plain": [
       "array([ 1.,  1., -1., -1., -1.,  1., -1.,  1.,  1.,  1., -1., -1.,  1.,\n",
       "        1.,  1.,  1.])"
      ]
     },
     "execution_count": 117,
     "metadata": {},
     "output_type": "execute_result"
    }
   ],
   "source": [
    "random_energy_state(16)"
   ]
  },
  {
   "cell_type": "code",
   "execution_count": 151,
   "metadata": {},
   "outputs": [],
   "source": [
    "from IPython import display\n",
    "\n",
    "def wang_landau(N, E, s):\n",
    "    \"\"\"\n",
    "    Algoritmo de Wang-Landau para estimativa da densidade de estados g(E)\n",
    "    \"\"\"\n",
    "    # Inicialização arrays, de 0 a N, inclusive\n",
    "    lnG = np.zeros(N+1, dtype=np.float64)\n",
    "    H = np.zeros(N+1, dtype=np.int64)\n",
    "    Hc = np.zeros(N+1, dtype=np.int64)\n",
    "    mmicro = np.zeros(N+1, dtype=np.float64)\n",
    "    \n",
    "    # Variáveis do Loop Principal\n",
    "    lnf = 1.0\n",
    "    flat = False\n",
    "    m = s.sum()\n",
    "    for i in range(10**7):\n",
    "        for j in range(N):\n",
    "            # Escolhe um sítio aleatório\n",
    "            rng = np.random.default_rng()\n",
    "            k = rng.integers(N)\n",
    "            \n",
    "            # Soma sobre os vizinhos de k\n",
    "            h = 0\n",
    "            for v_idx in viz[k]:\n",
    "                h += s[v_idx]\n",
    "            \n",
    "            # Energia desse novo estado\n",
    "            E2 = E + s[k]*h/2\n",
    "            if (int(E2) - E2 > 0): print(\"Energia não inteira pós iteração!\")\n",
    "            E2 = int(E2)\n",
    "            \n",
    "#             print(E2)\n",
    "#             print(E)\n",
    "#             print(f\"k={k}, P={P}\")\n",
    "            \n",
    "            # Economizar algumas exponenciais\n",
    "            if lnG[E] > lnG[E2]:\n",
    "                # Faz a troca\n",
    "                s[k] = -s[k]\n",
    "                E = E2\n",
    "                m = m - 2*s[k]\n",
    "            else:\n",
    "                rng = np.random.default_rng()\n",
    "                P = np.exp(lnG[E] - lnG[E2])\n",
    "                if (rng.random() < P):\n",
    "                    # Faz a troca\n",
    "                    s[k] = -s[k]\n",
    "                    E = E2\n",
    "                    m = m - 2*s[k]\n",
    "            H[E] = H[E] + 1\n",
    "            lnG[E] = lnG[E] + lnf\n",
    "            ## Usando o abs no mmicro (?)\n",
    "            mmicro[E] = mmicro[E] + m\n",
    "#             print(f\"H={H}, Hc={Hc}\")\n",
    "            \n",
    "        if (i % 1000 == 0):\n",
    "            hmed = sum(H)/(N-1)\n",
    "            hmin = sub_min(H)\n",
    "            \n",
    "            print(f\"H={H}, Hc={Hc}, lnf={lnf}\")\n",
    "            print(f\"hmed={hmed}, hmin={hmin}, flat_condition:{hmin}>{0.8*hmed}, i={i}\")\n",
    "            \n",
    "            \n",
    "    \n",
    "            # Plot do histograma!\n",
    "            plt.gca().cla() \n",
    "            plt.plot(H)\n",
    "            plt.ylim([0,10**4])\n",
    "            display.display(plt.gcf()) \n",
    "            display.clear_output(wait=True)\n",
    "            \n",
    "            if (hmin > 0.8*hmed):\n",
    "                Hc = H.copy()\n",
    "#                 print(f\"H={H}, Hc={Hc}\")\n",
    "#                 print(Hc)\n",
    "                H = np.zeros(N+1, dtype=np.int64)\n",
    "                lnf = lnf/2\n",
    "#                 print(lnf)\n",
    "        if (lnf < 10**-8):\n",
    "            break\n",
    "    mmicro = mmicro/Hc\n",
    "    lnG0 = lnG[0]\n",
    "    lnG = lnG - lnG0 + np.log(2)\n",
    "    return lnG, mmicro"
   ]
  },
  {
   "cell_type": "code",
   "execution_count": null,
   "metadata": {},
   "outputs": [],
   "source": []
  },
  {
   "cell_type": "code",
   "execution_count": 152,
   "metadata": {},
   "outputs": [
    {
     "data": {
      "text/plain": [
       "18"
      ]
     },
     "execution_count": 152,
     "metadata": {},
     "output_type": "execute_result"
    }
   ],
   "source": [
    "N = 36\n",
    "s = random_energy_state(N)\n",
    "\n",
    "viz = neighbours(N,np.sqrt(N))\n",
    "E = energy_ising(s,viz)\n",
    "E = energy_scale(N,E)\n",
    "E"
   ]
  },
  {
   "cell_type": "code",
   "execution_count": 153,
   "metadata": {
    "scrolled": false
   },
   "outputs": [
    {
     "name": "stderr",
     "output_type": "stream",
     "text": [
      "<ipython-input-151-be03b67befbc>:88: RuntimeWarning: invalid value encountered in true_divide\n",
      "  mmicro = mmicro/Hc\n"
     ]
    },
    {
     "data": {
      "image/png": "[encoded data removed]",
      "text/plain": [
       "<Figure size 432x288 with 1 Axes>"
      ]
     },
     "metadata": {
      "needs_background": "light"
     },
     "output_type": "display_data"
    }
   ],
   "source": [
    "lnG, mmicro = wang_landau(N, E, s)"
   ]
  },
  {
   "cell_type": "code",
   "execution_count": 154,
   "metadata": {},
   "outputs": [
    {
     "data": {
      "text/plain": [
       "array([ 6.93147181e-01, -2.06436506e+03,  4.29234998e+00,  4.99590564e+00,\n",
       "        7.40650402e+00,  8.73513119e+00,  1.04750838e+01,  1.19806059e+01,\n",
       "        1.35961331e+01,  1.51611500e+01,  1.66489506e+01,  1.80612004e+01,\n",
       "        1.93397559e+01,  2.04913247e+01,  2.14624490e+01,  2.22152749e+01,\n",
       "        2.27820215e+01,  2.31218237e+01,  2.32448769e+01,  2.31199802e+01,\n",
       "        2.27817873e+01,  2.22219976e+01,  2.14530962e+01,  2.04705636e+01,\n",
       "        1.93243063e+01,  1.80249955e+01,  1.66489539e+01,  1.51396740e+01,\n",
       "        1.35615793e+01,  1.19260649e+01,  1.04130156e+01,  8.65235905e+00,\n",
       "        7.36456063e+00,  4.97756673e+00,  4.26430030e+00, -2.06436506e+03,\n",
       "        7.14263705e-01])"
      ]
     },
     "execution_count": 154,
     "metadata": {},
     "output_type": "execute_result"
    }
   ],
   "source": [
    "lnG"
   ]
  },
  {
   "cell_type": "code",
   "execution_count": 155,
   "metadata": {},
   "outputs": [
    {
     "data": {
      "text/plain": [
       "array([2.00000000e+00, 0.00000000e+00, 7.31381397e+01, 1.47806744e+02,\n",
       "       1.64665958e+03, 6.21754981e+03, 3.54218389e+04, 1.59628722e+05,\n",
       "       8.03018576e+05, 3.84064153e+06, 1.70038546e+07, 6.98038967e+07,\n",
       "       2.50697066e+08, 7.92992805e+08, 2.09422420e+09, 4.44601881e+09,\n",
       "       7.83621255e+09, 1.10072910e+10, 1.24486356e+10, 1.09870175e+10,\n",
       "       7.83437786e+09, 4.47600904e+09, 2.07472871e+09, 7.76699099e+08,\n",
       "       2.46853678e+08, 6.73218535e+07, 1.70039096e+07, 3.75903930e+06,\n",
       "       7.75745092e+05, 1.51155583e+05, 3.32901084e+04, 5.72363317e+03,\n",
       "       1.57902150e+03, 1.45120834e+02, 7.11151433e+01, 0.00000000e+00,\n",
       "       2.04268211e+00])"
      ]
     },
     "execution_count": 155,
     "metadata": {},
     "output_type": "execute_result"
    }
   ],
   "source": [
    "np.exp(lnG)"
   ]
  },
  {
   "cell_type": "code",
   "execution_count": 57,
   "metadata": {},
   "outputs": [
    {
     "data": {
      "text/plain": [
       "array([    -inf,      nan,     -inf,     -inf,     -inf,     -inf,\n",
       "           -inf,     -inf,     -inf,     -inf,     -inf,     -inf,\n",
       "           -inf,     -inf,     -inf,     -inf,     -inf,     -inf,\n",
       "           -inf,     -inf,     -inf,     -inf,     -inf,     -inf,\n",
       "           -inf,     -inf,     -inf,     -inf,     -inf,     -inf,\n",
       "           -inf,     -inf,     -inf,     -inf,     -inf,      nan,\n",
       "       -1960.94])"
      ]
     },
     "execution_count": 57,
     "metadata": {},
     "output_type": "execute_result"
    }
   ],
   "source": [
    "mmicro"
   ]
  },
  {
   "cell_type": "code",
   "execution_count": 58,
   "metadata": {},
   "outputs": [],
   "source": [
    "def media_termo(lnG, N, beta):\n",
    "    \"\"\"\n",
    "    Obtém as propriedades termodinâmicas a uma dada temperatura (com inverso beta),\n",
    "    dada o logaritmo de energias por configuração (lnG)\n",
    "    \"\"\"\n",
    "    Z = 0\n",
    "    Em = 0\n",
    "    Em2 = 0\n",
    "    \n",
    "    Emin = energy_scale(N,-2*N)\n",
    "    Emax = energy_scale(N,2*N)\n",
    "    \n",
    "    for E in range(N):\n",
    "        E1 = E - Emin\n",
    "        Z = Z + np.exp(lnG[E])*np.exp(-beta*E1)\n",
    "        \n",
    "        Em = Em + E1*np.exp(lnG[E])*np.exp(-beta*E1)\n",
    "        Em2 = Em2 + E1*E1*np.exp(lnG[E])*np.exp(-beta*E1)\n",
    "    Em = Em/Z\n",
    "    Em2 = Em2/Z\n",
    "    \n",
    "    Z = Z*np.exp(-beta*Emin)\n",
    "    cv = (beta*beta*(Em2-Em**2))/N\n",
    "    EpS = (Em + Emin)/N\n",
    "    return Z, EpS, cv"
   ]
  },
  {
   "cell_type": "code",
   "execution_count": 59,
   "metadata": {},
   "outputs": [],
   "source": [
    "def energia_livre_spin(Z, N, beta):\n",
    "    \"\"\"\n",
    "    Calcula a energia livre por spin, usando a fórmula do enunciado.\n",
    "    Note que a função np.log é o logaritmo natural.\n",
    "    \"\"\"\n",
    "    result = N * beta\n",
    "    result = -1/result\n",
    "    result = result * np.log(Z)  # np.log é o logaritmo natural\n",
    "    return result"
   ]
  },
  {
   "cell_type": "code",
   "execution_count": 60,
   "metadata": {},
   "outputs": [],
   "source": [
    "def entropia_spin(e_spin, e_livre_spin, temp):\n",
    "    \"\"\"\n",
    "    Calcula a entropia livre por spin, usando a fórmula do enunciado.\n",
    "    Note que utiliza a temperatura e não o inverso dela (beta).\n",
    "    \"\"\"\n",
    "    result = e_spin - e_livre_spin\n",
    "    result = result / temp\n",
    "    return result"
   ]
  },
  {
   "cell_type": "code",
   "execution_count": 61,
   "metadata": {
    "scrolled": true
   },
   "outputs": [
    {
     "name": "stdout",
     "output_type": "stream",
     "text": [
      "hmed=1.3333333333333333, hmin=4, flat_condition:4>1.0666666666666667\n",
      "H=[0 0 4 0 0], Hc=[0 0 4 0 0]\n",
      "0.5\n",
      "hmed=133.33333333333334, hmin=400, flat_condition:400>106.66666666666669\n",
      "H=[121   0  22   0 257], Hc=[121   0  22   0 257]\n",
      "0.25\n",
      "hmed=133.33333333333334, hmin=400, flat_condition:400>106.66666666666669\n",
      "H=[257   0  17   0 126], Hc=[257   0  17   0 126]\n",
      "0.125\n",
      "hmed=133.33333333333334, hmin=400, flat_condition:400>106.66666666666669\n",
      "H=[224   0  33   0 143], Hc=[224   0  33   0 143]\n",
      "0.0625\n",
      "hmed=133.33333333333334, hmin=400, flat_condition:400>106.66666666666669\n",
      "H=[280   0  17   0 103], Hc=[280   0  17   0 103]\n",
      "0.03125\n",
      "hmed=133.33333333333334, hmin=400, flat_condition:400>106.66666666666669\n",
      "H=[353   0  12   0  35], Hc=[353   0  12   0  35]\n",
      "0.015625\n",
      "hmed=133.33333333333334, hmin=400, flat_condition:400>106.66666666666669\n",
      "H=[ 63   0  45   0 292], Hc=[ 63   0  45   0 292]\n",
      "0.0078125\n",
      "hmed=133.33333333333334, hmin=400, flat_condition:400>106.66666666666669\n",
      "H=[ 72   0  34   0 294], Hc=[ 72   0  34   0 294]\n",
      "0.00390625\n",
      "hmed=133.33333333333334, hmin=400, flat_condition:400>106.66666666666669\n",
      "H=[239   0  21   0 140], Hc=[239   0  21   0 140]\n",
      "0.001953125\n",
      "hmed=133.33333333333334, hmin=400, flat_condition:400>106.66666666666669\n",
      "H=[183   0  23   0 194], Hc=[183   0  23   0 194]\n",
      "0.0009765625\n",
      "hmed=133.33333333333334, hmin=400, flat_condition:400>106.66666666666669\n",
      "H=[114   0  16   0 270], Hc=[114   0  16   0 270]\n",
      "0.00048828125\n",
      "hmed=133.33333333333334, hmin=400, flat_condition:400>106.66666666666669\n",
      "H=[205   0  24   0 171], Hc=[205   0  24   0 171]\n",
      "0.000244140625\n",
      "hmed=133.33333333333334, hmin=400, flat_condition:400>106.66666666666669\n",
      "H=[131   0  16   0 253], Hc=[131   0  16   0 253]\n",
      "0.0001220703125\n",
      "hmed=133.33333333333334, hmin=400, flat_condition:400>106.66666666666669\n",
      "H=[183   0  21   0 196], Hc=[183   0  21   0 196]\n",
      "6.103515625e-05\n",
      "hmed=133.33333333333334, hmin=400, flat_condition:400>106.66666666666669\n",
      "H=[159   0  35   0 206], Hc=[159   0  35   0 206]\n",
      "3.0517578125e-05\n",
      "hmed=133.33333333333334, hmin=400, flat_condition:400>106.66666666666669\n",
      "H=[ 73   0  10   0 317], Hc=[ 73   0  10   0 317]\n",
      "1.52587890625e-05\n",
      "hmed=133.33333333333334, hmin=400, flat_condition:400>106.66666666666669\n",
      "H=[ 78   0  17   0 305], Hc=[ 78   0  17   0 305]\n",
      "7.62939453125e-06\n",
      "hmed=133.33333333333334, hmin=400, flat_condition:400>106.66666666666669\n",
      "H=[226   0  12   0 162], Hc=[226   0  12   0 162]\n",
      "3.814697265625e-06\n",
      "hmed=133.33333333333334, hmin=400, flat_condition:400>106.66666666666669\n",
      "H=[158   0  14   0 228], Hc=[158   0  14   0 228]\n",
      "1.9073486328125e-06\n",
      "hmed=133.33333333333334, hmin=400, flat_condition:400>106.66666666666669\n",
      "H=[  9   0  23   0 368], Hc=[  9   0  23   0 368]\n",
      "9.5367431640625e-07\n",
      "hmed=133.33333333333334, hmin=400, flat_condition:400>106.66666666666669\n",
      "H=[238   0  18   0 144], Hc=[238   0  18   0 144]\n",
      "4.76837158203125e-07\n",
      "hmed=133.33333333333334, hmin=400, flat_condition:400>106.66666666666669\n",
      "H=[268   0  34   0  98], Hc=[268   0  34   0  98]\n",
      "2.384185791015625e-07\n",
      "hmed=133.33333333333334, hmin=400, flat_condition:400>106.66666666666669\n",
      "H=[359   0  10   0  31], Hc=[359   0  10   0  31]\n",
      "1.1920928955078125e-07\n",
      "hmed=133.33333333333334, hmin=400, flat_condition:400>106.66666666666669\n",
      "H=[186   0  20   0 194], Hc=[186   0  20   0 194]\n",
      "5.960464477539063e-08\n",
      "hmed=133.33333333333334, hmin=400, flat_condition:400>106.66666666666669\n",
      "H=[171   0  11   0 218], Hc=[171   0  11   0 218]\n",
      "2.9802322387695312e-08\n",
      "hmed=133.33333333333334, hmin=400, flat_condition:400>106.66666666666669\n",
      "H=[148   0  23   0 229], Hc=[148   0  23   0 229]\n",
      "1.4901161193847656e-08\n",
      "hmed=133.33333333333334, hmin=400, flat_condition:400>106.66666666666669\n",
      "H=[232   0  27   0 141], Hc=[232   0  27   0 141]\n",
      "7.450580596923828e-09\n"
     ]
    },
    {
     "name": "stderr",
     "output_type": "stream",
     "text": [
      "<ipython-input-54-1b4318fcd5e6>:69: RuntimeWarning: invalid value encountered in true_divide\n",
      "  mmicro = mmicro/Hc\n"
     ]
    }
   ],
   "source": [
    "N = 4\n",
    "s = []\n",
    "# De 0 a N-1\n",
    "for i in range(N):\n",
    "    s.append(-1)\n",
    "s = np.array(s)\n",
    "viz = neighbours(N,np.sqrt(N))\n",
    "E = energy_ising(s,viz)\n",
    "E = energy_scale(N,E)\n",
    "lg2, mmicro2 = wang_landau(N, E, s)"
   ]
  },
  {
   "cell_type": "code",
   "execution_count": 40,
   "metadata": {},
   "outputs": [
    {
     "name": "stdout",
     "output_type": "stream",
     "text": [
      "hmed=1.0666666666666667, hmin=0, flat_condition:0>0.8533333333333334\n",
      "hmed=107.73333333333333, hmin=207, flat_condition:207>86.18666666666667\n",
      "H=[ 72   0  89  90 120 124 134 138 137 134 125 112 101  97  97   0  46], Hc=[ 72   0  89  90 120 124 134 138 137 134 125 112 101  97  97   0  46]\n",
      "0.5\n",
      "hmed=106.66666666666667, hmin=1600, flat_condition:1600>85.33333333333334\n",
      "H=[1600    0    0    0    0    0    0    0    0    0    0    0    0    0\n",
      "    0    0    0], Hc=[1600    0    0    0    0    0    0    0    0    0    0    0    0    0\n",
      "    0    0    0]\n",
      "0.25\n",
      "hmed=106.66666666666667, hmin=1600, flat_condition:1600>85.33333333333334\n",
      "H=[1600    0    0    0    0    0    0    0    0    0    0    0    0    0\n",
      "    0    0    0], Hc=[1600    0    0    0    0    0    0    0    0    0    0    0    0    0\n",
      "    0    0    0]\n",
      "0.125\n",
      "hmed=106.66666666666667, hmin=1600, flat_condition:1600>85.33333333333334\n",
      "H=[1600    0    0    0    0    0    0    0    0    0    0    0    0    0\n",
      "    0    0    0], Hc=[1600    0    0    0    0    0    0    0    0    0    0    0    0    0\n",
      "    0    0    0]\n",
      "0.0625\n",
      "hmed=106.66666666666667, hmin=1600, flat_condition:1600>85.33333333333334\n",
      "H=[1600    0    0    0    0    0    0    0    0    0    0    0    0    0\n",
      "    0    0    0], Hc=[1600    0    0    0    0    0    0    0    0    0    0    0    0    0\n",
      "    0    0    0]\n",
      "0.03125\n",
      "hmed=106.66666666666667, hmin=1600, flat_condition:1600>85.33333333333334\n",
      "H=[1600    0    0    0    0    0    0    0    0    0    0    0    0    0\n",
      "    0    0    0], Hc=[1600    0    0    0    0    0    0    0    0    0    0    0    0    0\n",
      "    0    0    0]\n",
      "0.015625\n",
      "hmed=106.66666666666667, hmin=1600, flat_condition:1600>85.33333333333334\n",
      "H=[1600    0    0    0    0    0    0    0    0    0    0    0    0    0\n",
      "    0    0    0], Hc=[1600    0    0    0    0    0    0    0    0    0    0    0    0    0\n",
      "    0    0    0]\n",
      "0.0078125\n",
      "hmed=106.66666666666667, hmin=1600, flat_condition:1600>85.33333333333334\n",
      "H=[1600    0    0    0    0    0    0    0    0    0    0    0    0    0\n",
      "    0    0    0], Hc=[1600    0    0    0    0    0    0    0    0    0    0    0    0    0\n",
      "    0    0    0]\n",
      "0.00390625\n",
      "hmed=106.66666666666667, hmin=1600, flat_condition:1600>85.33333333333334\n",
      "H=[1600    0    0    0    0    0    0    0    0    0    0    0    0    0\n",
      "    0    0    0], Hc=[1600    0    0    0    0    0    0    0    0    0    0    0    0    0\n",
      "    0    0    0]\n",
      "0.001953125\n",
      "hmed=106.66666666666667, hmin=1600, flat_condition:1600>85.33333333333334\n",
      "H=[1600    0    0    0    0    0    0    0    0    0    0    0    0    0\n",
      "    0    0    0], Hc=[1600    0    0    0    0    0    0    0    0    0    0    0    0    0\n",
      "    0    0    0]\n",
      "0.0009765625\n",
      "hmed=106.66666666666667, hmin=1600, flat_condition:1600>85.33333333333334\n",
      "H=[1600    0    0    0    0    0    0    0    0    0    0    0    0    0\n",
      "    0    0    0], Hc=[1600    0    0    0    0    0    0    0    0    0    0    0    0    0\n",
      "    0    0    0]\n",
      "0.00048828125\n",
      "hmed=106.66666666666667, hmin=1600, flat_condition:1600>85.33333333333334\n",
      "H=[1600    0    0    0    0    0    0    0    0    0    0    0    0    0\n",
      "    0    0    0], Hc=[1600    0    0    0    0    0    0    0    0    0    0    0    0    0\n",
      "    0    0    0]\n",
      "0.000244140625\n",
      "hmed=106.66666666666667, hmin=1600, flat_condition:1600>85.33333333333334\n",
      "H=[1600    0    0    0    0    0    0    0    0    0    0    0    0    0\n",
      "    0    0    0], Hc=[1600    0    0    0    0    0    0    0    0    0    0    0    0    0\n",
      "    0    0    0]\n",
      "0.0001220703125\n",
      "hmed=106.66666666666667, hmin=1600, flat_condition:1600>85.33333333333334\n",
      "H=[1600    0    0    0    0    0    0    0    0    0    0    0    0    0\n",
      "    0    0    0], Hc=[1600    0    0    0    0    0    0    0    0    0    0    0    0    0\n",
      "    0    0    0]\n",
      "6.103515625e-05\n",
      "hmed=106.66666666666667, hmin=1600, flat_condition:1600>85.33333333333334\n",
      "H=[1600    0    0    0    0    0    0    0    0    0    0    0    0    0\n",
      "    0    0    0], Hc=[1600    0    0    0    0    0    0    0    0    0    0    0    0    0\n",
      "    0    0    0]\n",
      "3.0517578125e-05\n",
      "hmed=106.66666666666667, hmin=1600, flat_condition:1600>85.33333333333334\n",
      "H=[1600    0    0    0    0    0    0    0    0    0    0    0    0    0\n",
      "    0    0    0], Hc=[1600    0    0    0    0    0    0    0    0    0    0    0    0    0\n",
      "    0    0    0]\n",
      "1.52587890625e-05\n",
      "hmed=106.66666666666667, hmin=1600, flat_condition:1600>85.33333333333334\n",
      "H=[1600    0    0    0    0    0    0    0    0    0    0    0    0    0\n",
      "    0    0    0], Hc=[1600    0    0    0    0    0    0    0    0    0    0    0    0    0\n",
      "    0    0    0]\n",
      "7.62939453125e-06\n",
      "hmed=106.66666666666667, hmin=1600, flat_condition:1600>85.33333333333334\n",
      "H=[1600    0    0    0    0    0    0    0    0    0    0    0    0    0\n",
      "    0    0    0], Hc=[1600    0    0    0    0    0    0    0    0    0    0    0    0    0\n",
      "    0    0    0]\n",
      "3.814697265625e-06\n",
      "hmed=106.66666666666667, hmin=1600, flat_condition:1600>85.33333333333334\n",
      "H=[1600    0    0    0    0    0    0    0    0    0    0    0    0    0\n",
      "    0    0    0], Hc=[1600    0    0    0    0    0    0    0    0    0    0    0    0    0\n",
      "    0    0    0]\n",
      "1.9073486328125e-06\n",
      "hmed=106.66666666666667, hmin=1600, flat_condition:1600>85.33333333333334\n",
      "H=[1600    0    0    0    0    0    0    0    0    0    0    0    0    0\n",
      "    0    0    0], Hc=[1600    0    0    0    0    0    0    0    0    0    0    0    0    0\n",
      "    0    0    0]\n",
      "9.5367431640625e-07\n",
      "hmed=106.66666666666667, hmin=1600, flat_condition:1600>85.33333333333334\n",
      "H=[1600    0    0    0    0    0    0    0    0    0    0    0    0    0\n",
      "    0    0    0], Hc=[1600    0    0    0    0    0    0    0    0    0    0    0    0    0\n",
      "    0    0    0]\n",
      "4.76837158203125e-07\n",
      "hmed=106.66666666666667, hmin=1600, flat_condition:1600>85.33333333333334\n",
      "H=[1600    0    0    0    0    0    0    0    0    0    0    0    0    0\n",
      "    0    0    0], Hc=[1600    0    0    0    0    0    0    0    0    0    0    0    0    0\n",
      "    0    0    0]\n",
      "2.384185791015625e-07\n",
      "hmed=106.66666666666667, hmin=1600, flat_condition:1600>85.33333333333334\n",
      "H=[1600    0    0    0    0    0    0    0    0    0    0    0    0    0\n",
      "    0    0    0], Hc=[1600    0    0    0    0    0    0    0    0    0    0    0    0    0\n",
      "    0    0    0]\n",
      "1.1920928955078125e-07\n",
      "hmed=106.66666666666667, hmin=1600, flat_condition:1600>85.33333333333334\n",
      "H=[1600    0    0    0    0    0    0    0    0    0    0    0    0    0\n",
      "    0    0    0], Hc=[1600    0    0    0    0    0    0    0    0    0    0    0    0    0\n",
      "    0    0    0]\n",
      "5.960464477539063e-08\n",
      "hmed=106.66666666666667, hmin=1600, flat_condition:1600>85.33333333333334\n",
      "H=[1600    0    0    0    0    0    0    0    0    0    0    0    0    0\n",
      "    0    0    0], Hc=[1600    0    0    0    0    0    0    0    0    0    0    0    0    0\n",
      "    0    0    0]\n",
      "2.9802322387695312e-08\n",
      "hmed=106.66666666666667, hmin=1600, flat_condition:1600>85.33333333333334\n",
      "H=[1600    0    0    0    0    0    0    0    0    0    0    0    0    0\n",
      "    0    0    0], Hc=[1600    0    0    0    0    0    0    0    0    0    0    0    0    0\n",
      "    0    0    0]\n",
      "1.4901161193847656e-08\n",
      "hmed=106.66666666666667, hmin=1600, flat_condition:1600>85.33333333333334\n",
      "H=[1600    0    0    0    0    0    0    0    0    0    0    0    0    0\n",
      "    0    0    0], Hc=[1600    0    0    0    0    0    0    0    0    0    0    0    0    0\n",
      "    0    0    0]\n",
      "7.450580596923828e-09\n"
     ]
    },
    {
     "name": "stderr",
     "output_type": "stream",
     "text": [
      "<ipython-input-29-5ccdfabf160d>:67: RuntimeWarning: divide by zero encountered in true_divide\n",
      "  mmicro = mmicro/Hc\n",
      "<ipython-input-29-5ccdfabf160d>:67: RuntimeWarning: invalid value encountered in true_divide\n",
      "  mmicro = mmicro/Hc\n"
     ]
    }
   ],
   "source": [
    "N = 16\n",
    "s = []\n",
    "# De 0 a N-1\n",
    "for i in range(N):\n",
    "    s.append(-1)\n",
    "s = np.array(s)\n",
    "viz = neighbours(N,np.sqrt(N))\n",
    "E = energy_ising(s,viz)\n",
    "E = energy_scale(N,E)\n",
    "lg4, mmicro4 = wang_landau(N, E, s)"
   ]
  },
  {
   "cell_type": "code",
   "execution_count": 41,
   "metadata": {},
   "outputs": [
    {
     "name": "stdout",
     "output_type": "stream",
     "text": [
      "hmed=1.0285714285714285, hmin=0, flat_condition:0>0.8228571428571428\n",
      "hmed=103.88571428571429, hmin=110, flat_condition:110>83.10857142857144\n",
      "H=[  0   0  51  61  70  81  88  93 122 124 126 132 134 136 140 138 145 146\n",
      " 152 148 143 146 142 139 128 121  90  84  77  77  76  71  68  63  65   0\n",
      "  59], Hc=[  0   0  51  61  70  81  88  93 122 124 126 132 134 136 140 138 145 146\n",
      " 152 148 143 146 142 139 128 121  90  84  77  77  76  71  68  63  65   0\n",
      "  59]\n",
      "0.5\n",
      "hmed=102.85714285714286, hmin=0, flat_condition:0>82.28571428571429\n",
      "hmed=205.71428571428572, hmin=0, flat_condition:0>164.57142857142858\n",
      "hmed=308.57142857142856, hmin=1956, flat_condition:1956>246.85714285714286\n",
      "H=[1956    0   37   11   71   11 6547 2026    3   69   51    0    8   10\n",
      "    0    0    0    0    0    0    0    0    0    0    0    0    0    0\n",
      "    0    0    0    0    0    0    0    0    0], Hc=[1956    0   37   11   71   11 6547 2026    3   69   51    0    8   10\n",
      "    0    0    0    0    0    0    0    0    0    0    0    0    0    0\n",
      "    0    0    0    0    0    0    0    0    0]\n",
      "0.25\n",
      "hmed=102.85714285714286, hmin=3600, flat_condition:3600>82.28571428571429\n",
      "H=[3600    0    0    0    0    0    0    0    0    0    0    0    0    0\n",
      "    0    0    0    0    0    0    0    0    0    0    0    0    0    0\n",
      "    0    0    0    0    0    0    0    0    0], Hc=[3600    0    0    0    0    0    0    0    0    0    0    0    0    0\n",
      "    0    0    0    0    0    0    0    0    0    0    0    0    0    0\n",
      "    0    0    0    0    0    0    0    0    0]\n",
      "0.125\n",
      "hmed=102.85714285714286, hmin=3600, flat_condition:3600>82.28571428571429\n",
      "H=[3600    0    0    0    0    0    0    0    0    0    0    0    0    0\n",
      "    0    0    0    0    0    0    0    0    0    0    0    0    0    0\n",
      "    0    0    0    0    0    0    0    0    0], Hc=[3600    0    0    0    0    0    0    0    0    0    0    0    0    0\n",
      "    0    0    0    0    0    0    0    0    0    0    0    0    0    0\n",
      "    0    0    0    0    0    0    0    0    0]\n",
      "0.0625\n",
      "hmed=102.85714285714286, hmin=3600, flat_condition:3600>82.28571428571429\n",
      "H=[3600    0    0    0    0    0    0    0    0    0    0    0    0    0\n",
      "    0    0    0    0    0    0    0    0    0    0    0    0    0    0\n",
      "    0    0    0    0    0    0    0    0    0], Hc=[3600    0    0    0    0    0    0    0    0    0    0    0    0    0\n",
      "    0    0    0    0    0    0    0    0    0    0    0    0    0    0\n",
      "    0    0    0    0    0    0    0    0    0]\n",
      "0.03125\n",
      "hmed=102.85714285714286, hmin=3600, flat_condition:3600>82.28571428571429\n",
      "H=[3600    0    0    0    0    0    0    0    0    0    0    0    0    0\n",
      "    0    0    0    0    0    0    0    0    0    0    0    0    0    0\n",
      "    0    0    0    0    0    0    0    0    0], Hc=[3600    0    0    0    0    0    0    0    0    0    0    0    0    0\n",
      "    0    0    0    0    0    0    0    0    0    0    0    0    0    0\n",
      "    0    0    0    0    0    0    0    0    0]\n",
      "0.015625\n",
      "hmed=102.85714285714286, hmin=3600, flat_condition:3600>82.28571428571429\n",
      "H=[3600    0    0    0    0    0    0    0    0    0    0    0    0    0\n",
      "    0    0    0    0    0    0    0    0    0    0    0    0    0    0\n",
      "    0    0    0    0    0    0    0    0    0], Hc=[3600    0    0    0    0    0    0    0    0    0    0    0    0    0\n",
      "    0    0    0    0    0    0    0    0    0    0    0    0    0    0\n",
      "    0    0    0    0    0    0    0    0    0]\n",
      "0.0078125\n",
      "hmed=102.85714285714286, hmin=3600, flat_condition:3600>82.28571428571429\n",
      "H=[3600    0    0    0    0    0    0    0    0    0    0    0    0    0\n",
      "    0    0    0    0    0    0    0    0    0    0    0    0    0    0\n",
      "    0    0    0    0    0    0    0    0    0], Hc=[3600    0    0    0    0    0    0    0    0    0    0    0    0    0\n",
      "    0    0    0    0    0    0    0    0    0    0    0    0    0    0\n",
      "    0    0    0    0    0    0    0    0    0]\n",
      "0.00390625\n",
      "hmed=102.85714285714286, hmin=3600, flat_condition:3600>82.28571428571429\n",
      "H=[3600    0    0    0    0    0    0    0    0    0    0    0    0    0\n",
      "    0    0    0    0    0    0    0    0    0    0    0    0    0    0\n",
      "    0    0    0    0    0    0    0    0    0], Hc=[3600    0    0    0    0    0    0    0    0    0    0    0    0    0\n",
      "    0    0    0    0    0    0    0    0    0    0    0    0    0    0\n",
      "    0    0    0    0    0    0    0    0    0]\n",
      "0.001953125\n",
      "hmed=102.85714285714286, hmin=3600, flat_condition:3600>82.28571428571429\n",
      "H=[3600    0    0    0    0    0    0    0    0    0    0    0    0    0\n",
      "    0    0    0    0    0    0    0    0    0    0    0    0    0    0\n",
      "    0    0    0    0    0    0    0    0    0], Hc=[3600    0    0    0    0    0    0    0    0    0    0    0    0    0\n",
      "    0    0    0    0    0    0    0    0    0    0    0    0    0    0\n",
      "    0    0    0    0    0    0    0    0    0]\n",
      "0.0009765625\n",
      "hmed=102.85714285714286, hmin=3600, flat_condition:3600>82.28571428571429\n",
      "H=[3600    0    0    0    0    0    0    0    0    0    0    0    0    0\n",
      "    0    0    0    0    0    0    0    0    0    0    0    0    0    0\n",
      "    0    0    0    0    0    0    0    0    0], Hc=[3600    0    0    0    0    0    0    0    0    0    0    0    0    0\n",
      "    0    0    0    0    0    0    0    0    0    0    0    0    0    0\n",
      "    0    0    0    0    0    0    0    0    0]\n",
      "0.00048828125\n",
      "hmed=102.85714285714286, hmin=3600, flat_condition:3600>82.28571428571429\n",
      "H=[3600    0    0    0    0    0    0    0    0    0    0    0    0    0\n",
      "    0    0    0    0    0    0    0    0    0    0    0    0    0    0\n",
      "    0    0    0    0    0    0    0    0    0], Hc=[3600    0    0    0    0    0    0    0    0    0    0    0    0    0\n",
      "    0    0    0    0    0    0    0    0    0    0    0    0    0    0\n",
      "    0    0    0    0    0    0    0    0    0]\n",
      "0.000244140625\n",
      "hmed=102.85714285714286, hmin=3600, flat_condition:3600>82.28571428571429\n",
      "H=[3600    0    0    0    0    0    0    0    0    0    0    0    0    0\n",
      "    0    0    0    0    0    0    0    0    0    0    0    0    0    0\n",
      "    0    0    0    0    0    0    0    0    0], Hc=[3600    0    0    0    0    0    0    0    0    0    0    0    0    0\n",
      "    0    0    0    0    0    0    0    0    0    0    0    0    0    0\n",
      "    0    0    0    0    0    0    0    0    0]\n",
      "0.0001220703125\n",
      "hmed=102.85714285714286, hmin=3600, flat_condition:3600>82.28571428571429\n",
      "H=[3600    0    0    0    0    0    0    0    0    0    0    0    0    0\n",
      "    0    0    0    0    0    0    0    0    0    0    0    0    0    0\n",
      "    0    0    0    0    0    0    0    0    0], Hc=[3600    0    0    0    0    0    0    0    0    0    0    0    0    0\n",
      "    0    0    0    0    0    0    0    0    0    0    0    0    0    0\n",
      "    0    0    0    0    0    0    0    0    0]\n",
      "6.103515625e-05\n",
      "hmed=102.85714285714286, hmin=3600, flat_condition:3600>82.28571428571429\n",
      "H=[3600    0    0    0    0    0    0    0    0    0    0    0    0    0\n",
      "    0    0    0    0    0    0    0    0    0    0    0    0    0    0\n",
      "    0    0    0    0    0    0    0    0    0], Hc=[3600    0    0    0    0    0    0    0    0    0    0    0    0    0\n",
      "    0    0    0    0    0    0    0    0    0    0    0    0    0    0\n",
      "    0    0    0    0    0    0    0    0    0]\n",
      "3.0517578125e-05\n",
      "hmed=102.85714285714286, hmin=3600, flat_condition:3600>82.28571428571429\n",
      "H=[3600    0    0    0    0    0    0    0    0    0    0    0    0    0\n",
      "    0    0    0    0    0    0    0    0    0    0    0    0    0    0\n",
      "    0    0    0    0    0    0    0    0    0], Hc=[3600    0    0    0    0    0    0    0    0    0    0    0    0    0\n",
      "    0    0    0    0    0    0    0    0    0    0    0    0    0    0\n",
      "    0    0    0    0    0    0    0    0    0]\n",
      "1.52587890625e-05\n",
      "hmed=102.85714285714286, hmin=3600, flat_condition:3600>82.28571428571429\n",
      "H=[3600    0    0    0    0    0    0    0    0    0    0    0    0    0\n",
      "    0    0    0    0    0    0    0    0    0    0    0    0    0    0\n",
      "    0    0    0    0    0    0    0    0    0], Hc=[3600    0    0    0    0    0    0    0    0    0    0    0    0    0\n",
      "    0    0    0    0    0    0    0    0    0    0    0    0    0    0\n",
      "    0    0    0    0    0    0    0    0    0]\n",
      "7.62939453125e-06\n",
      "hmed=102.85714285714286, hmin=3600, flat_condition:3600>82.28571428571429\n",
      "H=[3600    0    0    0    0    0    0    0    0    0    0    0    0    0\n",
      "    0    0    0    0    0    0    0    0    0    0    0    0    0    0\n",
      "    0    0    0    0    0    0    0    0    0], Hc=[3600    0    0    0    0    0    0    0    0    0    0    0    0    0\n",
      "    0    0    0    0    0    0    0    0    0    0    0    0    0    0\n",
      "    0    0    0    0    0    0    0    0    0]\n",
      "3.814697265625e-06\n",
      "hmed=102.85714285714286, hmin=3600, flat_condition:3600>82.28571428571429\n",
      "H=[3600    0    0    0    0    0    0    0    0    0    0    0    0    0\n",
      "    0    0    0    0    0    0    0    0    0    0    0    0    0    0\n",
      "    0    0    0    0    0    0    0    0    0], Hc=[3600    0    0    0    0    0    0    0    0    0    0    0    0    0\n",
      "    0    0    0    0    0    0    0    0    0    0    0    0    0    0\n",
      "    0    0    0    0    0    0    0    0    0]\n",
      "1.9073486328125e-06\n"
     ]
    },
    {
     "name": "stdout",
     "output_type": "stream",
     "text": [
      "hmed=102.85714285714286, hmin=3600, flat_condition:3600>82.28571428571429\n",
      "H=[3600    0    0    0    0    0    0    0    0    0    0    0    0    0\n",
      "    0    0    0    0    0    0    0    0    0    0    0    0    0    0\n",
      "    0    0    0    0    0    0    0    0    0], Hc=[3600    0    0    0    0    0    0    0    0    0    0    0    0    0\n",
      "    0    0    0    0    0    0    0    0    0    0    0    0    0    0\n",
      "    0    0    0    0    0    0    0    0    0]\n",
      "9.5367431640625e-07\n",
      "hmed=102.85714285714286, hmin=3600, flat_condition:3600>82.28571428571429\n",
      "H=[3600    0    0    0    0    0    0    0    0    0    0    0    0    0\n",
      "    0    0    0    0    0    0    0    0    0    0    0    0    0    0\n",
      "    0    0    0    0    0    0    0    0    0], Hc=[3600    0    0    0    0    0    0    0    0    0    0    0    0    0\n",
      "    0    0    0    0    0    0    0    0    0    0    0    0    0    0\n",
      "    0    0    0    0    0    0    0    0    0]\n",
      "4.76837158203125e-07\n",
      "hmed=102.85714285714286, hmin=3600, flat_condition:3600>82.28571428571429\n",
      "H=[3600    0    0    0    0    0    0    0    0    0    0    0    0    0\n",
      "    0    0    0    0    0    0    0    0    0    0    0    0    0    0\n",
      "    0    0    0    0    0    0    0    0    0], Hc=[3600    0    0    0    0    0    0    0    0    0    0    0    0    0\n",
      "    0    0    0    0    0    0    0    0    0    0    0    0    0    0\n",
      "    0    0    0    0    0    0    0    0    0]\n",
      "2.384185791015625e-07\n",
      "hmed=102.85714285714286, hmin=3600, flat_condition:3600>82.28571428571429\n",
      "H=[3600    0    0    0    0    0    0    0    0    0    0    0    0    0\n",
      "    0    0    0    0    0    0    0    0    0    0    0    0    0    0\n",
      "    0    0    0    0    0    0    0    0    0], Hc=[3600    0    0    0    0    0    0    0    0    0    0    0    0    0\n",
      "    0    0    0    0    0    0    0    0    0    0    0    0    0    0\n",
      "    0    0    0    0    0    0    0    0    0]\n",
      "1.1920928955078125e-07\n",
      "hmed=102.85714285714286, hmin=3600, flat_condition:3600>82.28571428571429\n",
      "H=[3600    0    0    0    0    0    0    0    0    0    0    0    0    0\n",
      "    0    0    0    0    0    0    0    0    0    0    0    0    0    0\n",
      "    0    0    0    0    0    0    0    0    0], Hc=[3600    0    0    0    0    0    0    0    0    0    0    0    0    0\n",
      "    0    0    0    0    0    0    0    0    0    0    0    0    0    0\n",
      "    0    0    0    0    0    0    0    0    0]\n",
      "5.960464477539063e-08\n",
      "hmed=102.85714285714286, hmin=3600, flat_condition:3600>82.28571428571429\n",
      "H=[3600    0    0    0    0    0    0    0    0    0    0    0    0    0\n",
      "    0    0    0    0    0    0    0    0    0    0    0    0    0    0\n",
      "    0    0    0    0    0    0    0    0    0], Hc=[3600    0    0    0    0    0    0    0    0    0    0    0    0    0\n",
      "    0    0    0    0    0    0    0    0    0    0    0    0    0    0\n",
      "    0    0    0    0    0    0    0    0    0]\n",
      "2.9802322387695312e-08\n",
      "hmed=102.85714285714286, hmin=3600, flat_condition:3600>82.28571428571429\n",
      "H=[3600    0    0    0    0    0    0    0    0    0    0    0    0    0\n",
      "    0    0    0    0    0    0    0    0    0    0    0    0    0    0\n",
      "    0    0    0    0    0    0    0    0    0], Hc=[3600    0    0    0    0    0    0    0    0    0    0    0    0    0\n",
      "    0    0    0    0    0    0    0    0    0    0    0    0    0    0\n",
      "    0    0    0    0    0    0    0    0    0]\n",
      "1.4901161193847656e-08\n",
      "hmed=102.85714285714286, hmin=3600, flat_condition:3600>82.28571428571429\n",
      "H=[3600    0    0    0    0    0    0    0    0    0    0    0    0    0\n",
      "    0    0    0    0    0    0    0    0    0    0    0    0    0    0\n",
      "    0    0    0    0    0    0    0    0    0], Hc=[3600    0    0    0    0    0    0    0    0    0    0    0    0    0\n",
      "    0    0    0    0    0    0    0    0    0    0    0    0    0    0\n",
      "    0    0    0    0    0    0    0    0    0]\n",
      "7.450580596923828e-09\n"
     ]
    },
    {
     "name": "stderr",
     "output_type": "stream",
     "text": [
      "<ipython-input-29-5ccdfabf160d>:67: RuntimeWarning: divide by zero encountered in true_divide\n",
      "  mmicro = mmicro/Hc\n",
      "<ipython-input-29-5ccdfabf160d>:67: RuntimeWarning: invalid value encountered in true_divide\n",
      "  mmicro = mmicro/Hc\n"
     ]
    }
   ],
   "source": [
    "N = 36\n",
    "s = []\n",
    "# De 0 a N-1\n",
    "for i in range(N):\n",
    "    s.append(-1)\n",
    "s = np.array(s)\n",
    "viz = neighbours(N,np.sqrt(N))\n",
    "E = energy_ising(s,viz)\n",
    "E = energy_scale(N,E)\n",
    "lg6, mmicro6 = wang_landau(N, E, s)"
   ]
  },
  {
   "cell_type": "code",
   "execution_count": 43,
   "metadata": {},
   "outputs": [],
   "source": [
    "# Geração dos dados\n",
    "x_4 = []\n",
    "y1_4 = []\n",
    "y2_4 = []\n",
    "y3_4 = []\n",
    "y4_4 = []\n",
    "\n",
    "x_16 = []\n",
    "y1_16 = []\n",
    "y2_16 = []\n",
    "y3_16 = []\n",
    "y4_16 = []\n",
    "\n",
    "x_36 = []\n",
    "y1_36 = []\n",
    "y2_36 = []\n",
    "y3_36 = []\n",
    "y4_36 = []\n",
    "\n",
    "\n",
    "step = 0.01\n",
    "t_min = 1\n",
    "t_max = 5\n",
    "\n",
    "for temp in np.arange(t_min,t_max,step):\n",
    "    beta = 1/temp\n",
    "    \n",
    "    # 2x2\n",
    "    N = 4\n",
    "    Z, EpS, cv = media_termo(lg2, N, beta)\n",
    "    x_4.append(temp)\n",
    "    y1_4.append(EpS)  # Energia por spin\n",
    "    y2_4.append(cv)   # Calor específico\n",
    "    liv_spin = energia_livre_spin(Z, N, beta)\n",
    "    y3_4.append(liv_spin)   # Energia livre por spin\n",
    "    y4_4.append(entropia_spin(EpS, liv_spin, temp))  # Entropia por spin\n",
    "\n",
    "    # 4x4\n",
    "    N = 16\n",
    "    Z, EpS, cv = media_termo(lg4, N, beta)\n",
    "    x_16.append(temp)\n",
    "    y1_16.append(EpS)  # Energia por spin\n",
    "    y2_16.append(cv)   # Calor específico\n",
    "    liv_spin = energia_livre_spin(Z, N, beta)\n",
    "    y3_16.append(liv_spin)   # Energia livre por spin\n",
    "    y4_16.append(entropia_spin(EpS, liv_spin, temp))  # Entropia por spin\n",
    "    \n",
    "    # 6x6\n",
    "    N = 36\n",
    "    Z, EpS, cv = media_termo(lg6, N, beta)\n",
    "    x_36.append(temp)\n",
    "    y1_36.append(EpS)  # Energia por spin\n",
    "    y2_36.append(cv)   # Calor específico\n",
    "    liv_spin = energia_livre_spin(Z, N, beta)\n",
    "    y3_36.append(liv_spin)   # Energia livre por spin\n",
    "    y4_36.append(entropia_spin(EpS, liv_spin, temp))  # Entropia por spin"
   ]
  },
  {
   "cell_type": "code",
   "execution_count": 44,
   "metadata": {},
   "outputs": [
    {
     "data": {
      "image/png": "[encoded data removed]",
      "text/plain": [
       "<Figure size 432x288 with 1 Axes>"
      ]
     },
     "metadata": {
      "needs_background": "light"
     },
     "output_type": "display_data"
    }
   ],
   "source": [
    "# Plot Calor Específico\n",
    "plt.plot(x_4 ,y2_4 )\n",
    "plt.plot(x_16,y2_16)\n",
    "plt.plot(x_36,y2_36)\n",
    "plt.ylabel(\"Calor específico\")\n",
    "plt.xlabel(\"Temperatura\")\n",
    "plt.legend([\"2x2\",\"4x4\",\"6x6\"])\n",
    "plt.show()"
   ]
  },
  {
   "cell_type": "code",
   "execution_count": 45,
   "metadata": {},
   "outputs": [
    {
     "data": {
      "image/png": "[encoded data removed]",
      "text/plain": [
       "<Figure size 432x288 with 1 Axes>"
      ]
     },
     "metadata": {
      "needs_background": "light"
     },
     "output_type": "display_data"
    }
   ],
   "source": [
    "# Plot Energia por Spin\n",
    "plt.plot(x_4 ,y1_4 )\n",
    "plt.plot(x_16,y1_16)\n",
    "plt.plot(x_36,y1_36)\n",
    "plt.ylabel(\"Energia por Spin\")\n",
    "plt.xlabel(\"Temperatura\")\n",
    "plt.legend([\"2x2\",\"4x4\",\"6x6\"])\n",
    "plt.show()"
   ]
  },
  {
   "cell_type": "code",
   "execution_count": 46,
   "metadata": {},
   "outputs": [
    {
     "data": {
      "image/png": "[encoded data removed]",
      "text/plain": [
       "<Figure size 432x288 with 1 Axes>"
      ]
     },
     "metadata": {
      "needs_background": "light"
     },
     "output_type": "display_data"
    }
   ],
   "source": [
    "# Plot Energia Livre por Spin\n",
    "plt.plot(x_4 ,y3_4 )\n",
    "plt.plot(x_16,y3_16)\n",
    "plt.plot(x_36,y3_36)\n",
    "plt.ylabel(\"Energia Livre por Spin\")\n",
    "plt.xlabel(\"Temperatura\")\n",
    "plt.legend([\"2x2\",\"4x4\",\"6x6\"])\n",
    "plt.show()"
   ]
  },
  {
   "cell_type": "markdown",
   "metadata": {},
   "source": [
    "## Médias Termdinâmicas Exatas"
   ]
  },
  {
   "cell_type": "code",
   "execution_count": 2,
   "metadata": {},
   "outputs": [],
   "source": [
    "import pickle\n",
    "\n",
    "# Carregar do arquivo\n",
    "# 2x2\n",
    "L = 2\n",
    "N = L**2\n",
    "g2 = None\n",
    "with open(f\"rede{L}x{L}.dict\", \"rb\") as f:\n",
    "    g2 = pickle.load(f)\n",
    "\n",
    "# 4x4\n",
    "L = 4\n",
    "N = L**2\n",
    "g4 = None\n",
    "with open(f\"rede{L}x{L}.dict\", \"rb\") as f:\n",
    "    g4 = pickle.load(f)\n",
    "\n",
    "# 6x6\n",
    "L = 6\n",
    "N = L**2\n",
    "g6 = None\n",
    "with open(f\"rede{L}x{L}.dict\", \"rb\") as f:\n",
    "    g6 = pickle.load(f)"
   ]
  },
  {
   "cell_type": "code",
   "execution_count": 3,
   "metadata": {},
   "outputs": [
    {
     "name": "stdout",
     "output_type": "stream",
     "text": [
      "{-8: 2, -4: 0, 0: 12, 4: 0, 8: 2}\n",
      "{-32: 2, -28: 0, -24: 32, -20: 64, -16: 424, -12: 1728, -8: 6688, -4: 13568, 0: 20524, 4: 13568, 8: 6688, 12: 1728, 16: 424, 20: 64, 24: 32, 28: 0, 32: 2}\n",
      "{-72: 2, -68: 0, -64: 72, -60: 144, -56: 1620, -52: 6048, -48: 35148, -44: 159840, -40: 804078, -36: 3846576, -32: 17569080, -28: 71789328, -24: 260434986, -20: 808871328, -16: 2122173684, -12: 4616013408, -8: 8196905106, -4: 11674988208, 0: 13172279424, 4: 11674988208, 8: 8196905106, 12: 4616013408, 16: 2122173684, 20: 808871328, 24: 260434986, 28: 71789328, 32: 17569080, 36: 3846576, 40: 804078, 44: 159840, 48: 35148, 52: 6048, 56: 1620, 60: 144, 64: 72, 68: 0, 72: 2}\n"
     ]
    }
   ],
   "source": [
    "print(g2)\n",
    "print(g4)\n",
    "print(g6)"
   ]
  },
  {
   "cell_type": "code",
   "execution_count": null,
   "metadata": {},
   "outputs": [],
   "source": [
    "# Normalize g2 energy\n",
    "g2_escaled"
   ]
  },
  {
   "cell_type": "code",
   "execution_count": 8,
   "metadata": {},
   "outputs": [
    {
     "ename": "TypeError",
     "evalue": "'>' not supported between instances of 'dict' and 'int'",
     "output_type": "error",
     "traceback": [
      "\u001b[0;31m---------------------------------------------------------------------------\u001b[0m",
      "\u001b[0;31mTypeError\u001b[0m                                 Traceback (most recent call last)",
      "\u001b[0;32m<ipython-input-8-c88273c2d7af>\u001b[0m in \u001b[0;36m<module>\u001b[0;34m\u001b[0m\n\u001b[0;32m----> 1\u001b[0;31m \u001b[0mlg2\u001b[0m \u001b[0;34m=\u001b[0m \u001b[0mnp\u001b[0m\u001b[0;34m.\u001b[0m\u001b[0mlog\u001b[0m\u001b[0;34m(\u001b[0m\u001b[0mg2\u001b[0m\u001b[0;34m,\u001b[0m \u001b[0mwhere\u001b[0m\u001b[0;34m=\u001b[0m\u001b[0mg2\u001b[0m\u001b[0;34m>\u001b[0m\u001b[0;36m0\u001b[0m\u001b[0;34m)\u001b[0m\u001b[0;34m\u001b[0m\u001b[0;34m\u001b[0m\u001b[0m\n\u001b[0m\u001b[1;32m      2\u001b[0m \u001b[0mlg2\u001b[0m\u001b[0;34m\u001b[0m\u001b[0;34m\u001b[0m\u001b[0m\n",
      "\u001b[0;31mTypeError\u001b[0m: '>' not supported between instances of 'dict' and 'int'"
     ]
    }
   ],
   "source": [
    "lg2 = np.log(g2, where=g2>0)\n",
    "lg2"
   ]
  },
  {
   "cell_type": "code",
   "execution_count": null,
   "metadata": {},
   "outputs": [],
   "source": []
  }
 ],
 "metadata": {
  "kernelspec": {
   "display_name": "Python 3",
   "language": "python",
   "name": "python3"
  },
  "language_info": {
   "codemirror_mode": {
    "name": "ipython",
    "version": 3
   },
   "file_extension": ".py",
   "mimetype": "text/x-python",
   "name": "python",
   "nbconvert_exporter": "python",
   "pygments_lexer": "ipython3",
   "version": "3.8.5"
  }
 },
 "nbformat": 4,
 "nbformat_minor": 4
}
