{
 "cells": [
  {
   "cell_type": "markdown",
   "metadata": {},
   "source": [
    "# Algoritmo de Wang Landau"
   ]
  },
  {
   "cell_type": "markdown",
   "metadata": {},
   "source": [
    "## Imports e Funções Iniciais"
   ]
  },
  {
   "cell_type": "code",
   "execution_count": 1,
   "metadata": {},
   "outputs": [],
   "source": [
    "import numpy as np\n",
    "from numba import jit\n",
    "import matplotlib.pyplot as plt"
   ]
  },
  {
   "cell_type": "markdown",
   "metadata": {},
   "source": [
    "Algoritmos de vizinhos e cálculo de energia da atividade anterior do Modelo de Ising"
   ]
  },
  {
   "cell_type": "code",
   "execution_count": 18,
   "metadata": {},
   "outputs": [],
   "source": [
    "@jit(nopython=True)\n",
    "def neighbours(N, L):\n",
    "    \"\"\"\n",
    "    Constrói a matriz de vizinhança.\n",
    "    Assume que há uma \"vizinhança circular\" como se a rede \n",
    "    fosse um toro.\n",
    "    Adaptação do algoritmo proposto no enunciado\n",
    "    \"\"\"\n",
    "    # Cria uma matriz Nx4\n",
    "    viz = np.zeros((N,4), dtype=np.longlong)\n",
    "\n",
    "    # (k,0): vizinho à direita\n",
    "    # (k,1): vizinho acima\n",
    "    # (k,2): vizinho à esquerda\n",
    "    # (k,3): vizinho abaixo]\n",
    "    for k in range(N):\n",
    "        # Vizinho à direita (k,0)\n",
    "        viz[k][0] = k+1\n",
    "        if (k % L == L-1):\n",
    "            # Sítio na borda da direita\n",
    "            viz[k][0] = k+1-L\n",
    "\n",
    "        # Vizinho acima (k,1)\n",
    "        viz[k][1] = k+L\n",
    "        if (k >= N-L):\n",
    "            # Sítio na borda superior\n",
    "            viz[k][1] = k+L-N\n",
    "\n",
    "        # Vizinho à esquerda (k,2)\n",
    "        viz[k][2] = k-1\n",
    "        if (k % L == 0):\n",
    "            # Sítio na borda da esquerda\n",
    "            viz[k][2] = k+L-1\n",
    "\n",
    "        # Vizinho abaixo (k,3)\n",
    "        viz[k][3] = k-L\n",
    "        if (k < L):\n",
    "            # Sítio na borda inferior\n",
    "            viz[k][3] = k+N-L\n",
    "    return viz"
   ]
  },
  {
   "cell_type": "code",
   "execution_count": 19,
   "metadata": {},
   "outputs": [],
   "source": [
    "@jit(nopython=True)\n",
    "def energy_ising(s, viz):\n",
    "    \"\"\"\n",
    "    Calcula a energia da rede Ising usando os vizinhos de cada sítio.\n",
    "    É importante notar que precisamos apenas dos \n",
    "    vizinhos à direita e acima\n",
    "    \"\"\"\n",
    "    E = 0\n",
    "    N = len(s)\n",
    "    for i in range(N):\n",
    "        right = viz[i][0]\n",
    "        up = viz[i][1]\n",
    "        h = s[right] + s[up]\n",
    "        E = E - s[i]*h\n",
    "    return E"
   ]
  },
  {
   "cell_type": "markdown",
   "metadata": {},
   "source": [
    "Além desses, temos também algoritmos para achar o mínimo de um vetor, desconsiderando o segundo e o último itens, para escalar a energia com base na equação fornecida no enunciado e para gerar uma configuração aleatória para o sistema"
   ]
  },
  {
   "cell_type": "code",
   "execution_count": 20,
   "metadata": {},
   "outputs": [],
   "source": [
    "@jit(nopython=True)\n",
    "def sub_min(H):\n",
    "    \"\"\"\n",
    "    Retorna o mínimo do vetor H, ignorando o segundo e penúltimo itens\n",
    "    \"\"\"\n",
    "    n = len(H)\n",
    "    menor = H[0]\n",
    "    for i in range(n):\n",
    "        if (i == 1 or i == n-2):\n",
    "            continue\n",
    "        if (H[i] < menor):\n",
    "            menor = H[i]\n",
    "    return menor"
   ]
  },
  {
   "cell_type": "code",
   "execution_count": 21,
   "metadata": {},
   "outputs": [],
   "source": [
    "@jit(nopython=True)\n",
    "def energy_scale(N,E):\n",
    "    \"\"\"\n",
    "    Escala os valores de energia para que fiquem entre 0 e N \n",
    "    ao invés de -2N até 2N\n",
    "    \"\"\"\n",
    "    E = E+2*N\n",
    "    E = E/4\n",
    "    if (int(E) - E > 0):\n",
    "        print(\"Energia não inteira pós escala!\")\n",
    "    return int(E)"
   ]
  },
  {
   "cell_type": "code",
   "execution_count": 22,
   "metadata": {},
   "outputs": [],
   "source": [
    "@jit(nopython=True)\n",
    "def random_energy_state(N):\n",
    "    \"\"\"\n",
    "    Gera um estado aleatório de energia\n",
    "    \"\"\"\n",
    "    s = []\n",
    "    # De 0 a N-1\n",
    "    for i in range(N):\n",
    "        s.append(np.sign(2*np.random.random()-1))\n",
    "    s = np.array(s)\n",
    "    return s"
   ]
  },
  {
   "cell_type": "code",
   "execution_count": 23,
   "metadata": {},
   "outputs": [
    {
     "data": {
      "text/plain": [
       "-4.0"
      ]
     },
     "execution_count": 23,
     "metadata": {},
     "output_type": "execute_result"
    }
   ],
   "source": [
    "N = 36\n",
    "s = random_energy_state(N)\n",
    "viz = neighbours(N,np.sqrt(N))\n",
    "E = energy_ising(s,viz)\n",
    "# E = energy_scale(N,E)\n",
    "# lnG, mmicro = wang_landau(N, E, s)\n",
    "E"
   ]
  },
  {
   "cell_type": "markdown",
   "metadata": {},
   "source": [
    "## Algoritmo\n",
    "Implementação do algoritmo de Wang-Landau, tendo como base o algoritmo visto em aula e também o pseudocódigo do enunciado"
   ]
  },
  {
   "cell_type": "code",
   "execution_count": 24,
   "metadata": {},
   "outputs": [],
   "source": [
    "@jit(nopython=True)\n",
    "def wang_landau(N, E, s):\n",
    "    \"\"\"\n",
    "    Algoritmo de Wang-Landau para estimativa da densidade de estados g(E)\n",
    "    \"\"\"\n",
    "    # Inicialização arrays, de 0 a N, inclusive\n",
    "    lnG = np.zeros(N+1, dtype=np.float64)\n",
    "    H = np.zeros(N+1, dtype=np.int64)\n",
    "    Hc = np.zeros(N+1, dtype=np.int64)\n",
    "    mmicro = np.zeros(N+1, dtype=np.float64)\n",
    "    \n",
    "    # Variáveis do Loop Principal\n",
    "    lnf = 1.0\n",
    "    flat = False\n",
    "    m = s.sum()\n",
    "    for i in range(10**7):\n",
    "        for j in range(N):\n",
    "            # Escolhe um sítio aleatório\n",
    "#             rng = np.random.default_rng()\n",
    "            k = np.random.randint(N)\n",
    "            \n",
    "            # Soma sobre os vizinhos de k\n",
    "            h = 0\n",
    "            for v_idx in viz[k]:\n",
    "                h += s[v_idx]\n",
    "            \n",
    "            # Energia desse novo estado\n",
    "            E2 = E + s[k]*h/2\n",
    "            if (int(E2) - E2 > 0): print(\"Energia não inteira pós iteração!\")\n",
    "            E2 = int(E2)\n",
    "\n",
    "            # Economizar algumas exponenciais\n",
    "            if lnG[E] > lnG[E2]:\n",
    "                # Faz a troca\n",
    "                s[k] = -s[k]\n",
    "                E = E2\n",
    "                m = m - 2*s[k]\n",
    "            else:\n",
    "#                 rng = np.random.default_rng()\n",
    "                P = np.exp(lnG[E] - lnG[E2])\n",
    "                if (np.random.random() < P):\n",
    "                    # Faz a troca\n",
    "                    s[k] = -s[k]\n",
    "                    E = E2\n",
    "                    m = m - 2*s[k]\n",
    "            H[E] = H[E] + 1\n",
    "            lnG[E] = lnG[E] + lnf\n",
    "            ## Usando o abs no mmicro (?)\n",
    "            mmicro[E] = mmicro[E] + m\n",
    "            \n",
    "        if (i % 1000 == 0):\n",
    "            hmed = np.sum(H)/(N-1)\n",
    "            hmin = sub_min(H)\n",
    "            \n",
    "#             print(f\"H={H}, Hc={Hc}, lnf={lnf}\")\n",
    "#             print(f\"hmed={round(hmed,2)}, hmin={round(hmin,2)}, \"+\n",
    "#                   f\"flat_condition:{round(hmin,2)}>{round(0.8*hmed,2)}, \"+\n",
    "#                   f\"i={i}, lnf={lnf}\")\n",
    "            print(round(hmed,2),round(hmin,2),round(hmin,2),\n",
    "                  round(0.8*hmed,2), i, lnf)\n",
    "\n",
    "            if (hmin > 0.8*hmed):\n",
    "                Hc = H.copy()\n",
    "                H = np.zeros(N+1, dtype=np.int64)\n",
    "                lnf = lnf/2\n",
    "        if (lnf < 10**-8):\n",
    "            break\n",
    "    mmicro = mmicro/Hc\n",
    "    lnG0 = lnG[0]\n",
    "    lnG = lnG - lnG0 + np.log(2)\n",
    "    return lnG, mmicro"
   ]
  },
  {
   "cell_type": "markdown",
   "metadata": {},
   "source": [
    "### Rede 6x6"
   ]
  },
  {
   "cell_type": "markdown",
   "metadata": {},
   "source": [
    "Nesse momento, vamos executar o algoritmo para a rede 6x6, a qual não foi possível de forma exata em tempo hábil na atividade anterior."
   ]
  },
  {
   "cell_type": "code",
   "execution_count": 25,
   "metadata": {
    "scrolled": true
   },
   "outputs": [
    {
     "name": "stdout",
     "output_type": "stream",
     "text": [
      "1.03 0.0 0.0 0.82 0 1.0\n",
      "1029.6 932.0 932.0 823.68 1000 1.0\n",
      "1028.57 978.0 978.0 822.86 2000 0.5\n",
      "1028.57 964.0 964.0 822.86 3000 0.25\n",
      "1028.57 963.0 963.0 822.86 4000 0.125\n",
      "1028.57 923.0 923.0 822.86 5000 0.0625\n",
      "1028.57 968.0 968.0 822.86 6000 0.03125\n",
      "1028.57 884.0 884.0 822.86 7000 0.015625\n",
      "1028.57 889.0 889.0 822.86 8000 0.0078125\n",
      "1028.57 641.0 641.0 822.86 9000 0.00390625\n",
      "2057.14 1861.0 1861.0 1645.71 10000 0.00390625\n",
      "1028.57 518.0 518.0 822.86 11000 0.001953125\n",
      "2057.14 1532.0 1532.0 1645.71 12000 0.001953125\n",
      "3085.71 2641.0 2641.0 2468.57 13000 0.001953125\n",
      "1028.57 573.0 573.0 822.86 14000 0.0009765625\n",
      "2057.14 1384.0 1384.0 1645.71 15000 0.0009765625\n",
      "3085.71 2394.0 2394.0 2468.57 16000 0.0009765625\n",
      "4114.29 3558.0 3558.0 3291.43 17000 0.0009765625\n",
      "1028.57 484.0 484.0 822.86 18000 0.00048828125\n",
      "2057.14 1532.0 1532.0 1645.71 19000 0.00048828125\n",
      "3085.71 2797.0 2797.0 2468.57 20000 0.00048828125\n",
      "1028.57 563.0 563.0 822.86 21000 0.000244140625\n",
      "2057.14 1553.0 1553.0 1645.71 22000 0.000244140625\n",
      "3085.71 2411.0 2411.0 2468.57 23000 0.000244140625\n",
      "4114.29 3481.0 3481.0 3291.43 24000 0.000244140625\n",
      "1028.57 593.0 593.0 822.86 25000 0.0001220703125\n",
      "2057.14 1567.0 1567.0 1645.71 26000 0.0001220703125\n",
      "3085.71 2444.0 2444.0 2468.57 27000 0.0001220703125\n",
      "4114.29 3220.0 3220.0 3291.43 28000 0.0001220703125\n",
      "5142.86 4084.0 4084.0 4114.29 29000 0.0001220703125\n",
      "6171.43 5075.0 5075.0 4937.14 30000 0.0001220703125\n",
      "1028.57 478.0 478.0 822.86 31000 6.103515625e-05\n",
      "2057.14 959.0 959.0 1645.71 32000 6.103515625e-05\n",
      "3085.71 1728.0 1728.0 2468.57 33000 6.103515625e-05\n",
      "4114.29 2734.0 2734.0 3291.43 34000 6.103515625e-05\n",
      "5142.86 3544.0 3544.0 4114.29 35000 6.103515625e-05\n",
      "6171.43 4053.0 4053.0 4937.14 36000 6.103515625e-05\n",
      "7200.0 4801.0 4801.0 5760.0 37000 6.103515625e-05\n",
      "8228.57 6511.0 6511.0 6582.86 38000 6.103515625e-05\n",
      "9257.14 7128.0 7128.0 7405.71 39000 6.103515625e-05\n",
      "10285.71 7674.0 7674.0 8228.57 40000 6.103515625e-05\n",
      "11314.29 8306.0 8306.0 9051.43 41000 6.103515625e-05\n",
      "12342.86 8681.0 8681.0 9874.29 42000 6.103515625e-05\n",
      "13371.43 10377.0 10377.0 10697.14 43000 6.103515625e-05\n",
      "14400.0 11149.0 11149.0 11520.0 44000 6.103515625e-05\n",
      "15428.57 12208.0 12208.0 12342.86 45000 6.103515625e-05\n",
      "16457.14 13915.0 13915.0 13165.71 46000 6.103515625e-05\n",
      "1028.57 471.0 471.0 822.86 47000 3.0517578125e-05\n",
      "2057.14 1112.0 1112.0 1645.71 48000 3.0517578125e-05\n",
      "3085.71 1430.0 1430.0 2468.57 49000 3.0517578125e-05\n",
      "4114.29 2304.0 2304.0 3291.43 50000 3.0517578125e-05\n",
      "5142.86 2602.0 2602.0 4114.29 51000 3.0517578125e-05\n",
      "6171.43 3579.0 3579.0 4937.14 52000 3.0517578125e-05\n",
      "7200.0 4458.0 4458.0 5760.0 53000 3.0517578125e-05\n",
      "8228.57 6392.0 6392.0 6582.86 54000 3.0517578125e-05\n",
      "9257.14 7660.0 7660.0 7405.71 55000 3.0517578125e-05\n",
      "1028.57 374.0 374.0 822.86 56000 1.52587890625e-05\n",
      "2057.14 1194.0 1194.0 1645.71 57000 1.52587890625e-05\n",
      "3085.71 1944.0 1944.0 2468.57 58000 1.52587890625e-05\n",
      "4114.29 2713.0 2713.0 3291.43 59000 1.52587890625e-05\n",
      "5142.86 3111.0 3111.0 4114.29 60000 1.52587890625e-05\n",
      "6171.43 4151.0 4151.0 4937.14 61000 1.52587890625e-05\n",
      "7200.0 4352.0 4352.0 5760.0 62000 1.52587890625e-05\n",
      "8228.57 5105.0 5105.0 6582.86 63000 1.52587890625e-05\n",
      "9257.14 6520.0 6520.0 7405.71 64000 1.52587890625e-05\n",
      "10285.71 7894.0 7894.0 8228.57 65000 1.52587890625e-05\n",
      "11314.29 9703.0 9703.0 9051.43 66000 1.52587890625e-05\n",
      "1028.57 494.0 494.0 822.86 67000 7.62939453125e-06\n",
      "2057.14 1366.0 1366.0 1645.71 68000 7.62939453125e-06\n",
      "3085.71 2377.0 2377.0 2468.57 69000 7.62939453125e-06\n",
      "4114.29 3324.0 3324.0 3291.43 70000 7.62939453125e-06\n",
      "1028.57 558.0 558.0 822.86 71000 3.814697265625e-06\n",
      "2057.14 1492.0 1492.0 1645.71 72000 3.814697265625e-06\n",
      "3085.71 2538.0 2538.0 2468.57 73000 3.814697265625e-06\n",
      "1028.57 704.0 704.0 822.86 74000 1.9073486328125e-06\n",
      "2057.14 1572.0 1572.0 1645.71 75000 1.9073486328125e-06\n",
      "3085.71 2586.0 2586.0 2468.57 76000 1.9073486328125e-06\n",
      "1028.57 775.0 775.0 822.86 77000 9.5367431640625e-07\n",
      "2057.14 1579.0 1579.0 1645.71 78000 9.5367431640625e-07\n",
      "3085.71 2241.0 2241.0 2468.57 79000 9.5367431640625e-07\n",
      "4114.29 3379.0 3379.0 3291.43 80000 9.5367431640625e-07\n",
      "1028.57 208.0 208.0 822.86 81000 4.76837158203125e-07\n",
      "2057.14 934.0 934.0 1645.71 82000 4.76837158203125e-07\n",
      "3085.71 1436.0 1436.0 2468.57 83000 4.76837158203125e-07\n",
      "4114.29 2312.0 2312.0 3291.43 84000 4.76837158203125e-07\n",
      "5142.86 2792.0 2792.0 4114.29 85000 4.76837158203125e-07\n",
      "6171.43 3371.0 3371.0 4937.14 86000 4.76837158203125e-07\n",
      "7200.0 4174.0 4174.0 5760.0 87000 4.76837158203125e-07\n",
      "8228.57 5000.0 5000.0 6582.86 88000 4.76837158203125e-07\n",
      "9257.14 5960.0 5960.0 7405.71 89000 4.76837158203125e-07\n",
      "10285.71 6144.0 6144.0 8228.57 90000 4.76837158203125e-07\n",
      "11314.29 7393.0 7393.0 9051.43 91000 4.76837158203125e-07\n",
      "12342.86 8545.0 8545.0 9874.29 92000 4.76837158203125e-07\n",
      "13371.43 9464.0 9464.0 10697.14 93000 4.76837158203125e-07\n",
      "14400.0 10750.0 10750.0 11520.0 94000 4.76837158203125e-07\n",
      "15428.57 11947.0 11947.0 12342.86 95000 4.76837158203125e-07\n",
      "16457.14 12166.0 12166.0 13165.71 96000 4.76837158203125e-07\n",
      "17485.71 12873.0 12873.0 13988.57 97000 4.76837158203125e-07\n",
      "18514.29 14852.0 14852.0 14811.43 98000 4.76837158203125e-07\n",
      "1028.57 741.0 741.0 822.86 99000 2.384185791015625e-07\n",
      "2057.14 1246.0 1246.0 1645.71 100000 2.384185791015625e-07\n",
      "3085.71 2529.0 2529.0 2468.57 101000 2.384185791015625e-07\n",
      "1028.57 336.0 336.0 822.86 102000 1.1920928955078125e-07\n",
      "2057.14 1492.0 1492.0 1645.71 103000 1.1920928955078125e-07\n",
      "3085.71 1550.0 1550.0 2468.57 104000 1.1920928955078125e-07\n",
      "4114.29 2766.0 2766.0 3291.43 105000 1.1920928955078125e-07\n",
      "5142.86 3977.0 3977.0 4114.29 106000 1.1920928955078125e-07\n",
      "6171.43 4975.0 4975.0 4937.14 107000 1.1920928955078125e-07\n",
      "1028.57 469.0 469.0 822.86 108000 5.960464477539063e-08\n",
      "2057.14 1431.0 1431.0 1645.71 109000 5.960464477539063e-08\n",
      "3085.71 2311.0 2311.0 2468.57 110000 5.960464477539063e-08\n",
      "4114.29 3085.0 3085.0 3291.43 111000 5.960464477539063e-08\n",
      "5142.86 4122.0 4122.0 4114.29 112000 5.960464477539063e-08\n",
      "1028.57 428.0 428.0 822.86 113000 2.9802322387695312e-08\n",
      "2057.14 1661.0 1661.0 1645.71 114000 2.9802322387695312e-08\n",
      "1028.57 523.0 523.0 822.86 115000 1.4901161193847656e-08\n",
      "2057.14 971.0 971.0 1645.71 116000 1.4901161193847656e-08\n",
      "3085.71 2015.0 2015.0 2468.57 117000 1.4901161193847656e-08\n",
      "4114.29 2575.0 2575.0 3291.43 118000 1.4901161193847656e-08\n",
      "5142.86 3341.0 3341.0 4114.29 119000 1.4901161193847656e-08\n",
      "6171.43 4047.0 4047.0 4937.14 120000 1.4901161193847656e-08\n",
      "7200.0 4761.0 4761.0 5760.0 121000 1.4901161193847656e-08\n",
      "8228.57 5371.0 5371.0 6582.86 122000 1.4901161193847656e-08\n",
      "9257.14 6277.0 6277.0 7405.71 123000 1.4901161193847656e-08\n",
      "10285.71 6694.0 6694.0 8228.57 124000 1.4901161193847656e-08\n",
      "11314.29 7723.0 7723.0 9051.43 125000 1.4901161193847656e-08\n",
      "12342.86 8367.0 8367.0 9874.29 126000 1.4901161193847656e-08\n",
      "13371.43 9483.0 9483.0 10697.14 127000 1.4901161193847656e-08\n",
      "14400.0 10950.0 10950.0 11520.0 128000 1.4901161193847656e-08\n",
      "15428.57 12680.0 12680.0 12342.86 129000 1.4901161193847656e-08\n"
     ]
    }
   ],
   "source": [
    "N = 36\n",
    "s = random_energy_state(N)\n",
    "viz = neighbours(N,np.sqrt(N))\n",
    "E = energy_ising(s,viz)\n",
    "E = energy_scale(N,E)\n",
    "lnG, mmicro = wang_landau(N, E, s)"
   ]
  },
  {
   "cell_type": "markdown",
   "metadata": {},
   "source": [
    "É possível comparar os resultados (após tomarmos a exponencial) com os dados obtidos de forma exata manualmente anteriormente."
   ]
  },
  {
   "cell_type": "code",
   "execution_count": 26,
   "metadata": {},
   "outputs": [
    {
     "data": {
      "text/plain": [
       "array([ 6.93147181e-01, -2.05850510e+03,  4.29915975e+00,  4.98911252e+00,\n",
       "        7.42057881e+00,  8.72623922e+00,  1.04889996e+01,  1.20045184e+01,\n",
       "        1.36179501e+01,  1.51833401e+01,  1.67002407e+01,  1.81158441e+01,\n",
       "        1.94101114e+01,  2.05359288e+01,  2.15197909e+01,  2.22720567e+01,\n",
       "        2.28499395e+01,  2.32010696e+01,  2.33020651e+01,  2.31867170e+01,\n",
       "        2.28364093e+01,  2.22817446e+01,  2.14987891e+01,  2.05435968e+01,\n",
       "        1.94102790e+01,  1.81156173e+01,  1.66799844e+01,  1.51675738e+01,\n",
       "        1.36128318e+01,  1.19887774e+01,  1.04966173e+01,  8.74042618e+00,\n",
       "        7.42264989e+00,  5.05104217e+00,  4.34752713e+00, -2.05850510e+03,\n",
       "        7.53078042e-01])"
      ]
     },
     "execution_count": 26,
     "metadata": {},
     "output_type": "execute_result"
    }
   ],
   "source": [
    "lnG"
   ]
  },
  {
   "cell_type": "code",
   "execution_count": 27,
   "metadata": {
    "scrolled": true
   },
   "outputs": [],
   "source": [
    "# Escalando as energias da solução exata para comparação\n",
    "# Carregando do arquivo\n",
    "import pickle\n",
    "# 6x6\n",
    "L = 6\n",
    "N = L**2\n",
    "g6 = None\n",
    "with open(f\"rede{L}x{L}.dict\", \"rb\") as f:\n",
    "    g6 = pickle.load(f)\n",
    "\n",
    "# Escalando-os usando a equação \n",
    "g6_scaled = np.zeros(N+1, dtype=np.float64)\n",
    "for key,val in g6.items():\n",
    "    i = energy_scale(N,key)\n",
    "    g6_scaled[i] = val"
   ]
  },
  {
   "cell_type": "code",
   "execution_count": 28,
   "metadata": {},
   "outputs": [
    {
     "data": {
      "text/plain": [
       "<matplotlib.legend.Legend at 0x7fc628352c70>"
      ]
     },
     "execution_count": 28,
     "metadata": {},
     "output_type": "execute_result"
    },
    {
     "data": {
      "image/png": "[encoded data removed]",
      "text/plain": [
       "<Figure size 432x288 with 1 Axes>"
      ]
     },
     "metadata": {
      "needs_background": "light"
     },
     "output_type": "display_data"
    }
   ],
   "source": [
    "plt.plot(np.exp(lnG))\n",
    "plt.plot(g6_scaled)\n",
    "plt.legend([\"Wang-Landau\",\"Exato\"])"
   ]
  },
  {
   "cell_type": "markdown",
   "metadata": {},
   "source": [
    "## Propriedades Termodinâmicas\n",
    "Agora, temos que adaptar os algoritmos que obtêm as propriedades termodinâmicas para utilizar o logaritmo de $g(E)$ ao invés do valor em si."
   ]
  },
  {
   "cell_type": "code",
   "execution_count": 29,
   "metadata": {},
   "outputs": [],
   "source": [
    "def media_termo(lnG, N, beta):\n",
    "    \"\"\"\n",
    "    Obtém as propriedades termodinâmicas a uma dada temperatura (com inverso beta),\n",
    "    dada o logaritmo de energias por configuração (lnG)\n",
    "    \"\"\"\n",
    "    Z = 0\n",
    "    Em = 0\n",
    "    Em2 = 0\n",
    "    \n",
    "    Emin = energy_scale(N,-2*N)\n",
    "    Emax = energy_scale(N,2*N)\n",
    "    \n",
    "    for E in range(N):\n",
    "        E1 = E - Emin\n",
    "        Z = Z + np.exp(lnG[E])*np.exp(-beta*E1)\n",
    "        \n",
    "        Em = Em + E1*np.exp(lnG[E])*np.exp(-beta*E1)\n",
    "        Em2 = Em2 + E1*E1*np.exp(lnG[E])*np.exp(-beta*E1)\n",
    "    Em = Em/Z\n",
    "    Em2 = Em2/Z\n",
    "    \n",
    "    Z = Z*np.exp(-beta*Emin)\n",
    "    cv = (beta*beta*(Em2-Em**2))/N\n",
    "    EpS = (Em + Emin)/N\n",
    "    return Z, EpS, cv"
   ]
  },
  {
   "cell_type": "code",
   "execution_count": 30,
   "metadata": {},
   "outputs": [],
   "source": [
    "def energia_livre_spin(Z, N, beta):\n",
    "    \"\"\"\n",
    "    Calcula a energia livre por spin, usando a fórmula do enunciado.\n",
    "    Note que a função np.log é o logaritmo natural.\n",
    "    \"\"\"\n",
    "    result = N * beta\n",
    "    result = -1/result\n",
    "    result = result * np.log(Z)  # np.log é o logaritmo natural\n",
    "    return result"
   ]
  },
  {
   "cell_type": "code",
   "execution_count": 31,
   "metadata": {},
   "outputs": [],
   "source": [
    "def entropia_spin(e_spin, e_livre_spin, temp):\n",
    "    \"\"\"\n",
    "    Calcula a entropia livre por spin, usando a fórmula do enunciado.\n",
    "    Note que utiliza a temperatura e não o inverso dela (beta).\n",
    "    \"\"\"\n",
    "    result = e_spin - e_livre_spin\n",
    "    result = result / temp\n",
    "    return result"
   ]
  },
  {
   "cell_type": "markdown",
   "metadata": {},
   "source": [
    "## Simulações"
   ]
  },
  {
   "cell_type": "code",
   "execution_count": 32,
   "metadata": {},
   "outputs": [],
   "source": [
    "CREATE_ARRAYS = True"
   ]
  },
  {
   "cell_type": "code",
   "execution_count": 33,
   "metadata": {
    "scrolled": true
   },
   "outputs": [
    {
     "name": "stdout",
     "output_type": "stream",
     "text": [
      "1.03 0.0 0.0 0.82 0 1.0\n",
      "1029.6 910.0 910.0 823.68 1000 1.0\n",
      "1028.57 849.0 849.0 822.86 2000 0.5\n",
      "1028.57 872.0 872.0 822.86 3000 0.25\n",
      "1028.57 917.0 917.0 822.86 4000 0.125\n",
      "1028.57 915.0 915.0 822.86 5000 0.0625\n",
      "1028.57 896.0 896.0 822.86 6000 0.03125\n",
      "1028.57 870.0 870.0 822.86 7000 0.015625\n",
      "1028.57 785.0 785.0 822.86 8000 0.0078125\n",
      "2057.14 1849.0 1849.0 1645.71 9000 0.0078125\n",
      "1028.57 804.0 804.0 822.86 10000 0.00390625\n",
      "2057.14 1633.0 1633.0 1645.71 11000 0.00390625\n",
      "3085.71 2799.0 2799.0 2468.57 12000 0.00390625\n",
      "1028.57 781.0 781.0 822.86 13000 0.001953125\n",
      "2057.14 1844.0 1844.0 1645.71 14000 0.001953125\n",
      "1028.57 542.0 542.0 822.86 15000 0.0009765625\n",
      "2057.14 1398.0 1398.0 1645.71 16000 0.0009765625\n",
      "3085.71 2522.0 2522.0 2468.57 17000 0.0009765625\n",
      "1028.57 505.0 505.0 822.86 18000 0.00048828125\n",
      "2057.14 1243.0 1243.0 1645.71 19000 0.00048828125\n",
      "3085.71 2195.0 2195.0 2468.57 20000 0.00048828125\n",
      "4114.29 3013.0 3013.0 3291.43 21000 0.00048828125\n",
      "5142.86 4193.0 4193.0 4114.29 22000 0.00048828125\n",
      "1028.57 167.0 167.0 822.86 23000 0.000244140625\n",
      "2057.14 457.0 457.0 1645.71 24000 0.000244140625\n",
      "3085.71 1622.0 1622.0 2468.57 25000 0.000244140625\n",
      "4114.29 1925.0 1925.0 3291.43 26000 0.000244140625\n",
      "5142.86 2389.0 2389.0 4114.29 27000 0.000244140625\n",
      "6171.43 3066.0 3066.0 4937.14 28000 0.000244140625\n",
      "7200.0 3785.0 3785.0 5760.0 29000 0.000244140625\n",
      "8228.57 4637.0 4637.0 6582.86 30000 0.000244140625\n",
      "9257.14 5465.0 5465.0 7405.71 31000 0.000244140625\n",
      "10285.71 7783.0 7783.0 8228.57 32000 0.000244140625\n",
      "11314.29 8131.0 8131.0 9051.43 33000 0.000244140625\n",
      "12342.86 8813.0 8813.0 9874.29 34000 0.000244140625\n",
      "13371.43 10449.0 10449.0 10697.14 35000 0.000244140625\n",
      "14400.0 11193.0 11193.0 11520.0 36000 0.000244140625\n",
      "15428.57 12087.0 12087.0 12342.86 37000 0.000244140625\n",
      "16457.14 13824.0 13824.0 13165.71 38000 0.000244140625\n",
      "1028.57 348.0 348.0 822.86 39000 0.0001220703125\n",
      "2057.14 1606.0 1606.0 1645.71 40000 0.0001220703125\n",
      "3085.71 2459.0 2459.0 2468.57 41000 0.0001220703125\n",
      "4114.29 2964.0 2964.0 3291.43 42000 0.0001220703125\n",
      "5142.86 4253.0 4253.0 4114.29 43000 0.0001220703125\n",
      "1028.57 687.0 687.0 822.86 44000 6.103515625e-05\n",
      "2057.14 1290.0 1290.0 1645.71 45000 6.103515625e-05\n",
      "3085.71 2526.0 2526.0 2468.57 46000 6.103515625e-05\n",
      "1028.57 441.0 441.0 822.86 47000 3.0517578125e-05\n",
      "2057.14 1679.0 1679.0 1645.71 48000 3.0517578125e-05\n",
      "1028.57 586.0 586.0 822.86 49000 1.52587890625e-05\n",
      "2057.14 1281.0 1281.0 1645.71 50000 1.52587890625e-05\n",
      "3085.71 2181.0 2181.0 2468.57 51000 1.52587890625e-05\n",
      "4114.29 3090.0 3090.0 3291.43 52000 1.52587890625e-05\n",
      "5142.86 3982.0 3982.0 4114.29 53000 1.52587890625e-05\n",
      "6171.43 4905.0 4905.0 4937.14 54000 1.52587890625e-05\n",
      "7200.0 5379.0 5379.0 5760.0 55000 1.52587890625e-05\n",
      "8228.57 6259.0 6259.0 6582.86 56000 1.52587890625e-05\n",
      "9257.14 7321.0 7321.0 7405.71 57000 1.52587890625e-05\n",
      "10285.71 8687.0 8687.0 8228.57 58000 1.52587890625e-05\n",
      "1028.57 539.0 539.0 822.86 59000 7.62939453125e-06\n",
      "2057.14 1256.0 1256.0 1645.71 60000 7.62939453125e-06\n",
      "3085.71 2018.0 2018.0 2468.57 61000 7.62939453125e-06\n",
      "4114.29 2939.0 2939.0 3291.43 62000 7.62939453125e-06\n",
      "5142.86 3818.0 3818.0 4114.29 63000 7.62939453125e-06\n",
      "6171.43 5253.0 5253.0 4937.14 64000 7.62939453125e-06\n",
      "1028.57 766.0 766.0 822.86 65000 3.814697265625e-06\n",
      "2057.14 1618.0 1618.0 1645.71 66000 3.814697265625e-06\n",
      "3085.71 2588.0 2588.0 2468.57 67000 3.814697265625e-06\n",
      "1028.57 648.0 648.0 822.86 68000 1.9073486328125e-06\n",
      "2057.14 1617.0 1617.0 1645.71 69000 1.9073486328125e-06\n",
      "3085.71 2448.0 2448.0 2468.57 70000 1.9073486328125e-06\n",
      "4114.29 3267.0 3267.0 3291.43 71000 1.9073486328125e-06\n",
      "5142.86 4093.0 4093.0 4114.29 72000 1.9073486328125e-06\n",
      "6171.43 4660.0 4660.0 4937.14 73000 1.9073486328125e-06\n",
      "7200.0 5228.0 5228.0 5760.0 74000 1.9073486328125e-06\n",
      "8228.57 6409.0 6409.0 6582.86 75000 1.9073486328125e-06\n",
      "9257.14 7288.0 7288.0 7405.71 76000 1.9073486328125e-06\n",
      "10285.71 8596.0 8596.0 8228.57 77000 1.9073486328125e-06\n",
      "1028.57 318.0 318.0 822.86 78000 9.5367431640625e-07\n",
      "2057.14 1527.0 1527.0 1645.71 79000 9.5367431640625e-07\n",
      "3085.71 2488.0 2488.0 2468.57 80000 9.5367431640625e-07\n",
      "1028.57 447.0 447.0 822.86 81000 4.76837158203125e-07\n",
      "2057.14 1035.0 1035.0 1645.71 82000 4.76837158203125e-07\n",
      "3085.71 1454.0 1454.0 2468.57 83000 4.76837158203125e-07\n",
      "4114.29 2400.0 2400.0 3291.43 84000 4.76837158203125e-07\n",
      "5142.86 3481.0 3481.0 4114.29 85000 4.76837158203125e-07\n",
      "6171.43 4647.0 4647.0 4937.14 86000 4.76837158203125e-07\n",
      "7200.0 5489.0 5489.0 5760.0 87000 4.76837158203125e-07\n",
      "8228.57 6205.0 6205.0 6582.86 88000 4.76837158203125e-07\n",
      "9257.14 7328.0 7328.0 7405.71 89000 4.76837158203125e-07\n",
      "10285.71 8715.0 8715.0 8228.57 90000 4.76837158203125e-07\n",
      "1028.57 315.0 315.0 822.86 91000 2.384185791015625e-07\n",
      "2057.14 1297.0 1297.0 1645.71 92000 2.384185791015625e-07\n",
      "3085.71 2310.0 2310.0 2468.57 93000 2.384185791015625e-07\n",
      "4114.29 3360.0 3360.0 3291.43 94000 2.384185791015625e-07\n",
      "1028.57 453.0 453.0 822.86 95000 1.1920928955078125e-07\n",
      "2057.14 1370.0 1370.0 1645.71 96000 1.1920928955078125e-07\n",
      "3085.71 1609.0 1609.0 2468.57 97000 1.1920928955078125e-07\n",
      "4114.29 2861.0 2861.0 3291.43 98000 1.1920928955078125e-07\n",
      "5142.86 4255.0 4255.0 4114.29 99000 1.1920928955078125e-07\n",
      "1028.57 786.0 786.0 822.86 100000 5.960464477539063e-08\n",
      "2057.14 1703.0 1703.0 1645.71 101000 5.960464477539063e-08\n",
      "1028.57 476.0 476.0 822.86 102000 2.9802322387695312e-08\n",
      "2057.14 814.0 814.0 1645.71 103000 2.9802322387695312e-08\n",
      "3085.71 1403.0 1403.0 2468.57 104000 2.9802322387695312e-08\n",
      "4114.29 2170.0 2170.0 3291.43 105000 2.9802322387695312e-08\n",
      "5142.86 2988.0 2988.0 4114.29 106000 2.9802322387695312e-08\n",
      "6171.43 4173.0 4173.0 4937.14 107000 2.9802322387695312e-08\n",
      "7200.0 5305.0 5305.0 5760.0 108000 2.9802322387695312e-08\n",
      "8228.57 6383.0 6383.0 6582.86 109000 2.9802322387695312e-08\n",
      "9257.14 7031.0 7031.0 7405.71 110000 2.9802322387695312e-08\n",
      "10285.71 7329.0 7329.0 8228.57 111000 2.9802322387695312e-08\n",
      "11314.29 7662.0 7662.0 9051.43 112000 2.9802322387695312e-08\n",
      "12342.86 8714.0 8714.0 9874.29 113000 2.9802322387695312e-08\n",
      "13371.43 9312.0 9312.0 10697.14 114000 2.9802322387695312e-08\n",
      "14400.0 10293.0 10293.0 11520.0 115000 2.9802322387695312e-08\n",
      "15428.57 12048.0 12048.0 12342.86 116000 2.9802322387695312e-08\n",
      "16457.14 13329.0 13329.0 13165.71 117000 2.9802322387695312e-08\n",
      "1028.57 610.0 610.0 822.86 118000 1.4901161193847656e-08\n",
      "2057.14 1452.0 1452.0 1645.71 119000 1.4901161193847656e-08\n",
      "3085.71 2212.0 2212.0 2468.57 120000 1.4901161193847656e-08\n",
      "4114.29 3267.0 3267.0 3291.43 121000 1.4901161193847656e-08\n",
      "5142.86 4019.0 4019.0 4114.29 122000 1.4901161193847656e-08\n",
      "6171.43 4959.0 4959.0 4937.14 123000 1.4901161193847656e-08\n",
      "Criado rede 6x6\n"
     ]
    }
   ],
   "source": [
    "L = 6\n",
    "N = L**2\n",
    "\n",
    "if CREATE_ARRAYS:\n",
    "    s = random_energy_state(N)\n",
    "    viz = neighbours(N,np.sqrt(N))\n",
    "    E = energy_ising(s,viz)\n",
    "    E = energy_scale(N,E)\n",
    "    lg6, mmicro6 = wang_landau(N, E, s)\n",
    "    with open(f\"wang{L}x{L}.dict\", \"wb\") as f:\n",
    "        pickle.dump(lg6, f)\n",
    "    with open(f\"mag{L}x{L}.dict\", \"wb\") as f:\n",
    "        pickle.dump(mmicro6, f)\n",
    "    print(f\"Criado rede {L}x{L}\")\n",
    "else:\n",
    "    lg6 = None\n",
    "    mmicro6 = None\n",
    "    with open(f\"wang{L}x{L}.dict\", \"rb\") as f:\n",
    "        lg6 = pickle.load(f)\n",
    "    with open(f\"mag{L}x{L}.dict\", \"wb\") as f:\n",
    "        mmicro6 = pickle.load(f)"
   ]
  },
  {
   "cell_type": "code",
   "execution_count": null,
   "metadata": {
    "scrolled": true
   },
   "outputs": [],
   "source": [
    "L = 12\n",
    "N = L**2\n",
    "\n",
    "if CREATE_ARRAYS:\n",
    "    s = random_energy_state(N)\n",
    "    viz = neighbours(N,np.sqrt(N))\n",
    "    E = energy_ising(s,viz)\n",
    "    E = energy_scale(N,E)\n",
    "    lg12, mmicro12 = wang_landau(N, E, s)\n",
    "    print(\"Aqui\")\n",
    "    with open(f\"wang{L}x{L}.dict\", \"wb\") as f:\n",
    "        pickle.dump(lg12, f)\n",
    "    with open(f\"mag{L}x{L}.dict\", \"wb\") as f:\n",
    "        pickle.dump(mmicro12, f)\n",
    "    print(f\"Criado rede {L}x{L}\")\n",
    "else:\n",
    "    lg12 = None\n",
    "    mmicro12 = None\n",
    "    with open(f\"wang{L}x{L}.dict\", \"rb\") as f:\n",
    "        lg12 = pickle.load(f)\n",
    "    with open(f\"mag{L}x{L}.dict\", \"wb\") as f:\n",
    "        mmicro12 = pickle.load(f)"
   ]
  },
  {
   "cell_type": "code",
   "execution_count": 48,
   "metadata": {},
   "outputs": [
    {
     "ename": "NameError",
     "evalue": "name 'CREATE_ARRAYS' is not defined",
     "output_type": "error",
     "traceback": [
      "\u001b[0;31m---------------------------------------------------------------------------\u001b[0m",
      "\u001b[0;31mNameError\u001b[0m                                 Traceback (most recent call last)",
      "\u001b[0;32m<ipython-input-48-df0c7a1e4b3e>\u001b[0m in \u001b[0;36m<module>\u001b[0;34m\u001b[0m\n\u001b[1;32m      2\u001b[0m \u001b[0mN\u001b[0m \u001b[0;34m=\u001b[0m \u001b[0mL\u001b[0m\u001b[0;34m**\u001b[0m\u001b[0;36m2\u001b[0m\u001b[0;34m\u001b[0m\u001b[0;34m\u001b[0m\u001b[0m\n\u001b[1;32m      3\u001b[0m \u001b[0;34m\u001b[0m\u001b[0m\n\u001b[0;32m----> 4\u001b[0;31m \u001b[0;32mif\u001b[0m \u001b[0mCREATE_ARRAYS\u001b[0m\u001b[0;34m:\u001b[0m\u001b[0;34m\u001b[0m\u001b[0;34m\u001b[0m\u001b[0m\n\u001b[0m\u001b[1;32m      5\u001b[0m     \u001b[0ms\u001b[0m \u001b[0;34m=\u001b[0m \u001b[0mrandom_energy_state\u001b[0m\u001b[0;34m(\u001b[0m\u001b[0mN\u001b[0m\u001b[0;34m)\u001b[0m\u001b[0;34m\u001b[0m\u001b[0;34m\u001b[0m\u001b[0m\n\u001b[1;32m      6\u001b[0m     \u001b[0mviz\u001b[0m \u001b[0;34m=\u001b[0m \u001b[0mneighbours\u001b[0m\u001b[0;34m(\u001b[0m\u001b[0mN\u001b[0m\u001b[0;34m,\u001b[0m\u001b[0mnp\u001b[0m\u001b[0;34m.\u001b[0m\u001b[0msqrt\u001b[0m\u001b[0;34m(\u001b[0m\u001b[0mN\u001b[0m\u001b[0;34m)\u001b[0m\u001b[0;34m)\u001b[0m\u001b[0;34m\u001b[0m\u001b[0;34m\u001b[0m\u001b[0m\n",
      "\u001b[0;31mNameError\u001b[0m: name 'CREATE_ARRAYS' is not defined"
     ]
    }
   ],
   "source": [
    "L = 18\n",
    "N = L**2\n",
    "\n",
    "if CREATE_ARRAYS:\n",
    "    s = random_energy_state(N)\n",
    "    viz = neighbours(N,np.sqrt(N))\n",
    "    E = energy_ising(s,viz)\n",
    "    E = energy_scale(N,E)\n",
    "    lg18, mmicro18 = wang_landau(N, E, s)\n",
    "    with open(f\"wang{L}x{L}.dict\", \"wb\") as f:\n",
    "        pickle.dump(lg18, f)\n",
    "    with open(f\"mag{L}x{L}.dict\", \"wb\") as f:\n",
    "        pickle.dump(mmicro18, f)\n",
    "    print(f\"Criado rede {L}x{L}\")\n",
    "else:\n",
    "    lg18 = None\n",
    "    mmicro18 = None\n",
    "    with open(f\"wang{L}x{L}.dict\", \"rb\") as f:\n",
    "        lg18 = pickle.load(f)\n",
    "    with open(f\"mag{L}x{L}.dict\", \"wb\") as f:\n",
    "        mmicro18 = pickle.load(f)"
   ]
  },
  {
   "cell_type": "code",
   "execution_count": 79,
   "metadata": {},
   "outputs": [
    {
     "data": {
      "text/plain": [
       "array([ 2.        ,  0.        , 11.88402237,  0.        ,  1.95488067])"
      ]
     },
     "execution_count": 79,
     "metadata": {},
     "output_type": "execute_result"
    }
   ],
   "source": [
    "np.exp(lg2)"
   ]
  },
  {
   "cell_type": "code",
   "execution_count": 71,
   "metadata": {
    "scrolled": true
   },
   "outputs": [
    {
     "name": "stdout",
     "output_type": "stream",
     "text": [
      "hmed=1.07, hmin=0, flat_condition:0>0.85, i=0, lnf=1.0\n",
      "hmed=1067.73, hmin=1038, flat_condition:1038>854.19, i=1000, lnf=1.0\n",
      "hmed=1066.67, hmin=1036, flat_condition:1036>853.33, i=2000, lnf=0.5\n",
      "hmed=1066.67, hmin=1047, flat_condition:1047>853.33, i=3000, lnf=0.25\n",
      "hmed=1066.67, hmin=1026, flat_condition:1026>853.33, i=4000, lnf=0.125\n",
      "hmed=1066.67, hmin=1023, flat_condition:1023>853.33, i=5000, lnf=0.0625\n",
      "hmed=1066.67, hmin=1030, flat_condition:1030>853.33, i=6000, lnf=0.03125\n",
      "hmed=1066.67, hmin=896, flat_condition:896>853.33, i=7000, lnf=0.015625\n",
      "hmed=1066.67, hmin=979, flat_condition:979>853.33, i=8000, lnf=0.0078125\n",
      "hmed=1066.67, hmin=967, flat_condition:967>853.33, i=9000, lnf=0.00390625\n",
      "hmed=1066.67, hmin=808, flat_condition:808>853.33, i=10000, lnf=0.001953125\n",
      "hmed=2133.33, hmin=1937, flat_condition:1937>1706.67, i=11000, lnf=0.001953125\n",
      "hmed=1066.67, hmin=845, flat_condition:845>853.33, i=12000, lnf=0.0009765625\n",
      "hmed=2133.33, hmin=1790, flat_condition:1790>1706.67, i=13000, lnf=0.0009765625\n",
      "hmed=1066.67, hmin=829, flat_condition:829>853.33, i=14000, lnf=0.00048828125\n",
      "hmed=2133.33, hmin=1827, flat_condition:1827>1706.67, i=15000, lnf=0.00048828125\n",
      "hmed=1066.67, hmin=568, flat_condition:568>853.33, i=16000, lnf=0.000244140625\n",
      "hmed=2133.33, hmin=1588, flat_condition:1588>1706.67, i=17000, lnf=0.000244140625\n",
      "hmed=3200.0, hmin=2732, flat_condition:2732>2560.0, i=18000, lnf=0.000244140625\n",
      "hmed=1066.67, hmin=872, flat_condition:872>853.33, i=19000, lnf=0.0001220703125\n",
      "hmed=1066.67, hmin=789, flat_condition:789>853.33, i=20000, lnf=6.103515625e-05\n",
      "hmed=2133.33, hmin=1675, flat_condition:1675>1706.67, i=21000, lnf=6.103515625e-05\n",
      "hmed=3200.0, hmin=2769, flat_condition:2769>2560.0, i=22000, lnf=6.103515625e-05\n",
      "hmed=1066.67, hmin=773, flat_condition:773>853.33, i=23000, lnf=3.0517578125e-05\n",
      "hmed=2133.33, hmin=1709, flat_condition:1709>1706.67, i=24000, lnf=3.0517578125e-05\n",
      "hmed=1066.67, hmin=865, flat_condition:865>853.33, i=25000, lnf=1.52587890625e-05\n",
      "hmed=1066.67, hmin=773, flat_condition:773>853.33, i=26000, lnf=7.62939453125e-06\n",
      "hmed=2133.33, hmin=1500, flat_condition:1500>1706.67, i=27000, lnf=7.62939453125e-06\n",
      "hmed=3200.0, hmin=2431, flat_condition:2431>2560.0, i=28000, lnf=7.62939453125e-06\n",
      "hmed=4266.67, hmin=3523, flat_condition:3523>3413.33, i=29000, lnf=7.62939453125e-06\n",
      "hmed=1066.67, hmin=808, flat_condition:808>853.33, i=30000, lnf=3.814697265625e-06\n",
      "hmed=2133.33, hmin=1755, flat_condition:1755>1706.67, i=31000, lnf=3.814697265625e-06\n",
      "hmed=1066.67, hmin=634, flat_condition:634>853.33, i=32000, lnf=1.9073486328125e-06\n",
      "hmed=2133.33, hmin=1670, flat_condition:1670>1706.67, i=33000, lnf=1.9073486328125e-06\n",
      "hmed=3200.0, hmin=2840, flat_condition:2840>2560.0, i=34000, lnf=1.9073486328125e-06\n",
      "hmed=1066.67, hmin=738, flat_condition:738>853.33, i=35000, lnf=9.5367431640625e-07\n",
      "hmed=2133.33, hmin=1525, flat_condition:1525>1706.67, i=36000, lnf=9.5367431640625e-07\n",
      "hmed=3200.0, hmin=2439, flat_condition:2439>2560.0, i=37000, lnf=9.5367431640625e-07\n",
      "hmed=4266.67, hmin=3656, flat_condition:3656>3413.33, i=38000, lnf=9.5367431640625e-07\n",
      "hmed=1066.67, hmin=770, flat_condition:770>853.33, i=39000, lnf=4.76837158203125e-07\n",
      "hmed=2133.33, hmin=1296, flat_condition:1296>1706.67, i=40000, lnf=4.76837158203125e-07\n",
      "hmed=3200.0, hmin=1850, flat_condition:1850>2560.0, i=41000, lnf=4.76837158203125e-07\n",
      "hmed=4266.67, hmin=2926, flat_condition:2926>3413.33, i=42000, lnf=4.76837158203125e-07\n",
      "hmed=5333.33, hmin=3809, flat_condition:3809>4266.67, i=43000, lnf=4.76837158203125e-07\n",
      "hmed=6400.0, hmin=5122, flat_condition:5122>5120.0, i=44000, lnf=4.76837158203125e-07\n",
      "hmed=1066.67, hmin=769, flat_condition:769>853.33, i=45000, lnf=2.384185791015625e-07\n",
      "hmed=2133.33, hmin=1841, flat_condition:1841>1706.67, i=46000, lnf=2.384185791015625e-07\n",
      "hmed=1066.67, hmin=893, flat_condition:893>853.33, i=47000, lnf=1.1920928955078125e-07\n",
      "hmed=1066.67, hmin=804, flat_condition:804>853.33, i=48000, lnf=5.960464477539063e-08\n",
      "hmed=2133.33, hmin=1962, flat_condition:1962>1706.67, i=49000, lnf=5.960464477539063e-08\n",
      "hmed=1066.67, hmin=891, flat_condition:891>853.33, i=50000, lnf=2.9802322387695312e-08\n",
      "hmed=1066.67, hmin=814, flat_condition:814>853.33, i=51000, lnf=1.4901161193847656e-08\n",
      "hmed=2133.33, hmin=1702, flat_condition:1702>1706.67, i=52000, lnf=1.4901161193847656e-08\n",
      "hmed=3200.0, hmin=2665, flat_condition:2665>2560.0, i=53000, lnf=1.4901161193847656e-08\n"
     ]
    },
    {
     "name": "stderr",
     "output_type": "stream",
     "text": [
      "<ipython-input-28-6b9aaef1e1b4>:68: RuntimeWarning: invalid value encountered in true_divide\n",
      "  mmicro = mmicro/Hc\n"
     ]
    }
   ],
   "source": [
    "N = 16\n",
    "s = random_energy_state(N)\n",
    "viz = neighbours(N,np.sqrt(N))\n",
    "E = energy_ising(s,viz)\n",
    "E = energy_scale(N,E)\n",
    "lg4, mmicro4 = wang_landau(N, E, s)"
   ]
  },
  {
   "cell_type": "code",
   "execution_count": 78,
   "metadata": {},
   "outputs": [
    {
     "data": {
      "text/plain": [
       "array([2.00000000e+00, 0.00000000e+00, 3.35853218e+01, 6.79451340e+01,\n",
       "       4.13862716e+02, 1.70490081e+03, 6.77959077e+03, 1.30949052e+04,\n",
       "       2.01693406e+04, 1.36448987e+04, 6.66280603e+03, 1.75141866e+03,\n",
       "       4.33511066e+02, 6.40067749e+01, 3.22210792e+01, 0.00000000e+00,\n",
       "       2.00810964e+00])"
      ]
     },
     "execution_count": 78,
     "metadata": {},
     "output_type": "execute_result"
    }
   ],
   "source": [
    "np.exp(lg4)"
   ]
  },
  {
   "cell_type": "code",
   "execution_count": 41,
   "metadata": {},
   "outputs": [
    {
     "name": "stdout",
     "output_type": "stream",
     "text": [
      "hmed=1.0285714285714285, hmin=0, flat_condition:0>0.8228571428571428\n",
      "hmed=103.88571428571429, hmin=110, flat_condition:110>83.10857142857144\n",
      "H=[  0   0  51  61  70  81  88  93 122 124 126 132 134 136 140 138 145 146\n",
      " 152 148 143 146 142 139 128 121  90  84  77  77  76  71  68  63  65   0\n",
      "  59], Hc=[  0   0  51  61  70  81  88  93 122 124 126 132 134 136 140 138 145 146\n",
      " 152 148 143 146 142 139 128 121  90  84  77  77  76  71  68  63  65   0\n",
      "  59]\n",
      "0.5\n",
      "hmed=102.85714285714286, hmin=0, flat_condition:0>82.28571428571429\n",
      "hmed=205.71428571428572, hmin=0, flat_condition:0>164.57142857142858\n",
      "hmed=308.57142857142856, hmin=1956, flat_condition:1956>246.85714285714286\n",
      "H=[1956    0   37   11   71   11 6547 2026    3   69   51    0    8   10\n",
      "    0    0    0    0    0    0    0    0    0    0    0    0    0    0\n",
      "    0    0    0    0    0    0    0    0    0], Hc=[1956    0   37   11   71   11 6547 2026    3   69   51    0    8   10\n",
      "    0    0    0    0    0    0    0    0    0    0    0    0    0    0\n",
      "    0    0    0    0    0    0    0    0    0]\n",
      "0.25\n",
      "hmed=102.85714285714286, hmin=3600, flat_condition:3600>82.28571428571429\n",
      "H=[3600    0    0    0    0    0    0    0    0    0    0    0    0    0\n",
      "    0    0    0    0    0    0    0    0    0    0    0    0    0    0\n",
      "    0    0    0    0    0    0    0    0    0], Hc=[3600    0    0    0    0    0    0    0    0    0    0    0    0    0\n",
      "    0    0    0    0    0    0    0    0    0    0    0    0    0    0\n",
      "    0    0    0    0    0    0    0    0    0]\n",
      "0.125\n",
      "hmed=102.85714285714286, hmin=3600, flat_condition:3600>82.28571428571429\n",
      "H=[3600    0    0    0    0    0    0    0    0    0    0    0    0    0\n",
      "    0    0    0    0    0    0    0    0    0    0    0    0    0    0\n",
      "    0    0    0    0    0    0    0    0    0], Hc=[3600    0    0    0    0    0    0    0    0    0    0    0    0    0\n",
      "    0    0    0    0    0    0    0    0    0    0    0    0    0    0\n",
      "    0    0    0    0    0    0    0    0    0]\n",
      "0.0625\n",
      "hmed=102.85714285714286, hmin=3600, flat_condition:3600>82.28571428571429\n",
      "H=[3600    0    0    0    0    0    0    0    0    0    0    0    0    0\n",
      "    0    0    0    0    0    0    0    0    0    0    0    0    0    0\n",
      "    0    0    0    0    0    0    0    0    0], Hc=[3600    0    0    0    0    0    0    0    0    0    0    0    0    0\n",
      "    0    0    0    0    0    0    0    0    0    0    0    0    0    0\n",
      "    0    0    0    0    0    0    0    0    0]\n",
      "0.03125\n",
      "hmed=102.85714285714286, hmin=3600, flat_condition:3600>82.28571428571429\n",
      "H=[3600    0    0    0    0    0    0    0    0    0    0    0    0    0\n",
      "    0    0    0    0    0    0    0    0    0    0    0    0    0    0\n",
      "    0    0    0    0    0    0    0    0    0], Hc=[3600    0    0    0    0    0    0    0    0    0    0    0    0    0\n",
      "    0    0    0    0    0    0    0    0    0    0    0    0    0    0\n",
      "    0    0    0    0    0    0    0    0    0]\n",
      "0.015625\n",
      "hmed=102.85714285714286, hmin=3600, flat_condition:3600>82.28571428571429\n",
      "H=[3600    0    0    0    0    0    0    0    0    0    0    0    0    0\n",
      "    0    0    0    0    0    0    0    0    0    0    0    0    0    0\n",
      "    0    0    0    0    0    0    0    0    0], Hc=[3600    0    0    0    0    0    0    0    0    0    0    0    0    0\n",
      "    0    0    0    0    0    0    0    0    0    0    0    0    0    0\n",
      "    0    0    0    0    0    0    0    0    0]\n",
      "0.0078125\n",
      "hmed=102.85714285714286, hmin=3600, flat_condition:3600>82.28571428571429\n",
      "H=[3600    0    0    0    0    0    0    0    0    0    0    0    0    0\n",
      "    0    0    0    0    0    0    0    0    0    0    0    0    0    0\n",
      "    0    0    0    0    0    0    0    0    0], Hc=[3600    0    0    0    0    0    0    0    0    0    0    0    0    0\n",
      "    0    0    0    0    0    0    0    0    0    0    0    0    0    0\n",
      "    0    0    0    0    0    0    0    0    0]\n",
      "0.00390625\n",
      "hmed=102.85714285714286, hmin=3600, flat_condition:3600>82.28571428571429\n",
      "H=[3600    0    0    0    0    0    0    0    0    0    0    0    0    0\n",
      "    0    0    0    0    0    0    0    0    0    0    0    0    0    0\n",
      "    0    0    0    0    0    0    0    0    0], Hc=[3600    0    0    0    0    0    0    0    0    0    0    0    0    0\n",
      "    0    0    0    0    0    0    0    0    0    0    0    0    0    0\n",
      "    0    0    0    0    0    0    0    0    0]\n",
      "0.001953125\n",
      "hmed=102.85714285714286, hmin=3600, flat_condition:3600>82.28571428571429\n",
      "H=[3600    0    0    0    0    0    0    0    0    0    0    0    0    0\n",
      "    0    0    0    0    0    0    0    0    0    0    0    0    0    0\n",
      "    0    0    0    0    0    0    0    0    0], Hc=[3600    0    0    0    0    0    0    0    0    0    0    0    0    0\n",
      "    0    0    0    0    0    0    0    0    0    0    0    0    0    0\n",
      "    0    0    0    0    0    0    0    0    0]\n",
      "0.0009765625\n",
      "hmed=102.85714285714286, hmin=3600, flat_condition:3600>82.28571428571429\n",
      "H=[3600    0    0    0    0    0    0    0    0    0    0    0    0    0\n",
      "    0    0    0    0    0    0    0    0    0    0    0    0    0    0\n",
      "    0    0    0    0    0    0    0    0    0], Hc=[3600    0    0    0    0    0    0    0    0    0    0    0    0    0\n",
      "    0    0    0    0    0    0    0    0    0    0    0    0    0    0\n",
      "    0    0    0    0    0    0    0    0    0]\n",
      "0.00048828125\n",
      "hmed=102.85714285714286, hmin=3600, flat_condition:3600>82.28571428571429\n",
      "H=[3600    0    0    0    0    0    0    0    0    0    0    0    0    0\n",
      "    0    0    0    0    0    0    0    0    0    0    0    0    0    0\n",
      "    0    0    0    0    0    0    0    0    0], Hc=[3600    0    0    0    0    0    0    0    0    0    0    0    0    0\n",
      "    0    0    0    0    0    0    0    0    0    0    0    0    0    0\n",
      "    0    0    0    0    0    0    0    0    0]\n",
      "0.000244140625\n",
      "hmed=102.85714285714286, hmin=3600, flat_condition:3600>82.28571428571429\n",
      "H=[3600    0    0    0    0    0    0    0    0    0    0    0    0    0\n",
      "    0    0    0    0    0    0    0    0    0    0    0    0    0    0\n",
      "    0    0    0    0    0    0    0    0    0], Hc=[3600    0    0    0    0    0    0    0    0    0    0    0    0    0\n",
      "    0    0    0    0    0    0    0    0    0    0    0    0    0    0\n",
      "    0    0    0    0    0    0    0    0    0]\n",
      "0.0001220703125\n",
      "hmed=102.85714285714286, hmin=3600, flat_condition:3600>82.28571428571429\n",
      "H=[3600    0    0    0    0    0    0    0    0    0    0    0    0    0\n",
      "    0    0    0    0    0    0    0    0    0    0    0    0    0    0\n",
      "    0    0    0    0    0    0    0    0    0], Hc=[3600    0    0    0    0    0    0    0    0    0    0    0    0    0\n",
      "    0    0    0    0    0    0    0    0    0    0    0    0    0    0\n",
      "    0    0    0    0    0    0    0    0    0]\n",
      "6.103515625e-05\n",
      "hmed=102.85714285714286, hmin=3600, flat_condition:3600>82.28571428571429\n",
      "H=[3600    0    0    0    0    0    0    0    0    0    0    0    0    0\n",
      "    0    0    0    0    0    0    0    0    0    0    0    0    0    0\n",
      "    0    0    0    0    0    0    0    0    0], Hc=[3600    0    0    0    0    0    0    0    0    0    0    0    0    0\n",
      "    0    0    0    0    0    0    0    0    0    0    0    0    0    0\n",
      "    0    0    0    0    0    0    0    0    0]\n",
      "3.0517578125e-05\n",
      "hmed=102.85714285714286, hmin=3600, flat_condition:3600>82.28571428571429\n",
      "H=[3600    0    0    0    0    0    0    0    0    0    0    0    0    0\n",
      "    0    0    0    0    0    0    0    0    0    0    0    0    0    0\n",
      "    0    0    0    0    0    0    0    0    0], Hc=[3600    0    0    0    0    0    0    0    0    0    0    0    0    0\n",
      "    0    0    0    0    0    0    0    0    0    0    0    0    0    0\n",
      "    0    0    0    0    0    0    0    0    0]\n",
      "1.52587890625e-05\n",
      "hmed=102.85714285714286, hmin=3600, flat_condition:3600>82.28571428571429\n",
      "H=[3600    0    0    0    0    0    0    0    0    0    0    0    0    0\n",
      "    0    0    0    0    0    0    0    0    0    0    0    0    0    0\n",
      "    0    0    0    0    0    0    0    0    0], Hc=[3600    0    0    0    0    0    0    0    0    0    0    0    0    0\n",
      "    0    0    0    0    0    0    0    0    0    0    0    0    0    0\n",
      "    0    0    0    0    0    0    0    0    0]\n",
      "7.62939453125e-06\n",
      "hmed=102.85714285714286, hmin=3600, flat_condition:3600>82.28571428571429\n",
      "H=[3600    0    0    0    0    0    0    0    0    0    0    0    0    0\n",
      "    0    0    0    0    0    0    0    0    0    0    0    0    0    0\n",
      "    0    0    0    0    0    0    0    0    0], Hc=[3600    0    0    0    0    0    0    0    0    0    0    0    0    0\n",
      "    0    0    0    0    0    0    0    0    0    0    0    0    0    0\n",
      "    0    0    0    0    0    0    0    0    0]\n",
      "3.814697265625e-06\n",
      "hmed=102.85714285714286, hmin=3600, flat_condition:3600>82.28571428571429\n",
      "H=[3600    0    0    0    0    0    0    0    0    0    0    0    0    0\n",
      "    0    0    0    0    0    0    0    0    0    0    0    0    0    0\n",
      "    0    0    0    0    0    0    0    0    0], Hc=[3600    0    0    0    0    0    0    0    0    0    0    0    0    0\n",
      "    0    0    0    0    0    0    0    0    0    0    0    0    0    0\n",
      "    0    0    0    0    0    0    0    0    0]\n",
      "1.9073486328125e-06\n"
     ]
    },
    {
     "name": "stdout",
     "output_type": "stream",
     "text": [
      "hmed=102.85714285714286, hmin=3600, flat_condition:3600>82.28571428571429\n",
      "H=[3600    0    0    0    0    0    0    0    0    0    0    0    0    0\n",
      "    0    0    0    0    0    0    0    0    0    0    0    0    0    0\n",
      "    0    0    0    0    0    0    0    0    0], Hc=[3600    0    0    0    0    0    0    0    0    0    0    0    0    0\n",
      "    0    0    0    0    0    0    0    0    0    0    0    0    0    0\n",
      "    0    0    0    0    0    0    0    0    0]\n",
      "9.5367431640625e-07\n",
      "hmed=102.85714285714286, hmin=3600, flat_condition:3600>82.28571428571429\n",
      "H=[3600    0    0    0    0    0    0    0    0    0    0    0    0    0\n",
      "    0    0    0    0    0    0    0    0    0    0    0    0    0    0\n",
      "    0    0    0    0    0    0    0    0    0], Hc=[3600    0    0    0    0    0    0    0    0    0    0    0    0    0\n",
      "    0    0    0    0    0    0    0    0    0    0    0    0    0    0\n",
      "    0    0    0    0    0    0    0    0    0]\n",
      "4.76837158203125e-07\n",
      "hmed=102.85714285714286, hmin=3600, flat_condition:3600>82.28571428571429\n",
      "H=[3600    0    0    0    0    0    0    0    0    0    0    0    0    0\n",
      "    0    0    0    0    0    0    0    0    0    0    0    0    0    0\n",
      "    0    0    0    0    0    0    0    0    0], Hc=[3600    0    0    0    0    0    0    0    0    0    0    0    0    0\n",
      "    0    0    0    0    0    0    0    0    0    0    0    0    0    0\n",
      "    0    0    0    0    0    0    0    0    0]\n",
      "2.384185791015625e-07\n",
      "hmed=102.85714285714286, hmin=3600, flat_condition:3600>82.28571428571429\n",
      "H=[3600    0    0    0    0    0    0    0    0    0    0    0    0    0\n",
      "    0    0    0    0    0    0    0    0    0    0    0    0    0    0\n",
      "    0    0    0    0    0    0    0    0    0], Hc=[3600    0    0    0    0    0    0    0    0    0    0    0    0    0\n",
      "    0    0    0    0    0    0    0    0    0    0    0    0    0    0\n",
      "    0    0    0    0    0    0    0    0    0]\n",
      "1.1920928955078125e-07\n",
      "hmed=102.85714285714286, hmin=3600, flat_condition:3600>82.28571428571429\n",
      "H=[3600    0    0    0    0    0    0    0    0    0    0    0    0    0\n",
      "    0    0    0    0    0    0    0    0    0    0    0    0    0    0\n",
      "    0    0    0    0    0    0    0    0    0], Hc=[3600    0    0    0    0    0    0    0    0    0    0    0    0    0\n",
      "    0    0    0    0    0    0    0    0    0    0    0    0    0    0\n",
      "    0    0    0    0    0    0    0    0    0]\n",
      "5.960464477539063e-08\n",
      "hmed=102.85714285714286, hmin=3600, flat_condition:3600>82.28571428571429\n",
      "H=[3600    0    0    0    0    0    0    0    0    0    0    0    0    0\n",
      "    0    0    0    0    0    0    0    0    0    0    0    0    0    0\n",
      "    0    0    0    0    0    0    0    0    0], Hc=[3600    0    0    0    0    0    0    0    0    0    0    0    0    0\n",
      "    0    0    0    0    0    0    0    0    0    0    0    0    0    0\n",
      "    0    0    0    0    0    0    0    0    0]\n",
      "2.9802322387695312e-08\n",
      "hmed=102.85714285714286, hmin=3600, flat_condition:3600>82.28571428571429\n",
      "H=[3600    0    0    0    0    0    0    0    0    0    0    0    0    0\n",
      "    0    0    0    0    0    0    0    0    0    0    0    0    0    0\n",
      "    0    0    0    0    0    0    0    0    0], Hc=[3600    0    0    0    0    0    0    0    0    0    0    0    0    0\n",
      "    0    0    0    0    0    0    0    0    0    0    0    0    0    0\n",
      "    0    0    0    0    0    0    0    0    0]\n",
      "1.4901161193847656e-08\n",
      "hmed=102.85714285714286, hmin=3600, flat_condition:3600>82.28571428571429\n",
      "H=[3600    0    0    0    0    0    0    0    0    0    0    0    0    0\n",
      "    0    0    0    0    0    0    0    0    0    0    0    0    0    0\n",
      "    0    0    0    0    0    0    0    0    0], Hc=[3600    0    0    0    0    0    0    0    0    0    0    0    0    0\n",
      "    0    0    0    0    0    0    0    0    0    0    0    0    0    0\n",
      "    0    0    0    0    0    0    0    0    0]\n",
      "7.450580596923828e-09\n"
     ]
    },
    {
     "name": "stderr",
     "output_type": "stream",
     "text": [
      "<ipython-input-29-5ccdfabf160d>:67: RuntimeWarning: divide by zero encountered in true_divide\n",
      "  mmicro = mmicro/Hc\n",
      "<ipython-input-29-5ccdfabf160d>:67: RuntimeWarning: invalid value encountered in true_divide\n",
      "  mmicro = mmicro/Hc\n"
     ]
    }
   ],
   "source": [
    "N = 36\n",
    "s = random_energy_state(N)\n",
    "viz = neighbours(N,np.sqrt(N))\n",
    "E = energy_ising(s,viz)\n",
    "E = energy_scale(N,E)\n",
    "lg6, mmicro6 = wang_landau(N, E, s)"
   ]
  },
  {
   "cell_type": "code",
   "execution_count": 73,
   "metadata": {},
   "outputs": [],
   "source": [
    "lg6, mmicro6 = lnG, mmicro"
   ]
  },
  {
   "cell_type": "markdown",
   "metadata": {},
   "source": [
    "## Resultados"
   ]
  },
  {
   "cell_type": "code",
   "execution_count": 74,
   "metadata": {},
   "outputs": [],
   "source": [
    "# Geração dos dados\n",
    "x_4 = []\n",
    "y1_4 = []\n",
    "y2_4 = []\n",
    "y3_4 = []\n",
    "y4_4 = []\n",
    "\n",
    "x_16 = []\n",
    "y1_16 = []\n",
    "y2_16 = []\n",
    "y3_16 = []\n",
    "y4_16 = []\n",
    "\n",
    "x_36 = []\n",
    "y1_36 = []\n",
    "y2_36 = []\n",
    "y3_36 = []\n",
    "y4_36 = []\n",
    "\n",
    "\n",
    "step = 0.01\n",
    "t_min = 1\n",
    "t_max = 5\n",
    "\n",
    "for temp in np.arange(t_min,t_max,step):\n",
    "    beta = 1/temp\n",
    "    \n",
    "    # 2x2\n",
    "    N = 4\n",
    "    Z, EpS, cv = media_termo(lg2, N, beta)\n",
    "    x_4.append(temp)\n",
    "    y1_4.append(EpS)  # Energia por spin\n",
    "    y2_4.append(cv)   # Calor específico\n",
    "    liv_spin = energia_livre_spin(Z, N, beta)\n",
    "    y3_4.append(liv_spin)   # Energia livre por spin\n",
    "    y4_4.append(entropia_spin(EpS, liv_spin, temp))  # Entropia por spin\n",
    "\n",
    "    # 4x4\n",
    "    N = 16\n",
    "    Z, EpS, cv = media_termo(lg4, N, beta)\n",
    "    x_16.append(temp)\n",
    "    y1_16.append(EpS)  # Energia por spin\n",
    "    y2_16.append(cv)   # Calor específico\n",
    "    liv_spin = energia_livre_spin(Z, N, beta)\n",
    "    y3_16.append(liv_spin)   # Energia livre por spin\n",
    "    y4_16.append(entropia_spin(EpS, liv_spin, temp))  # Entropia por spin\n",
    "    \n",
    "    # 6x6\n",
    "    N = 36\n",
    "    Z, EpS, cv = media_termo(lg6, N, beta)\n",
    "    x_36.append(temp)\n",
    "    y1_36.append(EpS)  # Energia por spin\n",
    "    y2_36.append(cv)   # Calor específico\n",
    "    liv_spin = energia_livre_spin(Z, N, beta)\n",
    "    y3_36.append(liv_spin)   # Energia livre por spin\n",
    "    y4_36.append(entropia_spin(EpS, liv_spin, temp))  # Entropia por spin"
   ]
  },
  {
   "cell_type": "code",
   "execution_count": 75,
   "metadata": {},
   "outputs": [
    {
     "data": {
      "image/png": "[encoded data removed]",
      "text/plain": [
       "<Figure size 432x288 with 1 Axes>"
      ]
     },
     "metadata": {
      "needs_background": "light"
     },
     "output_type": "display_data"
    }
   ],
   "source": [
    "# Plot Calor Específico\n",
    "plt.plot(x_4 ,y2_4 )\n",
    "plt.plot(x_16,y2_16)\n",
    "plt.plot(x_36,y2_36)\n",
    "plt.ylabel(\"Calor específico\")\n",
    "plt.xlabel(\"Temperatura\")\n",
    "plt.legend([\"2x2\",\"4x4\",\"6x6\"])\n",
    "plt.show()"
   ]
  },
  {
   "cell_type": "code",
   "execution_count": 76,
   "metadata": {},
   "outputs": [
    {
     "data": {
      "image/png": "[encoded data removed]",
      "text/plain": [
       "<Figure size 432x288 with 1 Axes>"
      ]
     },
     "metadata": {
      "needs_background": "light"
     },
     "output_type": "display_data"
    }
   ],
   "source": [
    "# Plot Energia por Spin\n",
    "plt.plot(x_4 ,y1_4 )\n",
    "plt.plot(x_16,y1_16)\n",
    "plt.plot(x_36,y1_36)\n",
    "plt.ylabel(\"Energia por Spin\")\n",
    "plt.xlabel(\"Temperatura\")\n",
    "plt.legend([\"2x2\",\"4x4\",\"6x6\"])\n",
    "plt.show()"
   ]
  },
  {
   "cell_type": "code",
   "execution_count": 77,
   "metadata": {},
   "outputs": [
    {
     "data": {
      "image/png": "[encoded data removed]",
      "text/plain": [
       "<Figure size 432x288 with 1 Axes>"
      ]
     },
     "metadata": {
      "needs_background": "light"
     },
     "output_type": "display_data"
    }
   ],
   "source": [
    "# Plot Energia Livre por Spin\n",
    "plt.plot(x_4 ,y3_4 )\n",
    "plt.plot(x_16,y3_16)\n",
    "plt.plot(x_36,y3_36)\n",
    "plt.ylabel(\"Energia Livre por Spin\")\n",
    "plt.xlabel(\"Temperatura\")\n",
    "plt.legend([\"2x2\",\"4x4\",\"6x6\"])\n",
    "plt.show()"
   ]
  },
  {
   "cell_type": "markdown",
   "metadata": {},
   "source": [
    "## Médias Termdinâmicas Exatas"
   ]
  },
  {
   "cell_type": "code",
   "execution_count": 2,
   "metadata": {},
   "outputs": [],
   "source": [
    "import pickle\n",
    "\n",
    "# Carregar do arquivo\n",
    "# 2x2\n",
    "L = 2\n",
    "N = L**2\n",
    "g2 = None\n",
    "with open(f\"rede{L}x{L}.dict\", \"rb\") as f:\n",
    "    g2 = pickle.load(f)\n",
    "\n",
    "# 4x4\n",
    "L = 4\n",
    "N = L**2\n",
    "g4 = None\n",
    "with open(f\"rede{L}x{L}.dict\", \"rb\") as f:\n",
    "    g4 = pickle.load(f)\n",
    "\n",
    "# 6x6\n",
    "L = 6\n",
    "N = L**2\n",
    "g6 = None\n",
    "with open(f\"rede{L}x{L}.dict\", \"rb\") as f:\n",
    "    g6 = pickle.load(f)"
   ]
  },
  {
   "cell_type": "code",
   "execution_count": 3,
   "metadata": {},
   "outputs": [
    {
     "name": "stdout",
     "output_type": "stream",
     "text": [
      "{-8: 2, -4: 0, 0: 12, 4: 0, 8: 2}\n",
      "{-32: 2, -28: 0, -24: 32, -20: 64, -16: 424, -12: 1728, -8: 6688, -4: 13568, 0: 20524, 4: 13568, 8: 6688, 12: 1728, 16: 424, 20: 64, 24: 32, 28: 0, 32: 2}\n",
      "{-72: 2, -68: 0, -64: 72, -60: 144, -56: 1620, -52: 6048, -48: 35148, -44: 159840, -40: 804078, -36: 3846576, -32: 17569080, -28: 71789328, -24: 260434986, -20: 808871328, -16: 2122173684, -12: 4616013408, -8: 8196905106, -4: 11674988208, 0: 13172279424, 4: 11674988208, 8: 8196905106, 12: 4616013408, 16: 2122173684, 20: 808871328, 24: 260434986, 28: 71789328, 32: 17569080, 36: 3846576, 40: 804078, 44: 159840, 48: 35148, 52: 6048, 56: 1620, 60: 144, 64: 72, 68: 0, 72: 2}\n"
     ]
    }
   ],
   "source": [
    "print(g2)\n",
    "print(g4)\n",
    "print(g6)"
   ]
  },
  {
   "cell_type": "code",
   "execution_count": null,
   "metadata": {},
   "outputs": [],
   "source": [
    "# Normalize g2 energy\n",
    "g2_escaled"
   ]
  },
  {
   "cell_type": "code",
   "execution_count": 8,
   "metadata": {},
   "outputs": [
    {
     "ename": "TypeError",
     "evalue": "'>' not supported between instances of 'dict' and 'int'",
     "output_type": "error",
     "traceback": [
      "\u001b[0;31m---------------------------------------------------------------------------\u001b[0m",
      "\u001b[0;31mTypeError\u001b[0m                                 Traceback (most recent call last)",
      "\u001b[0;32m<ipython-input-8-c88273c2d7af>\u001b[0m in \u001b[0;36m<module>\u001b[0;34m\u001b[0m\n\u001b[0;32m----> 1\u001b[0;31m \u001b[0mlg2\u001b[0m \u001b[0;34m=\u001b[0m \u001b[0mnp\u001b[0m\u001b[0;34m.\u001b[0m\u001b[0mlog\u001b[0m\u001b[0;34m(\u001b[0m\u001b[0mg2\u001b[0m\u001b[0;34m,\u001b[0m \u001b[0mwhere\u001b[0m\u001b[0;34m=\u001b[0m\u001b[0mg2\u001b[0m\u001b[0;34m>\u001b[0m\u001b[0;36m0\u001b[0m\u001b[0;34m)\u001b[0m\u001b[0;34m\u001b[0m\u001b[0;34m\u001b[0m\u001b[0m\n\u001b[0m\u001b[1;32m      2\u001b[0m \u001b[0mlg2\u001b[0m\u001b[0;34m\u001b[0m\u001b[0;34m\u001b[0m\u001b[0m\n",
      "\u001b[0;31mTypeError\u001b[0m: '>' not supported between instances of 'dict' and 'int'"
     ]
    }
   ],
   "source": [
    "lg2 = np.log(g2, where=g2>0)\n",
    "lg2"
   ]
  },
  {
   "cell_type": "code",
   "execution_count": 3,
   "metadata": {},
   "outputs": [
    {
     "ename": "ValueError",
     "evalue": "'exact_ising.py neighbours' was not found in history, as a file, url, nor in the user namespace.",
     "output_type": "error",
     "traceback": [
      "\u001b[0;31m---------------------------------------------------------------------------\u001b[0m",
      "\u001b[0;31mSyntaxError\u001b[0m                               Traceback (most recent call last)",
      "\u001b[0;32m~/.local/lib/python3.8/site-packages/IPython/core/interactiveshell.py\u001b[0m in \u001b[0;36mfind_user_code\u001b[0;34m(self, target, raw, py_only, skip_encoding_cookie, search_ns)\u001b[0m\n\u001b[1;32m   3736\u001b[0m         \u001b[0;32mtry\u001b[0m\u001b[0;34m:\u001b[0m                                              \u001b[0;31m# User namespace\u001b[0m\u001b[0;34m\u001b[0m\u001b[0;34m\u001b[0m\u001b[0m\n\u001b[0;32m-> 3737\u001b[0;31m             \u001b[0mcodeobj\u001b[0m \u001b[0;34m=\u001b[0m \u001b[0meval\u001b[0m\u001b[0;34m(\u001b[0m\u001b[0mtarget\u001b[0m\u001b[0;34m,\u001b[0m \u001b[0mself\u001b[0m\u001b[0;34m.\u001b[0m\u001b[0muser_ns\u001b[0m\u001b[0;34m)\u001b[0m\u001b[0;34m\u001b[0m\u001b[0;34m\u001b[0m\u001b[0m\n\u001b[0m\u001b[1;32m   3738\u001b[0m         \u001b[0;32mexcept\u001b[0m \u001b[0mException\u001b[0m\u001b[0;34m:\u001b[0m\u001b[0;34m\u001b[0m\u001b[0;34m\u001b[0m\u001b[0m\n",
      "\u001b[0;31mSyntaxError\u001b[0m: unexpected EOF while parsing (<string>, line 1)",
      "\nDuring handling of the above exception, another exception occurred:\n",
      "\u001b[0;31mValueError\u001b[0m                                Traceback (most recent call last)",
      "\u001b[0;32m<ipython-input-3-350a0080fafb>\u001b[0m in \u001b[0;36m<module>\u001b[0;34m\u001b[0m\n\u001b[0;32m----> 1\u001b[0;31m \u001b[0mget_ipython\u001b[0m\u001b[0;34m(\u001b[0m\u001b[0;34m)\u001b[0m\u001b[0;34m.\u001b[0m\u001b[0mrun_line_magic\u001b[0m\u001b[0;34m(\u001b[0m\u001b[0;34m'load'\u001b[0m\u001b[0;34m,\u001b[0m \u001b[0;34m'exact_ising.py neighbours'\u001b[0m\u001b[0;34m)\u001b[0m\u001b[0;34m\u001b[0m\u001b[0;34m\u001b[0m\u001b[0m\n\u001b[0m\u001b[1;32m      2\u001b[0m \u001b[0;32mimport\u001b[0m \u001b[0mnumpy\u001b[0m \u001b[0;32mas\u001b[0m \u001b[0mnp\u001b[0m\u001b[0;34m\u001b[0m\u001b[0;34m\u001b[0m\u001b[0m\n\u001b[1;32m      3\u001b[0m \u001b[0;34m\u001b[0m\u001b[0m\n\u001b[1;32m      4\u001b[0m \u001b[0;32mdef\u001b[0m \u001b[0mneighbours\u001b[0m\u001b[0;34m(\u001b[0m\u001b[0mN\u001b[0m\u001b[0;34m,\u001b[0m \u001b[0mL\u001b[0m\u001b[0;34m)\u001b[0m\u001b[0;34m:\u001b[0m\u001b[0;34m\u001b[0m\u001b[0;34m\u001b[0m\u001b[0m\n\u001b[1;32m      5\u001b[0m     \"\"\"\n",
      "\u001b[0;32m~/.local/lib/python3.8/site-packages/IPython/core/interactiveshell.py\u001b[0m in \u001b[0;36mrun_line_magic\u001b[0;34m(self, magic_name, line, _stack_depth)\u001b[0m\n\u001b[1;32m   2325\u001b[0m                 \u001b[0mkwargs\u001b[0m\u001b[0;34m[\u001b[0m\u001b[0;34m'local_ns'\u001b[0m\u001b[0;34m]\u001b[0m \u001b[0;34m=\u001b[0m \u001b[0mself\u001b[0m\u001b[0;34m.\u001b[0m\u001b[0mget_local_scope\u001b[0m\u001b[0;34m(\u001b[0m\u001b[0mstack_depth\u001b[0m\u001b[0;34m)\u001b[0m\u001b[0;34m\u001b[0m\u001b[0;34m\u001b[0m\u001b[0m\n\u001b[1;32m   2326\u001b[0m             \u001b[0;32mwith\u001b[0m \u001b[0mself\u001b[0m\u001b[0;34m.\u001b[0m\u001b[0mbuiltin_trap\u001b[0m\u001b[0;34m:\u001b[0m\u001b[0;34m\u001b[0m\u001b[0;34m\u001b[0m\u001b[0m\n\u001b[0;32m-> 2327\u001b[0;31m                 \u001b[0mresult\u001b[0m \u001b[0;34m=\u001b[0m \u001b[0mfn\u001b[0m\u001b[0;34m(\u001b[0m\u001b[0;34m*\u001b[0m\u001b[0margs\u001b[0m\u001b[0;34m,\u001b[0m \u001b[0;34m**\u001b[0m\u001b[0mkwargs\u001b[0m\u001b[0;34m)\u001b[0m\u001b[0;34m\u001b[0m\u001b[0;34m\u001b[0m\u001b[0m\n\u001b[0m\u001b[1;32m   2328\u001b[0m             \u001b[0;32mreturn\u001b[0m \u001b[0mresult\u001b[0m\u001b[0;34m\u001b[0m\u001b[0;34m\u001b[0m\u001b[0m\n\u001b[1;32m   2329\u001b[0m \u001b[0;34m\u001b[0m\u001b[0m\n",
      "\u001b[0;32m<decorator-gen-39>\u001b[0m in \u001b[0;36mload\u001b[0;34m(self, arg_s)\u001b[0m\n",
      "\u001b[0;32m~/.local/lib/python3.8/site-packages/IPython/core/magic.py\u001b[0m in \u001b[0;36m<lambda>\u001b[0;34m(f, *a, **k)\u001b[0m\n\u001b[1;32m    185\u001b[0m     \u001b[0;31m# but it's overkill for just that one bit of state.\u001b[0m\u001b[0;34m\u001b[0m\u001b[0;34m\u001b[0m\u001b[0;34m\u001b[0m\u001b[0m\n\u001b[1;32m    186\u001b[0m     \u001b[0;32mdef\u001b[0m \u001b[0mmagic_deco\u001b[0m\u001b[0;34m(\u001b[0m\u001b[0marg\u001b[0m\u001b[0;34m)\u001b[0m\u001b[0;34m:\u001b[0m\u001b[0;34m\u001b[0m\u001b[0;34m\u001b[0m\u001b[0m\n\u001b[0;32m--> 187\u001b[0;31m         \u001b[0mcall\u001b[0m \u001b[0;34m=\u001b[0m \u001b[0;32mlambda\u001b[0m \u001b[0mf\u001b[0m\u001b[0;34m,\u001b[0m \u001b[0;34m*\u001b[0m\u001b[0ma\u001b[0m\u001b[0;34m,\u001b[0m \u001b[0;34m**\u001b[0m\u001b[0mk\u001b[0m\u001b[0;34m:\u001b[0m \u001b[0mf\u001b[0m\u001b[0;34m(\u001b[0m\u001b[0;34m*\u001b[0m\u001b[0ma\u001b[0m\u001b[0;34m,\u001b[0m \u001b[0;34m**\u001b[0m\u001b[0mk\u001b[0m\u001b[0;34m)\u001b[0m\u001b[0;34m\u001b[0m\u001b[0;34m\u001b[0m\u001b[0m\n\u001b[0m\u001b[1;32m    188\u001b[0m \u001b[0;34m\u001b[0m\u001b[0m\n\u001b[1;32m    189\u001b[0m         \u001b[0;32mif\u001b[0m \u001b[0mcallable\u001b[0m\u001b[0;34m(\u001b[0m\u001b[0marg\u001b[0m\u001b[0;34m)\u001b[0m\u001b[0;34m:\u001b[0m\u001b[0;34m\u001b[0m\u001b[0;34m\u001b[0m\u001b[0m\n",
      "\u001b[0;32m~/.local/lib/python3.8/site-packages/IPython/core/magics/code.py\u001b[0m in \u001b[0;36mload\u001b[0;34m(self, arg_s)\u001b[0m\n\u001b[1;32m    331\u001b[0m         \u001b[0msearch_ns\u001b[0m \u001b[0;34m=\u001b[0m \u001b[0;34m'n'\u001b[0m \u001b[0;32min\u001b[0m \u001b[0mopts\u001b[0m\u001b[0;34m\u001b[0m\u001b[0;34m\u001b[0m\u001b[0m\n\u001b[1;32m    332\u001b[0m \u001b[0;34m\u001b[0m\u001b[0m\n\u001b[0;32m--> 333\u001b[0;31m         \u001b[0mcontents\u001b[0m \u001b[0;34m=\u001b[0m \u001b[0mself\u001b[0m\u001b[0;34m.\u001b[0m\u001b[0mshell\u001b[0m\u001b[0;34m.\u001b[0m\u001b[0mfind_user_code\u001b[0m\u001b[0;34m(\u001b[0m\u001b[0margs\u001b[0m\u001b[0;34m,\u001b[0m \u001b[0msearch_ns\u001b[0m\u001b[0;34m=\u001b[0m\u001b[0msearch_ns\u001b[0m\u001b[0;34m)\u001b[0m\u001b[0;34m\u001b[0m\u001b[0;34m\u001b[0m\u001b[0m\n\u001b[0m\u001b[1;32m    334\u001b[0m \u001b[0;34m\u001b[0m\u001b[0m\n\u001b[1;32m    335\u001b[0m         \u001b[0;32mif\u001b[0m \u001b[0;34m's'\u001b[0m \u001b[0;32min\u001b[0m \u001b[0mopts\u001b[0m\u001b[0;34m:\u001b[0m\u001b[0;34m\u001b[0m\u001b[0;34m\u001b[0m\u001b[0m\n",
      "\u001b[0;32m~/.local/lib/python3.8/site-packages/IPython/core/interactiveshell.py\u001b[0m in \u001b[0;36mfind_user_code\u001b[0;34m(self, target, raw, py_only, skip_encoding_cookie, search_ns)\u001b[0m\n\u001b[1;32m   3737\u001b[0m             \u001b[0mcodeobj\u001b[0m \u001b[0;34m=\u001b[0m \u001b[0meval\u001b[0m\u001b[0;34m(\u001b[0m\u001b[0mtarget\u001b[0m\u001b[0;34m,\u001b[0m \u001b[0mself\u001b[0m\u001b[0;34m.\u001b[0m\u001b[0muser_ns\u001b[0m\u001b[0;34m)\u001b[0m\u001b[0;34m\u001b[0m\u001b[0;34m\u001b[0m\u001b[0m\n\u001b[1;32m   3738\u001b[0m         \u001b[0;32mexcept\u001b[0m \u001b[0mException\u001b[0m\u001b[0;34m:\u001b[0m\u001b[0;34m\u001b[0m\u001b[0;34m\u001b[0m\u001b[0m\n\u001b[0;32m-> 3739\u001b[0;31m             raise ValueError((\"'%s' was not found in history, as a file, url, \"\n\u001b[0m\u001b[1;32m   3740\u001b[0m                                 \"nor in the user namespace.\") % target)\n\u001b[1;32m   3741\u001b[0m \u001b[0;34m\u001b[0m\u001b[0m\n",
      "\u001b[0;31mValueError\u001b[0m: 'exact_ising.py neighbours' was not found in history, as a file, url, nor in the user namespace."
     ]
    }
   ],
   "source": [
    "%load exact_ising.py neighbours\n",
    "import numpy as np\n",
    "\n",
    "def neighbours(N, L):\n",
    "    \"\"\"\n",
    "    Constrói a matriz de vizinhança.\n",
    "    Assume que há uma \"vizinhança circular\" como se a rede \n",
    "    fosse um toro.\n",
    "    Adaptação do algoritmo proposto no enunciado\n",
    "    \"\"\"\n",
    "    # Cria uma matriz Nx4\n",
    "    viz = np.zeros((N,4), dtype=np.longlong)\n",
    "\n",
    "    # (k,0): vizinho à direita\n",
    "    # (k,1): vizinho acima\n",
    "    # (k,2): vizinho à esquerda\n",
    "    # (k,3): vizinho abaixo]\n",
    "    for k in range(N):\n",
    "        # Vizinho à direita (k,0)\n",
    "        viz[k][0] = k+1\n",
    "        if (k % L == L-1):\n",
    "            # Sítio na borda da direita\n",
    "            viz[k][0] = k+1-L\n",
    "\n",
    "        # Vizinho acima (k,1)\n",
    "        viz[k][1] = k+L\n",
    "        if (k >= N-L):\n",
    "            # Sítio na borda superior\n",
    "            viz[k][1] = k+L-N\n",
    "\n",
    "        # Vizinho à esquerda (k,2)\n",
    "        viz[k][2] = k-1\n",
    "        if (k % L == 0):\n",
    "            # Sítio na borda da esquerda\n",
    "            viz[k][2] = k+L-1\n",
    "\n",
    "        # Vizinho abaixo (k,3)\n",
    "        viz[k][3] = k-L\n",
    "        if (k < L):\n",
    "            # Sítio na borda inferior\n",
    "            viz[k][3] = k+N-L\n",
    "    return viz\n",
    "\n",
    "def energy_ising(s, viz):\n",
    "    \"\"\"\n",
    "    Calcula a energia da rede Ising usando os vizinhos de cada sítio.\n",
    "    É importante notar que precisamos apenas dos \n",
    "    vizinhos à direita e acima\n",
    "    \"\"\"\n",
    "    E = 0\n",
    "    N = len(s)\n",
    "    for i in range(N):\n",
    "        right = viz[i][0]\n",
    "        up = viz[i][1]\n",
    "        h = s[right] + s[up]\n",
    "        E = E - s[i]*h\n",
    "    return E\n",
    "\n",
    "def energy_flip(Ei, sf, i, viz):\n",
    "    \"\"\"\n",
    "    Calcula a energia da nova configuração sf e \n",
    "    qual sítio i foi flipado.\n",
    "    \"\"\"\n",
    "    # Soma os spins dos 4 vizinhos\n",
    "    Ssj = 0\n",
    "    for k in range(4):\n",
    "        idx_viz = viz[i,k]\n",
    "        Ssj += sf[idx_viz]\n",
    "    \n",
    "    # Usa a fórmula do enunciado\n",
    "    Ef = Ei - 2*sf[i]*Ssj\n",
    "    return Ef\n",
    "\n",
    "def gray_flip(tau, N):\n",
    "    k = tau[0]\n",
    "    if (k > N):\n",
    "        print(\"Return\")\n",
    "        return\n",
    "    tau[k-1] = tau[k]\n",
    "    tau[k] = k+1\n",
    "    if (k != 1):\n",
    "        tau[0] = 1\n",
    "    return k,tau\n",
    "\n",
    "def qtd_energias(N):\n",
    "    \"\"\"\n",
    "    Calcula quais níveis de energia possíveis.\n",
    "    Retorna também um array com eles.\n",
    "    Sabe-se que vão de -2N até 2N, inclusive, saltando de 4 em 4\n",
    "    \"\"\"\n",
    "    g = []\n",
    "    \n",
    "    i = -2*N\n",
    "    counter = 1\n",
    "    g.append(i)\n",
    "    while(i < 2*N):\n",
    "        i += 4\n",
    "        counter += 1\n",
    "        g.append(i)\n",
    "    return counter, g\n",
    "\n",
    "def enumera_ising(N, viz):\n",
    "    \"\"\"\n",
    "    Obtém g(E) enumerando as configurações com auxílio \n",
    "    do código gray\n",
    "    \"\"\"\n",
    "    qtd, energs = qtd_energias(N)\n",
    "    g = {}\n",
    "    for e in energs:\n",
    "        g[e] = np.longlong(0)\n",
    "    s = [-1 for i in range(N)]\n",
    "    s = np.array(s, dtype=np.longlong)\n",
    "    tau = [i for i in range(1,N+2)]\n",
    "    \n",
    "    E = -2*N\n",
    "    g[E] = 2\n",
    "    \n",
    "    for i in range(1, 2**(N-1)):\n",
    "        k, tau = gray_flip(tau, N)\n",
    "        h = 0\n",
    "        for v in viz[k]:\n",
    "            h += s[v]\n",
    "        E += 2*s[k]*h\n",
    "        g[E] += 2\n",
    "        s[k] = -s[k]\n",
    "        print(f\"{i/(2**(N-1)) * 100:.5f}%\", end=\"\\r\")\n",
    "    return g\n",
    "\n",
    "g = enumera_ising(36, neighbours(36,6))\n",
    "np.save(f\"PyPy_rede6x6.npy\", g)"
   ]
  },
  {
   "cell_type": "code",
   "execution_count": null,
   "metadata": {},
   "outputs": [],
   "source": []
  }
 ],
 "metadata": {
  "kernelspec": {
   "display_name": "Python 3",
   "language": "python",
   "name": "python3"
  },
  "language_info": {
   "codemirror_mode": {
    "name": "ipython",
    "version": 3
   },
   "file_extension": ".py",
   "mimetype": "text/x-python",
   "name": "python",
   "nbconvert_exporter": "python",
   "pygments_lexer": "ipython3",
   "version": "3.8.5"
  },
  "toc": {
   "base_numbering": 1,
   "nav_menu": {},
   "number_sections": true,
   "sideBar": true,
   "skip_h1_title": false,
   "title_cell": "Table of Contents",
   "title_sidebar": "Contents",
   "toc_cell": false,
   "toc_position": {},
   "toc_section_display": true,
   "toc_window_display": false
  }
 },
 "nbformat": 4,
 "nbformat_minor": 4
}
