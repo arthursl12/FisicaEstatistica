{
 "cells": [
  {
   "cell_type": "markdown",
   "metadata": {},
   "source": [
    "# Enumeração Exata do Modelo de Ising\n",
    "\n",
    "Aluno: Arthur Souto Lima  \n",
    "Mat.: 2018055113"
   ]
  },
  {
   "cell_type": "markdown",
   "metadata": {},
   "source": [
    "## Imports iniciais"
   ]
  },
  {
   "cell_type": "code",
   "execution_count": 1,
   "metadata": {},
   "outputs": [],
   "source": [
    "import numpy as np\n",
    "import matplotlib.pyplot as plt\n",
    "import seaborn as sns"
   ]
  },
  {
   "cell_type": "markdown",
   "metadata": {},
   "source": [
    "## Algoritmos para Enumeração Exata\n",
    "\n",
    "Aqui são apresentadas as implementações dos pseudocódigos apresentados no enunciado que fazem a modelagem da rede de sítios do Modelo de Ising"
   ]
  },
  {
   "cell_type": "code",
   "execution_count": 2,
   "metadata": {},
   "outputs": [],
   "source": [
    "def neighbours(N, L):\n",
    "    \"\"\"\n",
    "    Constrói a matriz de vizinhança.\n",
    "    Assume que há uma \"vizinhança circular\" como se a rede \n",
    "    fosse um toro.\n",
    "    Adaptação do algoritmo proposto no enunciado\n",
    "    \"\"\"\n",
    "    # Cria uma matriz Nx4\n",
    "    viz = np.zeros((N,4), dtype=np.longlong)\n",
    "\n",
    "    # (k,0): vizinho à direita\n",
    "    # (k,1): vizinho acima\n",
    "    # (k,2): vizinho à esquerda\n",
    "    # (k,3): vizinho abaixo]\n",
    "    for k in range(N):\n",
    "        # Vizinho à direita (k,0)\n",
    "        viz[k][0] = k+1\n",
    "        if (k % L == L-1):\n",
    "            # Sítio na borda da direita\n",
    "            viz[k][0] = k+1-L\n",
    "\n",
    "        # Vizinho acima (k,1)\n",
    "        viz[k][1] = k+L\n",
    "        if (k >= N-L):\n",
    "            # Sítio na borda superior\n",
    "            viz[k][1] = k+L-N\n",
    "\n",
    "        # Vizinho à esquerda (k,2)\n",
    "        viz[k][2] = k-1\n",
    "        if (k % L == 0):\n",
    "            # Sítio na borda da esquerda\n",
    "            viz[k][2] = k+L-1\n",
    "\n",
    "        # Vizinho abaixo (k,3)\n",
    "        viz[k][3] = k-L\n",
    "        if (k < L):\n",
    "            # Sítio na borda inferior\n",
    "            viz[k][3] = k+N-L\n",
    "    return viz"
   ]
  },
  {
   "cell_type": "code",
   "execution_count": 3,
   "metadata": {},
   "outputs": [],
   "source": [
    "def energy_ising(s, viz):\n",
    "    \"\"\"\n",
    "    Calcula a energia da rede Ising usando os vizinhos de cada sítio.\n",
    "    É importante notar que precisamos apenas dos \n",
    "    vizinhos à direita e acima\n",
    "    \"\"\"\n",
    "    E = 0\n",
    "    N = len(s)\n",
    "    for i in range(N):\n",
    "        right = viz[i][0]\n",
    "        up = viz[i][1]\n",
    "        h = s[right] + s[up]\n",
    "        E = E - s[i]*h\n",
    "    return E"
   ]
  },
  {
   "cell_type": "code",
   "execution_count": 4,
   "metadata": {},
   "outputs": [],
   "source": [
    "def energy_flip(Ei, sf, i, viz):\n",
    "    \"\"\"\n",
    "    Calcula a energia da nova configuração sf e \n",
    "    qual sítio i foi flipado.\n",
    "    \"\"\"\n",
    "    # Soma os spins dos 4 vizinhos\n",
    "    Ssj = 0\n",
    "    for k in range(4):\n",
    "        idx_viz = viz[i,k]\n",
    "        Ssj += sf[idx_viz]\n",
    "    \n",
    "    # Usa a fórmula do enunciado\n",
    "    Ef = Ei - 2*sf[i]*Ssj\n",
    "    return Ef"
   ]
  },
  {
   "cell_type": "code",
   "execution_count": 5,
   "metadata": {
    "scrolled": false
   },
   "outputs": [],
   "source": [
    "def gray_flip(tau, N):\n",
    "    \"\"\"\n",
    "    Faz uma mudança na lista tau para saber qual o próximo spin a ser flipado \n",
    "    para termos um código gray como o do enunciado.\n",
    "    Retorna também o índice desse próximo a ser flipado.\n",
    "    \"\"\"\n",
    "    k = tau[0]\n",
    "    if (k > N):\n",
    "        print(\"Return\")\n",
    "        return\n",
    "    tau[k-1] = tau[k]\n",
    "    tau[k] = k+1\n",
    "    if (k != 1):\n",
    "        tau[0] = 1\n",
    "    return k,tau"
   ]
  },
  {
   "cell_type": "code",
   "execution_count": 6,
   "metadata": {},
   "outputs": [],
   "source": [
    "def qtd_energias(N):\n",
    "    \"\"\"\n",
    "    Calcula quais níveis de energia possíveis.\n",
    "    Retorna também um array com eles.\n",
    "    Sabe-se que vão de -2N até 2N, inclusive, saltando de 4 em 4\n",
    "    \"\"\"\n",
    "    g = []\n",
    "    \n",
    "    i = -2*N\n",
    "    counter = 1\n",
    "    g.append(i)\n",
    "    while(i < 2*N):\n",
    "        i += 4\n",
    "        counter += 1\n",
    "        g.append(i)\n",
    "    return counter, g"
   ]
  },
  {
   "cell_type": "code",
   "execution_count": 7,
   "metadata": {},
   "outputs": [],
   "source": [
    "def enumera_ising(N, viz):\n",
    "    \"\"\"\n",
    "    Obtém g(E) enumerando as configurações com auxílio \n",
    "    do código gray\n",
    "    \"\"\"\n",
    "    qtd, energs = qtd_energias(N)\n",
    "    g = {}\n",
    "    for e in energs:\n",
    "        g[e] = np.longlong(0)\n",
    "    s = [-1 for i in range(N)]\n",
    "    s = np.array(s, dtype=np.longlong)\n",
    "    tau = [i for i in range(1,N+2)]\n",
    "    \n",
    "    E = -2*N\n",
    "    g[E] = 2\n",
    "    \n",
    "    i = np.longlong(1)\n",
    "    end = np.longlong(pow(2,N-1))\n",
    "    quoc = np.double(1/end)\n",
    "\n",
    "    while(i != end):\n",
    "        k, tau = gray_flip(tau, N)\n",
    "        h = 0\n",
    "        sk = s[k]\n",
    "        \n",
    "        l0, l1, l2, l3 = viz[k]\n",
    "        h += s[l0]\n",
    "        h += s[l1]\n",
    "        h += s[l2]\n",
    "        h += s[l3]\n",
    "        \n",
    "        E += 2*sk*h\n",
    "        g[E] += 2\n",
    "        s[k] = -sk\n",
    "        \n",
    "        if (i % 1000000 == 0): \n",
    "            print(i, i*quoc)\n",
    "        i += 1\n",
    "    return g"
   ]
  },
  {
   "cell_type": "code",
   "execution_count": null,
   "metadata": {},
   "outputs": [],
   "source": []
  },
  {
   "cell_type": "code",
   "execution_count": null,
   "metadata": {},
   "outputs": [],
   "source": []
  },
  {
   "cell_type": "markdown",
   "metadata": {},
   "source": [
    "## Criação das Redes\n",
    "Aqui são criadas as redes usando os algoritmos anteriores. Na verdade, os resultados da quantidade de estados por energia foram criados uma vez e salvos num arquivo separado. Assim, não há necessidade de re-execução, basta carregá-los de tais arquivos.\n",
    "\n",
    "Um detalhe é que o resultado para a rede 6x6 aqui está sendo criado manualmente tendo em vista que por algum motivo, a enumeração do 6x6 está levando um tempo maior do que o esperado. Apesar disso, até mesmo o 5x5 roda em tempo hábil (questão de alguns poucos minutos), o problema está mesmo com o 6x6. Numa tentativa de usar uma linguagem mais rápida, implementei em C++ e ainda assim, numa tarde inteira não conseguiu completar 10% da rede."
   ]
  },
  {
   "cell_type": "code",
   "execution_count": 8,
   "metadata": {},
   "outputs": [],
   "source": [
    "def manual6x6():\n",
    "    \"\"\"\n",
    "    Manualmente cria os resultados da rede 6x6\n",
    "    \"\"\"\n",
    "    qtd, energs = qtd_energias(N)\n",
    "    g6 = {}\n",
    "    for e in energs:\n",
    "        g6[e] = np.longlong(0)\n",
    "\n",
    "    g6[-72] = 2\n",
    "    g6[-68] = 0\n",
    "    g6[-64] = 72\n",
    "    g6[-60] = 144\n",
    "    g6[-56] = 1620\n",
    "    g6[-52] = 6048\n",
    "    g6[-48] = 35148\n",
    "    g6[-44] = 159840\n",
    "    g6[-40] = 804078\n",
    "    g6[-36] = 3846576\n",
    "    g6[-32] = 17569080\n",
    "    g6[-28] = 71789328\n",
    "    g6[-24] = 260434986\n",
    "    g6[-20] = 808871328\n",
    "    g6[-16] = 2122173684\n",
    "    g6[-12] = 4616013408\n",
    "    g6[- 8] = 8196905106\n",
    "    g6[- 4] = 11674988208\n",
    "    g6[  0] = 13172279424\n",
    "\n",
    "    g6[72] = 2\n",
    "    g6[68] = 0\n",
    "    g6[64] = 72\n",
    "    g6[60] = 144\n",
    "    g6[56] = 1620\n",
    "    g6[52] = 6048\n",
    "    g6[48] = 35148\n",
    "    g6[44] = 159840\n",
    "    g6[40] = 804078\n",
    "    g6[36] = 3846576\n",
    "    g6[32] = 17569080\n",
    "    g6[28] = 71789328\n",
    "    g6[24] = 260434986\n",
    "    g6[20] = 808871328\n",
    "    g6[16] = 2122173684\n",
    "    g6[12] = 4616013408\n",
    "    g6[ 8] = 8196905106\n",
    "    g6[ 4] = 11674988208\n",
    "\n",
    "    return g6"
   ]
  },
  {
   "cell_type": "code",
   "execution_count": 9,
   "metadata": {},
   "outputs": [],
   "source": [
    "import os.path\n",
    "import pickle\n",
    "CREATE_ARRAYS = False\n",
    "\n",
    "if CREATE_ARRAYS:\n",
    "    # Criar a enumeração e salvar num arquivo\n",
    "    # 2x2\n",
    "    L = 2\n",
    "    N = L**2\n",
    "    g2 = enumera_ising(N, neighbours(N,L))\n",
    "    with open(f\"rede{L}x{L}.dict\", \"wb\") as f:\n",
    "        pickle.dump(g2, f)\n",
    "    print(f\"Criado rede {L}x{L}\")\n",
    "    \n",
    "    # 4x4\n",
    "    L = 4\n",
    "    N = L**2\n",
    "    g4 = enumera_ising(N, neighbours(N,L))\n",
    "    with open(f\"rede{L}x{L}.dict\", \"wb\") as f:\n",
    "        pickle.dump(g4, f)\n",
    "    print(f\"Criado rede {L}x{L}\")\n",
    "    \n",
    "    # 6x6\n",
    "    L = 6\n",
    "    N = L**2\n",
    "#     g6 = enumera_ising(N, neighbours(N,L))\n",
    "    g6 = manual6x6()\n",
    "    with open(f\"rede{L}x{L}.dict\", \"wb\") as f:\n",
    "        pickle.dump(g6, f)\n",
    "    print(f\"Criado rede {L}x{L}\")\n",
    "else:\n",
    "    # Carregar do arquivo\n",
    "    # 2x2\n",
    "    L = 2\n",
    "    N = L**2\n",
    "    g2 = None\n",
    "    with open(f\"rede{L}x{L}.dict\", \"rb\") as f:\n",
    "        g2 = pickle.load(f)\n",
    "    \n",
    "    # 4x4\n",
    "    L = 4\n",
    "    N = L**2\n",
    "    g4 = None\n",
    "    with open(f\"rede{L}x{L}.dict\", \"rb\") as f:\n",
    "        g4 = pickle.load(f)\n",
    "    \n",
    "    # 6x6\n",
    "    L = 6\n",
    "    N = L**2\n",
    "    g6 = None\n",
    "    with open(f\"rede{L}x{L}.dict\", \"rb\") as f:\n",
    "        g6 = pickle.load(f)"
   ]
  },
  {
   "cell_type": "code",
   "execution_count": null,
   "metadata": {},
   "outputs": [],
   "source": []
  },
  {
   "cell_type": "code",
   "execution_count": null,
   "metadata": {},
   "outputs": [],
   "source": []
  },
  {
   "cell_type": "code",
   "execution_count": null,
   "metadata": {},
   "outputs": [],
   "source": []
  },
  {
   "cell_type": "code",
   "execution_count": 10,
   "metadata": {},
   "outputs": [
    {
     "name": "stdout",
     "output_type": "stream",
     "text": [
      "{-8: 2, -4: 0, 0: 12, 4: 0, 8: 2}\n",
      "{-32: 2, -28: 0, -24: 32, -20: 64, -16: 424, -12: 1728, -8: 6688, -4: 13568, 0: 20524, 4: 13568, 8: 6688, 12: 1728, 16: 424, 20: 64, 24: 32, 28: 0, 32: 2}\n",
      "{-72: 2, -68: 0, -64: 72, -60: 144, -56: 1620, -52: 6048, -48: 35148, -44: 159840, -40: 804078, -36: 3846576, -32: 17569080, -28: 71789328, -24: 260434986, -20: 808871328, -16: 2122173684, -12: 4616013408, -8: 8196905106, -4: 11674988208, 0: 13172279424, 4: 11674988208, 8: 8196905106, 12: 4616013408, 16: 2122173684, 20: 808871328, 24: 260434986, 28: 71789328, 32: 17569080, 36: 3846576, 40: 804078, 44: 159840, 48: 35148, 52: 6048, 56: 1620, 60: 144, 64: 72, 68: 0, 72: 2}\n"
     ]
    }
   ],
   "source": [
    "print(g2)\n",
    "print(g4)\n",
    "print(g6)"
   ]
  },
  {
   "cell_type": "markdown",
   "metadata": {},
   "source": [
    "## Propriedades Termodinâmicas\n",
    "Usando os pseudocódigos apresentados, implementa-se os algoritmos que objetivam obter as propriedades termodinâmicas de cada rede"
   ]
  },
  {
   "cell_type": "code",
   "execution_count": 11,
   "metadata": {},
   "outputs": [],
   "source": [
    "def media_termo(g, energias, N, beta):\n",
    "    \"\"\"\n",
    "    Obtém as propriedades termodinâmicas a uma dada temperatura (com inverso beta),\n",
    "    dada as energias por configuração (g) e as possíveis energias dessa rede\n",
    "    \"\"\"\n",
    "    Z = 0\n",
    "    Em = 0\n",
    "    Em2 = 0\n",
    "    \n",
    "    Emin = energias[0]\n",
    "    Emax = energias[-1]\n",
    "    \n",
    "    for E in energias:\n",
    "        E1 = E - Emin\n",
    "        Z = Z + g[E]*np.exp(-beta*E1)\n",
    "        \n",
    "        Em = Em + E1*g[E]*np.exp(-beta*E1)\n",
    "        Em2 = Em2 + E1*E1*g[E]*np.exp(-beta*E1)\n",
    "    Em = Em/Z\n",
    "    Em2 = Em2/Z\n",
    "    \n",
    "    Z = Z*np.exp(-beta*Emin)\n",
    "    cv = (beta*beta*(Em2-Em**2))/N\n",
    "    EpS = (Em + Emin)/N\n",
    "    return Z, EpS, cv"
   ]
  },
  {
   "cell_type": "code",
   "execution_count": 12,
   "metadata": {},
   "outputs": [],
   "source": [
    "def energia_livre_spin(Z, N, beta):\n",
    "    \"\"\"\n",
    "    Calcula a energia livre por spin, usando a fórmula do enunciado.\n",
    "    Note que a função np.log é o logaritmo natural.\n",
    "    \"\"\"\n",
    "    result = N * beta\n",
    "    result = -1/result\n",
    "    result = result * np.log(Z)  # np.log é o logaritmo natural\n",
    "    return result"
   ]
  },
  {
   "cell_type": "code",
   "execution_count": 13,
   "metadata": {},
   "outputs": [],
   "source": [
    "def entropia_spin(e_spin, e_livre_spin, temp):\n",
    "    \"\"\"\n",
    "    Calcula a entropia livre por spin, usando a fórmula do enunciado.\n",
    "    Note que utiliza a temperatura e não o inverso dela (beta).\n",
    "    \"\"\"\n",
    "    result = e_spin - e_livre_spin\n",
    "    result = result / temp\n",
    "    return result"
   ]
  },
  {
   "cell_type": "code",
   "execution_count": null,
   "metadata": {},
   "outputs": [],
   "source": []
  },
  {
   "cell_type": "code",
   "execution_count": null,
   "metadata": {},
   "outputs": [],
   "source": []
  },
  {
   "cell_type": "code",
   "execution_count": null,
   "metadata": {},
   "outputs": [],
   "source": []
  },
  {
   "cell_type": "code",
   "execution_count": null,
   "metadata": {},
   "outputs": [],
   "source": []
  },
  {
   "cell_type": "code",
   "execution_count": null,
   "metadata": {},
   "outputs": [],
   "source": []
  },
  {
   "cell_type": "code",
   "execution_count": null,
   "metadata": {},
   "outputs": [],
   "source": []
  },
  {
   "cell_type": "code",
   "execution_count": null,
   "metadata": {},
   "outputs": [],
   "source": []
  },
  {
   "cell_type": "code",
   "execution_count": null,
   "metadata": {},
   "outputs": [],
   "source": []
  },
  {
   "cell_type": "code",
   "execution_count": null,
   "metadata": {},
   "outputs": [],
   "source": []
  },
  {
   "cell_type": "markdown",
   "metadata": {},
   "source": [
    "## Resultados e Discussão\n",
    "\n",
    "### Distribuições de Energia\n",
    "Inicialmente, vamos comparar as distribuições de energias nas diversas configurações"
   ]
  },
  {
   "cell_type": "code",
   "execution_count": 14,
   "metadata": {},
   "outputs": [
    {
     "data": {
      "text/plain": [
       "Text(0.5, 0, 'E/N')"
      ]
     },
     "execution_count": 14,
     "metadata": {},
     "output_type": "execute_result"
    },
    {
     "data": {
      "image/png": "[encoded data removed]",
      "text/plain": [
       "<Figure size 432x288 with 1 Axes>"
      ]
     },
     "metadata": {
      "needs_background": "light"
     },
     "output_type": "display_data"
    }
   ],
   "source": [
    "x_4 = []\n",
    "y_4 = []\n",
    "N = 4\n",
    "for key, value in g2.items():\n",
    "    if (value == 0): continue\n",
    "    x_4.append(key/N)\n",
    "    y_4.append(np.log(value))\n",
    "\n",
    "x_16 = []\n",
    "y_16 = []\n",
    "N = 16\n",
    "for key, value in g4.items():\n",
    "    if (value == 0): continue\n",
    "    x_16.append(key/N)\n",
    "    y_16.append(np.log(value))\n",
    "\n",
    "x_36 = []\n",
    "y_36 = []\n",
    "N = 36\n",
    "for key, value in g6.items():\n",
    "    if (value == 0): continue\n",
    "    x_36.append(key/N)\n",
    "    y_36.append(np.log(value))\n",
    "    \n",
    "ax = plt.gca()\n",
    "ax.bar(x_36,y_36)\n",
    "ax.bar(x_16,y_16)\n",
    "ax.bar(x_4,y_4)\n",
    "plt.ylabel(\"ln(g(E))\")\n",
    "plt.xlabel(\"E/N\")"
   ]
  },
  {
   "cell_type": "markdown",
   "metadata": {},
   "source": [
    "Vemos que o comportamento das distribuições é simétrico com relação á energia 0. Além disso, todas as distribuições começam a se assemelhar a uma normal"
   ]
  },
  {
   "cell_type": "code",
   "execution_count": null,
   "metadata": {},
   "outputs": [],
   "source": []
  },
  {
   "cell_type": "code",
   "execution_count": null,
   "metadata": {},
   "outputs": [],
   "source": []
  },
  {
   "cell_type": "code",
   "execution_count": null,
   "metadata": {},
   "outputs": [],
   "source": []
  },
  {
   "cell_type": "code",
   "execution_count": null,
   "metadata": {},
   "outputs": [],
   "source": []
  },
  {
   "cell_type": "code",
   "execution_count": null,
   "metadata": {},
   "outputs": [],
   "source": []
  },
  {
   "cell_type": "markdown",
   "metadata": {},
   "source": [
    "### Geração dos dados Termodinâmicos"
   ]
  },
  {
   "cell_type": "markdown",
   "metadata": {},
   "source": [
    "Utilizando as redes criadas, a enumeração de cada uma e os algoritmos para obter as propriedades termodinâmicas, são apresentados os gráficos comparativos ao longo da temperatura para as redes 2x2, 4x4 e 6x6. São feitas, também, algumas discussões sobre esses resultados."
   ]
  },
  {
   "cell_type": "code",
   "execution_count": 15,
   "metadata": {},
   "outputs": [],
   "source": [
    "# Geração dos dados\n",
    "x_4 = []\n",
    "y1_4 = []\n",
    "y2_4 = []\n",
    "y3_4 = []\n",
    "y4_4 = []\n",
    "\n",
    "x_16 = []\n",
    "y1_16 = []\n",
    "y2_16 = []\n",
    "y3_16 = []\n",
    "y4_16 = []\n",
    "\n",
    "x_36 = []\n",
    "y1_36 = []\n",
    "y2_36 = []\n",
    "y3_36 = []\n",
    "y4_36 = []\n",
    "\n",
    "step = 0.01\n",
    "t_min = 1\n",
    "t_max = 5\n",
    "\n",
    "for temp in np.arange(t_min,t_max,step):\n",
    "    beta = 1/temp\n",
    "    \n",
    "    # 2x2\n",
    "    N = 4\n",
    "    qtd, energs = qtd_energias(N)\n",
    "    Z, EpS, cv = media_termo(g2, energs, N, beta)\n",
    "    x_4.append(temp)\n",
    "    y1_4.append(EpS)  # Energia por spin\n",
    "    y2_4.append(cv)   # Calor específico\n",
    "    liv_spin = energia_livre_spin(Z, N, beta)\n",
    "    y3_4.append(liv_spin)   # Energia livre por spin\n",
    "    y4_4.append(entropia_spin(EpS, liv_spin, temp))  # Entropia por spin\n",
    "    \n",
    "    # 4x4\n",
    "    N = 16\n",
    "    qtd, energs = qtd_energias(N)\n",
    "    Z, EpS, cv = media_termo(g4, energs, N, beta)\n",
    "    x_16.append(temp)\n",
    "    y1_16.append(EpS)  # Energia por spin\n",
    "    y2_16.append(cv)   # Calor específico\n",
    "    liv_spin = energia_livre_spin(Z, N, beta)\n",
    "    y3_16.append(liv_spin)   # Energia livre por spin\n",
    "    y4_16.append(entropia_spin(EpS, liv_spin, temp))  # Entropia por spin\n",
    "    \n",
    "    # 6x6\n",
    "    N = 36\n",
    "    qtd, energs = qtd_energias(N)\n",
    "    Z, EpS, cv = media_termo(g6, energs, N, beta)\n",
    "    x_36.append(temp)\n",
    "    y1_36.append(EpS)  # Energia por spin\n",
    "    y2_36.append(cv)   # Calor específico\n",
    "    liv_spin = energia_livre_spin(Z, N, beta)\n",
    "    y3_36.append(liv_spin)   # Energia livre por spin\n",
    "    y4_36.append(entropia_spin(EpS, liv_spin, temp))  # Entropia por spin"
   ]
  },
  {
   "cell_type": "code",
   "execution_count": null,
   "metadata": {},
   "outputs": [],
   "source": []
  },
  {
   "cell_type": "code",
   "execution_count": null,
   "metadata": {},
   "outputs": [],
   "source": []
  },
  {
   "cell_type": "code",
   "execution_count": null,
   "metadata": {},
   "outputs": [],
   "source": []
  },
  {
   "cell_type": "markdown",
   "metadata": {},
   "source": [
    "### Calor Específico"
   ]
  },
  {
   "cell_type": "code",
   "execution_count": 16,
   "metadata": {},
   "outputs": [
    {
     "data": {
      "image/png": "[encoded data removed]",
      "text/plain": [
       "<Figure size 432x288 with 1 Axes>"
      ]
     },
     "metadata": {
      "needs_background": "light"
     },
     "output_type": "display_data"
    }
   ],
   "source": [
    "# Plot Calor Específico\n",
    "plt.plot(x_4 ,y2_4 )\n",
    "plt.plot(x_16,y2_16)\n",
    "plt.plot(x_36,y2_36)\n",
    "plt.ylabel(\"Calor específico\")\n",
    "plt.xlabel(\"Temperatura\")\n",
    "plt.legend([\"2x2\",\"4x4\",\"6x6\"])\n",
    "plt.show()"
   ]
  },
  {
   "cell_type": "markdown",
   "metadata": {},
   "source": [
    "Há um pico do calor específico em torno de 2.5 de temperatura, ou seja, nessas redes do modelo de Ising que fizemos, numa temperatura de 2.5 teremos que fornecer mais energia para o sistema para que sua temperatura aumente. Como referido no enunciado, esse aumento no calor específico nesse ponto pode indicar, por exemplo, uma transição de fase.\n",
    "\n",
    "É interessante notar que, a curva do 6x6 tem um pico maior que a do 4x4, que, por sua vez, é maior que o do 2x2. Apesar disso, a do 6x6 cai primeiro e para um valor menor, seguida do 4x4 e do 2x2."
   ]
  },
  {
   "cell_type": "markdown",
   "metadata": {},
   "source": [
    "### Energia por Spin e Energia Livre por Spin"
   ]
  },
  {
   "cell_type": "code",
   "execution_count": 17,
   "metadata": {},
   "outputs": [
    {
     "data": {
      "image/png": "[encoded data removed]",
      "text/plain": [
       "<Figure size 432x288 with 1 Axes>"
      ]
     },
     "metadata": {
      "needs_background": "light"
     },
     "output_type": "display_data"
    }
   ],
   "source": [
    "# Plot Energia por Spin\n",
    "plt.plot(x_4 ,y1_4 )\n",
    "plt.plot(x_16,y1_16)\n",
    "plt.plot(x_36,y1_36)\n",
    "plt.ylabel(\"Energia por Spin\")\n",
    "plt.xlabel(\"Temperatura\")\n",
    "plt.legend([\"2x2\",\"4x4\",\"6x6\"])\n",
    "plt.show()"
   ]
  },
  {
   "cell_type": "markdown",
   "metadata": {},
   "source": [
    "A energia por sítio aumenta com o aumento da temperatura como esperado. Numa rede maior, esse aumento é mais rápido, sobretudo a partir da temperatura de 2. Todos começam com uma energia por spin muito baixa, equivalen"
   ]
  },
  {
   "cell_type": "code",
   "execution_count": 18,
   "metadata": {},
   "outputs": [
    {
     "data": {
      "image/png": "[encoded data removed]",
      "text/plain": [
       "<Figure size 432x288 with 1 Axes>"
      ]
     },
     "metadata": {
      "needs_background": "light"
     },
     "output_type": "display_data"
    }
   ],
   "source": [
    "# Plot Energia Livre por Spin\n",
    "plt.plot(x_4 ,y3_4 )\n",
    "plt.plot(x_16,y3_16)\n",
    "plt.plot(x_36,y3_36)\n",
    "plt.ylabel(\"Energia Livre por Spin\")\n",
    "plt.xlabel(\"Temperatura\")\n",
    "plt.legend([\"2x2\",\"4x4\",\"6x6\"])\n",
    "plt.show()"
   ]
  },
  {
   "cell_type": "markdown",
   "metadata": {},
   "source": [
    "Juntando esse resultado com o da energia por spin, podemos notar, naturalmente, que com o aumento da temperatura, a energia por spin aumenta enquanto a sua energia livre diminui. Nesses dois gráficos, também, a partir de 2.5 de temperatura há uma mudança no comportamento das curvas. A energia livre diminui mais rapidamente enquanto a energia por spin aumentou mais rapidamente. Comparando as curvas entre as redes de dimensões diferentes, vemos que as redes 4x4 e 6x6 ficam muito próximas, novamente. A rede 2x2 teve um comportamento parecido, apesar de um pouco abaixo das das outras redes, tanto na energia por spin quanto na energia livre por spin"
   ]
  },
  {
   "cell_type": "markdown",
   "metadata": {},
   "source": [
    "### Entropia por Spin"
   ]
  },
  {
   "cell_type": "code",
   "execution_count": 19,
   "metadata": {},
   "outputs": [
    {
     "data": {
      "image/png": "[encoded data removed]",
      "text/plain": [
       "<Figure size 432x288 with 1 Axes>"
      ]
     },
     "metadata": {
      "needs_background": "light"
     },
     "output_type": "display_data"
    }
   ],
   "source": [
    "# Plot Entropia por Spin\n",
    "plt.plot(x_4 ,y4_4 )\n",
    "plt.plot(x_16,y4_16)\n",
    "plt.plot(x_36,y4_36)\n",
    "plt.legend([\"2x2\",\"4x4\",\"6x6\"])\n",
    "plt.ylabel(\"Entropia por Spin\")\n",
    "plt.xlabel(\"Temperatura\")\n",
    "plt.show()"
   ]
  },
  {
   "cell_type": "markdown",
   "metadata": {},
   "source": [
    "Em concordância com o que vimos, com o aumento da temperatura, há um aumento da temperatura do sistema. É notável que à temperatura de 1, a entropia do 2x2 é maior do que a das outras duas redes. Além disso, a rede 4x4 tem uma entropia por spin um pouco maior que a do 6x6 nessa temperatura, apesar de que ambas estão próximas de 0.   \n",
    "Aqui ocorre um comportamento semelhante ao que ocorreu com as curvas de calor específico, inicialmente, a ordem é 2x2 > 4x4 > 6x6. Porém, após o marco da temperatura de 2.5, a situação se reverte de forma que a ordem passa a ser 6x6 > 4x4 > 2x2."
   ]
  },
  {
   "cell_type": "markdown",
   "metadata": {},
   "source": [
    "### Equação da Energia\n",
    "\n",
    "_Essa última expressão mostra que as energias permitidas para o modelo de Ising estão no intervalo de $−2N$ a $2N$ em passos de 4, sendo que os estados de energia $−2N+4$ e $2N−4$ não são permitidos. Verifique essas afirmações._\n",
    "\n",
    "\n",
    "$$\n",
    "E = -\\sum{\\sigma_k\\sigma_l}\n",
    "$$"
   ]
  },
  {
   "cell_type": "markdown",
   "metadata": {},
   "source": [
    "#### Questão do $-2N$ e $+2N$\n",
    "Como vimos em aula, há duas configurações com a energia de $-2N$. A primeira delas é quando todos os sítios estão em $+1$. Nesse caso, para cada sítio, tendo em vista que temos que considerar dois vizinhos na equação da energia, como todos estão em $+1$, teremos $-(+1)\\cdot(+1)=-1$ para cada um dos dois vizinhos, totalizando $-2$ a soma deles. Isso é feito para cada sítio, logo teremos um total de $-2N$ para toda a rede. Um raciocínio análogo serve para obtermos que todos os sítios em $-1$ tem energia $-2N$ também. Em ambos os casos, qualquer mudança de spins aumenta a energia do sistema, logo este é o valor mínimo possível.\n",
    "\n",
    "Também baseado no que vimos, sabemos que há apenas duas outras configurações com energia de $+2N$. Ela ocorre quando há uma distribuição alternada de $+1$ e $-1$ entre os sítios, nas linhas e nas colunas. Nesse caso, todo sítio tem dois vizinhos com sinal contrário ao dele próprio. Assim, o produto será $-(+1)\\cdot(-1)=+1$ para os dois vizinhos (caso o sítio seja $-1$) ou $-(-1)\\cdot(+1)=+1$ (caso o sítio seja $+1$). Em ambos os casos, teremos a soma de $+2$ para cada sítio, portanto, $+2N$ para todos os sítios. Em ambos os casos, qualquer mudança diminui a energia do sistema, portanto este é o valor máximo possível de energia."
   ]
  },
  {
   "cell_type": "markdown",
   "metadata": {},
   "source": [
    "#### Questão dos passos de 4 em 4\n",
    "\n",
    "Agora temos que mostrar que as energias só podem ser dados de 4 em 4 unidades de energia. Vamos utilizar a equação de energia considerando o flip de um único sítio. \n",
    "\n",
    "$$\n",
    "E_f = E_i -2s_i'\\sum_j{s_j} \\\\\n",
    "\\text{sendo $j$ os 4 vizinhos do sítio já flipado $s_i'$}\n",
    "$$\n",
    "\n",
    "Para que a diferença seja de 4 unidades, o produto $-2s_i'\\sum_j{s_j}$ deve ser múltiplo (inteiro) de 4. O valor de $s_i'$ só pode se $+1$ ou $-1$. Enquanto isso, a soma $\\sum_j{s_j}$ só pode assumir cinco valores, sendo que a adição é comutativa, então as outras combinações dos spins dos vizinhos também cairão em algum desses cinco casos. Para todos esses cinco valores, quando os multiplicamos por $(-2)\\cdot(\\pm1)$ caímos num múltiplo de 4. Assim, os passos das energias possíveis devem ser de 4 em 4.\n",
    "\n",
    "$$\n",
    "(+1)+(+1)+(+1)+(+1)=+4 \\\\\n",
    "(-1)+(+1)+(+1)+(+1)=+2 \\\\\n",
    "(-1)+(-1)+(+1)+(+1)= 0 \\\\\n",
    "(-1)+(-1)+(-1)+(+1)=-2 \\\\\n",
    "(-1)+(-1)+(-1)+(-1)=-4 \\\\\n",
    "$$"
   ]
  },
  {
   "cell_type": "markdown",
   "metadata": {},
   "source": [
    "#### Níveis 4 níveis do máximo ou do mínimo\n",
    "\n",
    "Já mostramos que há duas configurações com $-2N$ e com $+2N$ e que os passos são de 4 em 4. Nos resta mostrar que não é possível haver uma configuração ou com $-2N+4$ ou com $+2N-4$. "
   ]
  },
  {
   "cell_type": "markdown",
   "metadata": {},
   "source": [
    "\n",
    "Quando todos os spins são iguais, temos a energia mínima de $-2N$.Vamos analisar o caso em que todos os sítios estão com $+1$, o caso inverso é análogo. Qualquer mudança em algum spin criará um único sítio com spin contrário e cairemos ou no caso do somatório $+4$. Desse modo, o produto na fórmula de flip da energia será $-2s_i'\\sum_j{s_j}=-2\\cdot(-1)\\cdot4=8$, logo a diferença é de 8. Não é possível atingir o estado com 4 unidades de diferença desse mínimo.\n",
    "\n"
   ]
  },
  {
   "cell_type": "markdown",
   "metadata": {},
   "source": [
    "Quando os spins estão alternados de forma equilibrada, temos o caso de energia máxima. Vamos mudar um spin que era $-1$ para $+1$. O outro caso é análogo. Quando isso ocorre, o sítio com o novo spin e seus quatro vizinhos terão o mesmo sinal $+1$. Aqui também o somatório dos spins dos vizinhos é de $+4$ de forma que o produto será $-8$ agora. Assim, tal como no contexto anterior, não é possível atingir o nível 4 unidades abaixo do máximo."
   ]
  },
  {
   "cell_type": "code",
   "execution_count": null,
   "metadata": {},
   "outputs": [],
   "source": []
  }
 ],
 "metadata": {
  "kernelspec": {
   "display_name": "Python 3",
   "language": "python",
   "name": "python3"
  },
  "language_info": {
   "codemirror_mode": {
    "name": "ipython",
    "version": 3
   },
   "file_extension": ".py",
   "mimetype": "text/x-python",
   "name": "python",
   "nbconvert_exporter": "python",
   "pygments_lexer": "ipython3",
   "version": "3.8.5"
  }
 },
 "nbformat": 4,
 "nbformat_minor": 4
}
