{
 "cells": [
  {
   "cell_type": "markdown",
   "metadata": {},
   "source": [
    "# Algoritmo de Wang-Landau\n",
    "Arthur Souto Lima - 2018055113"
   ]
  },
  {
   "cell_type": "markdown",
   "metadata": {},
   "source": [
    "## Imports e Funções Auxiliares"
   ]
  },
  {
   "cell_type": "markdown",
   "metadata": {},
   "source": [
    "### Imports"
   ]
  },
  {
   "cell_type": "markdown",
   "metadata": {},
   "source": [
    "Imports de funções das bibliotecas"
   ]
  },
  {
   "cell_type": "code",
   "execution_count": 1,
   "metadata": {},
   "outputs": [],
   "source": [
    "import numpy as np\n",
    "import matplotlib.pyplot as plt\n",
    "import pickle"
   ]
  },
  {
   "cell_type": "markdown",
   "metadata": {},
   "source": [
    "Importar as funções do script python que implementa o algoritmo de Wang-Landau, utilizando Numba, como recomendado. Há também funções auxiliares advindas da atividade anterior. Ao final do relatório, o script é apresentado na íntegra."
   ]
  },
  {
   "cell_type": "code",
   "execution_count": 2,
   "metadata": {},
   "outputs": [],
   "source": [
    "from wang import energy_ising, energy_scale, neighbours, random_energy_state"
   ]
  },
  {
   "cell_type": "markdown",
   "metadata": {},
   "source": [
    "### Algoritmos de Propriedades Termodinâmicas"
   ]
  },
  {
   "cell_type": "markdown",
   "metadata": {},
   "source": [
    "Os algoritmos utilizados na atividade anterior foram aqui adaptados para utilizar o logaritmo da densidade de estados."
   ]
  },
  {
   "cell_type": "code",
   "execution_count": 3,
   "metadata": {},
   "outputs": [],
   "source": [
    "def media_termo(lg, N, beta):\n",
    "    \"\"\"\n",
    "    Obtém as propriedades termodinâmicas a uma dada temperatura (com inverso beta),\n",
    "    dada o logaritmo de energias por configuração (lnG).\n",
    "    Adaptação do algoritmo da atividade anterior\n",
    "    \"\"\"\n",
    "    Z = 0\n",
    "    Em = 0\n",
    "    Em2 = 0\n",
    "    \n",
    "    Emin = energy_unscale(0,N)\n",
    "    Emax = energy_unscale(N,N)\n",
    "    \n",
    "    for E_scaled in range(N):\n",
    "        E = energy_unscale(E_scaled,N)   # Acha a energia sem escala\n",
    "        \n",
    "        E1 = E - Emin\n",
    "        gE = np.exp(lg[E_scaled])    # Desfaz o logaritmo\n",
    "        Z = Z + gE*np.exp(-beta*E1)\n",
    "        Em = Em + E1*gE*np.exp(-beta*E1)\n",
    "        Em2 = Em2 + E1*E1*gE*np.exp(-beta*E1)\n",
    "    Em = Em/Z\n",
    "    Em2 = Em2/Z\n",
    "    \n",
    "    # longdouble porque a multiplicação causa overflow às vezes\n",
    "    Z = Z*np.exp((np.longdouble(-beta*Emin)))  # Potencial overflow\n",
    "    cv = (beta*beta*(Em2-Em**2))/N\n",
    "    EpS = (Em + Emin)/N\n",
    "    return Z, EpS, cv"
   ]
  },
  {
   "cell_type": "code",
   "execution_count": 4,
   "metadata": {},
   "outputs": [],
   "source": [
    "def energia_livre_spin(Z, N, beta):\n",
    "    \"\"\"\n",
    "    Calcula a energia livre por spin, usando a fórmula do enunciado.\n",
    "    Note que a função np.log é o logaritmo natural.\n",
    "    Idêntico ao da atividade anterior\n",
    "    \"\"\"\n",
    "    result = N * beta\n",
    "    result = -1/result\n",
    "    result = result * np.log(Z)  # np.log é o logaritmo natural\n",
    "    return result"
   ]
  },
  {
   "cell_type": "code",
   "execution_count": 5,
   "metadata": {},
   "outputs": [],
   "source": [
    "def entropia_spin(e_spin, e_livre_spin, temp):\n",
    "    \"\"\"\n",
    "    Calcula a entropia livre por spin, usando a fórmula do enunciado.\n",
    "    Note que utiliza a temperatura e não o inverso dela (beta).\n",
    "    Idêntico ao da atividade anterior\n",
    "    \"\"\"\n",
    "    result = e_spin - e_livre_spin\n",
    "    result = result / temp\n",
    "    return result"
   ]
  },
  {
   "cell_type": "markdown",
   "metadata": {},
   "source": [
    "### Algoritmo Magnetização"
   ]
  },
  {
   "cell_type": "markdown",
   "metadata": {},
   "source": [
    "Utilizando a fórmula fornecida no enunciado, pode-se montar uma função para o cálculo da magnetização média a partir da média microcanônica obtida durante o método de Wang-Landau. Seguindo orientações também do enunciado, usa-se aqui um truque para evitar overflow em exponenciais. Além disso, numa multiplicação específica foi necessário usar o _long double_ pois o tamanho do _double_ não foi suficiente"
   ]
  },
  {
   "cell_type": "code",
   "execution_count": 6,
   "metadata": {},
   "outputs": [],
   "source": [
    "from math import isnan\n",
    "\n",
    "def magn(lg, mmicro, Z, N, beta):\n",
    "    \"\"\"\n",
    "    Obtém a magnetização média a partir da média microcanônica\n",
    "    \"\"\"\n",
    "    # Truque para evitar overflow nas exponenciais\n",
    "    truque = 0\n",
    "    for E_scaled in range(N):\n",
    "        E = energy_unscale(E_scaled, N)\n",
    "        if ((-beta*E) > truque):\n",
    "            truque = E\n",
    "\n",
    "    soma = 0\n",
    "    for E_scaled in range(N):\n",
    "        # Pula as energias não permitidas\n",
    "        if (isnan(mmicro[E_scaled])): continue\n",
    "        \n",
    "        # Desfaz o logaritmo\n",
    "        gE = np.exp(lg[E_scaled])\n",
    "        E = energy_unscale(E_scaled, N)\n",
    "        \n",
    "        # Forma o termo da soma\n",
    "        termo = mmicro[E_scaled]\n",
    "        # longdouble porque a multiplicação causa overflow às vezes\n",
    "        termo *= np.exp((np.longdouble(-beta*E))-truque)   \n",
    "        termo *= gE\n",
    "        soma += termo\n",
    "    return soma/Z"
   ]
  },
  {
   "cell_type": "markdown",
   "metadata": {},
   "source": [
    "## Simulações"
   ]
  },
  {
   "cell_type": "markdown",
   "metadata": {},
   "source": [
    "Utilizando o script, mas invocando-o via shell do notebook, vamos simular para obter as redes 6x6, 12x12, 18x18 e 24x24. Estamos fazendo dessa forma pois houve problemas com o kernel do Jupyter Notebook em redes maiores que 12x12. As redes são computadas e guardadas em arquivos com nomes específicos.\n",
    "\n",
    "Sem entrar muito em detalhes no que é cada número das saídas intermediárias, o último número de cada linha sempre é o $lnf$ corrente. Assim, como esperado, ele acaba diminuindo com o passar das linhas"
   ]
  },
  {
   "cell_type": "code",
   "execution_count": 7,
   "metadata": {
    "scrolled": true
   },
   "outputs": [
    {
     "name": "stdout",
     "output_type": "stream",
     "text": [
      "2057.14 1679.0 1679.0 1645.71 10000 0.001953125\n",
      "Criado rede 6x6\n",
      "\u001b[0mCPU times: user 45 ms, sys: 23 ms, total: 68 ms\n",
      "Wall time: 3 s\n"
     ]
    }
   ],
   "source": [
    "%time !python wang.py 6"
   ]
  },
  {
   "cell_type": "code",
   "execution_count": null,
   "metadata": {},
   "outputs": [],
   "source": []
  },
  {
   "cell_type": "code",
   "execution_count": null,
   "metadata": {},
   "outputs": [],
   "source": []
  },
  {
   "cell_type": "code",
   "execution_count": null,
   "metadata": {},
   "outputs": [],
   "source": []
  },
  {
   "cell_type": "code",
   "execution_count": 8,
   "metadata": {
    "scrolled": true
   },
   "outputs": [
    {
     "name": "stdout",
     "output_type": "stream",
     "text": [
      "15104.9 12272.0 12272.0 12083.92 490000 7.450580596923828e-09\n",
      "Criado rede 12x12\n",
      "\u001b[0mCPU times: user 92.7 ms, sys: 18.4 ms, total: 111 ms\n",
      "Wall time: 5.6 s\n"
     ]
    }
   ],
   "source": [
    "%time !python wang.py 12"
   ]
  },
  {
   "cell_type": "code",
   "execution_count": 9,
   "metadata": {
    "scrolled": true
   },
   "outputs": [
    {
     "name": "stdout",
     "output_type": "stream",
     "text": [
      "74229.1 59723.0 59723.0 59383.28 280000 1.52587890625e-05\n",
      "72222.91 57786.0 57786.0 57778.33 810000 9.5367431640625e-07\n",
      "Criado rede 18x18\n",
      "\u001b[0mCPU times: user 354 ms, sys: 76.4 ms, total: 431 ms\n",
      "Wall time: 21.6 s\n"
     ]
    }
   ],
   "source": [
    "%time !python wang.py 18"
   ]
  },
  {
   "cell_type": "code",
   "execution_count": 10,
   "metadata": {
    "scrolled": true
   },
   "outputs": [
    {
     "name": "stdout",
     "output_type": "stream",
     "text": [
      "5008.7 4230.0 4230.0 4006.96 40000 0.03125\n",
      "Criado rede 24x24\n",
      "\u001b[0mCPU times: user 1.12 s, sys: 709 ms, total: 1.83 s\n",
      "Wall time: 1min 36s\n"
     ]
    }
   ],
   "source": [
    "%time !python wang.py 24"
   ]
  },
  {
   "cell_type": "markdown",
   "metadata": {},
   "source": [
    "## Resultados e Discussão"
   ]
  },
  {
   "cell_type": "markdown",
   "metadata": {},
   "source": [
    "### Carregamento do Arquivo"
   ]
  },
  {
   "cell_type": "markdown",
   "metadata": {},
   "source": [
    "As redes foram salvas em arquivos do tipo _wangLxL.dict_ e _magLxL.dict_, com o $L$ correspondente. Vamos carregá-las para fazer algumas discussões"
   ]
  },
  {
   "cell_type": "code",
   "execution_count": 11,
   "metadata": {},
   "outputs": [],
   "source": [
    "L = 6\n",
    "lg6 = None\n",
    "mmicro6 = None\n",
    "with open(f\"wang{L}x{L}.dict\", \"rb\") as f:\n",
    "    lg6 = pickle.load(f)\n",
    "with open(f\"mag{L}x{L}.dict\", \"rb\") as f:\n",
    "    mmicro6 = pickle.load(f)"
   ]
  },
  {
   "cell_type": "code",
   "execution_count": 12,
   "metadata": {},
   "outputs": [],
   "source": [
    "L = 12\n",
    "lg12 = None\n",
    "mmicro12 = None\n",
    "with open(f\"wang{L}x{L}.dict\", \"rb\") as f:\n",
    "    lg12 = pickle.load(f)\n",
    "with open(f\"mag{L}x{L}.dict\", \"rb\") as f:\n",
    "    mmicro12 = pickle.load(f)"
   ]
  },
  {
   "cell_type": "code",
   "execution_count": 13,
   "metadata": {},
   "outputs": [],
   "source": [
    "L = 18\n",
    "lg18 = None\n",
    "mmicro18 = None\n",
    "with open(f\"wang{L}x{L}.dict\", \"rb\") as f:\n",
    "    lg18 = pickle.load(f)\n",
    "with open(f\"mag{L}x{L}.dict\", \"rb\") as f:\n",
    "    mmicro18 = pickle.load(f)"
   ]
  },
  {
   "cell_type": "code",
   "execution_count": 14,
   "metadata": {},
   "outputs": [],
   "source": [
    "L = 24\n",
    "lg24 = None\n",
    "mmicro24 = None\n",
    "with open(f\"wang{L}x{L}.dict\", \"rb\") as f:\n",
    "    lg24 = pickle.load(f)\n",
    "with open(f\"mag{L}x{L}.dict\", \"rb\") as f:\n",
    "    mmicro24 = pickle.load(f)"
   ]
  },
  {
   "cell_type": "code",
   "execution_count": null,
   "metadata": {},
   "outputs": [],
   "source": []
  },
  {
   "cell_type": "code",
   "execution_count": null,
   "metadata": {},
   "outputs": [],
   "source": []
  },
  {
   "cell_type": "code",
   "execution_count": null,
   "metadata": {},
   "outputs": [],
   "source": []
  },
  {
   "cell_type": "code",
   "execution_count": null,
   "metadata": {},
   "outputs": [],
   "source": []
  },
  {
   "cell_type": "code",
   "execution_count": null,
   "metadata": {},
   "outputs": [],
   "source": []
  },
  {
   "cell_type": "markdown",
   "metadata": {},
   "source": [
    "### Comparação com Enumeração Exata"
   ]
  },
  {
   "cell_type": "markdown",
   "metadata": {},
   "source": [
    "Na atividade anterior, não foi possível executar a rede 6x6, pois demorava bastante. Naquele contexto, inseriu-se manualmente a solução exata. Nesse momento, com orientações do professor sobre algumas bibliotecas, como o Numba, não se teve mais problemas com tempos de execução no algoritmo de Wang-Landau. \n",
    "\n",
    "Vamos carregar, portanto, do mesmo arquivo da atividade passada, a rede 6x6 exata e comparar com a do arquivo da rede 6x6 aproximada desse momento para vermos o desempenho desse algoritmo frente à solução exata."
   ]
  },
  {
   "cell_type": "code",
   "execution_count": 15,
   "metadata": {},
   "outputs": [],
   "source": [
    "L = 6\n",
    "N = L**2\n",
    "g6 = None\n",
    "with open(f\"rede{L}x{L}.dict\", \"rb\") as f:\n",
    "    g6 = pickle.load(f)\n",
    "\n",
    "# Escalando-os usando a equação \n",
    "g6_scaled = np.zeros(N+1, dtype=np.float64)\n",
    "for key,val in g6.items():\n",
    "    i = energy_scale(N,key)\n",
    "    g6_scaled[i] = val"
   ]
  },
  {
   "cell_type": "code",
   "execution_count": 16,
   "metadata": {},
   "outputs": [
    {
     "data": {
      "image/png": "[encoded data removed]",
      "text/plain": [
       "<Figure size 432x288 with 1 Axes>"
      ]
     },
     "metadata": {
      "needs_background": "light"
     },
     "output_type": "display_data"
    }
   ],
   "source": [
    "plt.plot(np.exp(lg6))\n",
    "plt.plot(g6_scaled)\n",
    "plt.legend([\"Wang-Landau\",\"Exato\"])\n",
    "plt.title(\"Comparação Enumeração Exata vs. Algoritmo Wang-Landau\\nRede 6x6\");"
   ]
  },
  {
   "cell_type": "markdown",
   "metadata": {},
   "source": [
    "Como vimos na aula, o algoritmo de Wang-Landau, tendo como base o método de Monte Carlo, com quantidade suficiente de iterações, se aproxima bastante da enumeração exata. Esse resultado nos ratifica isso com as duas curvas bastante próximas. Possivelmente, com mais iterações ou com uma condição de saída (limite inferior do $lnf$), teríamos resultados ainda mais próximos."
   ]
  },
  {
   "cell_type": "markdown",
   "metadata": {},
   "source": [
    "### Distribuições de Energia"
   ]
  },
  {
   "cell_type": "markdown",
   "metadata": {},
   "source": [
    "Tal como foi feito na atividade anterior, vamos plotar o histograma das distribuições de energia comparando as redes de tamanhos diferentes. Contudo, já que fizemos uma escala das energias para facilitar a indexação, vamos ter que desfazê-la para poder tê-la novamente entre $-2$ e $+2$."
   ]
  },
  {
   "cell_type": "code",
   "execution_count": 17,
   "metadata": {},
   "outputs": [],
   "source": [
    "def energy_unscale(E, N):\n",
    "    \"\"\"\n",
    "    Desfaz a escala dos valores de energia para que fiquem entre -2N até 2N\n",
    "    ao invés de entre 0 e N \n",
    "    \"\"\"\n",
    "    E = 4*E - 2*N\n",
    "    if (int(E) - E > 0):\n",
    "        print(\"Energia não inteira pós re-escala!\")\n",
    "    return int(E)"
   ]
  },
  {
   "cell_type": "code",
   "execution_count": null,
   "metadata": {},
   "outputs": [],
   "source": []
  },
  {
   "cell_type": "code",
   "execution_count": null,
   "metadata": {},
   "outputs": [],
   "source": []
  },
  {
   "cell_type": "markdown",
   "metadata": {},
   "source": [
    "Agora podemos coletar os dados do histograma, o eixo x será de $\\frac{E}{N}$, como requisitado pelo enunciado, permitindo a comparação. Convém lembrar que, tendo em vista que as energias $-2N+4$ e $2N-4$ não são permitidas, ignoramos esses dois valores 0 na coleta e análise a seguir"
   ]
  },
  {
   "cell_type": "code",
   "execution_count": 18,
   "metadata": {},
   "outputs": [],
   "source": [
    "x_6 = []\n",
    "y_6 = []\n",
    "N = 6**2\n",
    "for i in range(len(lg6)):\n",
    "    if (lg6[i] == 0): continue\n",
    "    E = energy_unscale(i, N)\n",
    "    x_6.append(E/N)\n",
    "    y_6.append(lg6[i])"
   ]
  },
  {
   "cell_type": "code",
   "execution_count": 19,
   "metadata": {},
   "outputs": [],
   "source": [
    "x_12 = []\n",
    "y_12 = []\n",
    "N = 12**2\n",
    "for i in range(len(lg12)):\n",
    "    if (lg12[i] == 0): continue\n",
    "    E = energy_unscale(i, N)\n",
    "    x_12.append(E/N)\n",
    "    y_12.append(lg12[i])"
   ]
  },
  {
   "cell_type": "code",
   "execution_count": 20,
   "metadata": {},
   "outputs": [],
   "source": [
    "x_18 = []\n",
    "y_18 = []\n",
    "N = 18**2\n",
    "for i in range(len(lg18)):\n",
    "    if (lg18[i] == 0): continue\n",
    "    E = energy_unscale(i, N)\n",
    "    x_18.append(E/N)\n",
    "    y_18.append(lg18[i])"
   ]
  },
  {
   "cell_type": "code",
   "execution_count": 21,
   "metadata": {},
   "outputs": [],
   "source": [
    "x_24 = []\n",
    "y_24 = []\n",
    "N = 24**2\n",
    "for i in range(len(lg24)):\n",
    "    if (lg24[i] == 0): continue\n",
    "    E = energy_unscale(i, N)\n",
    "    x_24.append(E/N)\n",
    "    y_24.append(lg24[i])"
   ]
  },
  {
   "cell_type": "markdown",
   "metadata": {},
   "source": [
    "Finalmente pode-se ver o histograma. Tomou-se um outro logaritmo na escala do eixo y para facilitar a visualização além do logaritmo tomado da distribuição de energia."
   ]
  },
  {
   "cell_type": "code",
   "execution_count": 22,
   "metadata": {},
   "outputs": [
    {
     "data": {
      "image/png": "[encoded data removed]",
      "text/plain": [
       "<Figure size 432x288 with 1 Axes>"
      ]
     },
     "metadata": {
      "needs_background": "light"
     },
     "output_type": "display_data"
    }
   ],
   "source": [
    "# Tomamos o log de log(g(E)) para melhor visualizar\n",
    "plt.rc('xtick', labelsize=8)    # fontsize of the tick labels\n",
    "plt.rc('ytick', labelsize=8)    # fontsize of the tick labels\n",
    "ax = plt.gca()\n",
    "ax.bar(x_24,y_24)\n",
    "ax.bar(x_18,y_18)\n",
    "ax.bar(x_12,y_12)\n",
    "ax.bar(x_6,y_6)\n",
    "plt.ylabel(\"ln(ln(g(E)))\")\n",
    "plt.yscale(\"log\")\n",
    "plt.xlabel(\"E/N\")\n",
    "plt.legend([\"24x24\",\"18x18\",\"12x12\",\"6x6\"]);"
   ]
  },
  {
   "cell_type": "markdown",
   "metadata": {},
   "source": [
    "Os resultados aqui continuam a tendência observada na atividade anterior. Há uma imensa concentração de estados nas energias baixas em torno de 0. Além disso, redes maiores possuem mais configurações que as menores em praticamente todos os possíveis estados de energia. Apesar da escala logarítmica, vê-se uma simetria com relação ao $x=0$."
   ]
  },
  {
   "cell_type": "markdown",
   "metadata": {},
   "source": [
    "### Propriedades Termodinâmicas"
   ]
  },
  {
   "cell_type": "markdown",
   "metadata": {},
   "source": [
    "Utilizando a adaptação dos algoritmo da atividade anterior para usar o logaritmo da quantidade de configurações por energia, apresentada em seção anterior, vamos coletar os dados e discutir algumas observações."
   ]
  },
  {
   "cell_type": "code",
   "execution_count": 23,
   "metadata": {},
   "outputs": [],
   "source": [
    "# Alocação de vetores para os dados\n",
    "x_6 , y1_6 , y2_6 , y3_6 , y4_6 , m_6  = [], [], [], [], [], []\n",
    "x_12, y1_12, y2_12, y3_12, y4_12, m_12 = [], [], [], [], [], []\n",
    "x_18, y1_18, y2_18, y3_18, y4_18, m_18 = [], [], [], [], [], []\n",
    "x_24, y1_24, y2_24, y3_24, y4_24, m_24 = [], [], [], [], [], []"
   ]
  },
  {
   "cell_type": "code",
   "execution_count": 24,
   "metadata": {},
   "outputs": [],
   "source": [
    "# Parâmetros do Loop\n",
    "step = 0.01\n",
    "t_min = 1\n",
    "t_max = 5"
   ]
  },
  {
   "cell_type": "code",
   "execution_count": 25,
   "metadata": {},
   "outputs": [],
   "source": [
    "def prop_termodinamicas_mag(N, lg, mmicro, beta, temp, \n",
    "                            x, y1, y2, y3, y4, mag):\n",
    "    \"\"\"\n",
    "    Calcula as propriedades termodinâmicas dada a distribuição de estados\n",
    "    e média microcanônica para a rede de tamanho fornecido.\n",
    "    \n",
    "    Adiciona as 5 propriedades nos vetores respectivos, nessa ordem:\n",
    "    Energia por spin, calor específico, energia livre por spin,\n",
    "    entropia por spin e magnetização média.\n",
    "    \n",
    "    Adiciona também a temperatura no vetor x fornecido\n",
    "    \"\"\"\n",
    "    Z, EpS, cv = media_termo(lg, N, beta)\n",
    "    x.append(temp)\n",
    "    y1.append(EpS)  # Energia por spin\n",
    "    y2.append(cv)   # Calor específico\n",
    "    liv_spin = energia_livre_spin(Z, N, beta)\n",
    "    y3.append(liv_spin)   # Energia livre por spin\n",
    "    y4.append(entropia_spin(EpS, liv_spin, temp))  # Entropia por spin\n",
    "    mag.append(magn(lg, mmicro, Z, N, beta))  # Magnetização Média"
   ]
  },
  {
   "cell_type": "code",
   "execution_count": 26,
   "metadata": {},
   "outputs": [],
   "source": [
    "for temp in np.arange(t_min,t_max,step):\n",
    "    beta = 1/temp\n",
    "    \n",
    "    # 6x6\n",
    "    prop_termodinamicas_mag(6**2, lg6, mmicro6, beta, temp, \n",
    "                            x_6, y1_6, y2_6, y3_6, y4_6, m_6)\n",
    "    # 12x12\n",
    "    prop_termodinamicas_mag(12**2, lg12, mmicro12, beta, temp, \n",
    "                            x_12, y1_12, y2_12, y3_12, y4_12, m_12)\n",
    "    \n",
    "    # 18x18\n",
    "    prop_termodinamicas_mag(18**2, lg18, mmicro18, beta, temp, \n",
    "                            x_18, y1_18, y2_18, y3_18, y4_18, m_18)\n",
    "    \n",
    "    # 24x24\n",
    "    prop_termodinamicas_mag(24**2, lg24, mmicro24, beta, temp, \n",
    "                            x_24, y1_24, y2_24, y3_24, y4_24, m_24)"
   ]
  },
  {
   "cell_type": "markdown",
   "metadata": {},
   "source": [
    "#### Calor Específico"
   ]
  },
  {
   "cell_type": "code",
   "execution_count": 27,
   "metadata": {},
   "outputs": [
    {
     "data": {
      "image/png": "[encoded data removed]",
      "text/plain": [
       "<Figure size 432x288 with 1 Axes>"
      ]
     },
     "metadata": {
      "needs_background": "light"
     },
     "output_type": "display_data"
    }
   ],
   "source": [
    "# Plot Calor Específico\n",
    "plt.plot(x_6 ,y2_6 )\n",
    "plt.plot(x_12,y2_12)\n",
    "plt.plot(x_18,y2_18)\n",
    "plt.plot(x_24,y2_24)\n",
    "plt.ylabel(\"Calor específico\")\n",
    "plt.xlabel(\"Temperatura\")\n",
    "plt.legend([\"6x6\",\"12x12\",\"18x18\",\"24x24\"])\n",
    "plt.show()"
   ]
  },
  {
   "cell_type": "markdown",
   "metadata": {},
   "source": [
    "As conclusões observacionais das curvas de calor específico são as mesmas que fizemos na atividade anterior. Há um notável pico dessa grandeza em torno de 2.5 de temperatura, podendo indicar, como apontado em outros momentos, uma transição de fase nesse ponto. Aqui é mantida a ordenação observada na enumeração exata, isto é, no pico do gráfico, redes maiores tem picos mais altos, mas, apesar disso, tem uma queda mais vertiginosa que as menores."
   ]
  },
  {
   "cell_type": "code",
   "execution_count": null,
   "metadata": {},
   "outputs": [],
   "source": []
  },
  {
   "cell_type": "code",
   "execution_count": null,
   "metadata": {},
   "outputs": [],
   "source": []
  },
  {
   "cell_type": "code",
   "execution_count": null,
   "metadata": {},
   "outputs": [],
   "source": []
  },
  {
   "cell_type": "code",
   "execution_count": null,
   "metadata": {},
   "outputs": [],
   "source": []
  },
  {
   "cell_type": "code",
   "execution_count": null,
   "metadata": {},
   "outputs": [],
   "source": []
  },
  {
   "cell_type": "code",
   "execution_count": null,
   "metadata": {},
   "outputs": [],
   "source": []
  },
  {
   "cell_type": "code",
   "execution_count": null,
   "metadata": {},
   "outputs": [],
   "source": []
  },
  {
   "cell_type": "code",
   "execution_count": null,
   "metadata": {},
   "outputs": [],
   "source": []
  },
  {
   "cell_type": "markdown",
   "metadata": {},
   "source": [
    "#### Energia por Spin e Energia Livre por Spin"
   ]
  },
  {
   "cell_type": "code",
   "execution_count": 28,
   "metadata": {},
   "outputs": [
    {
     "data": {
      "image/png": "[encoded data removed]",
      "text/plain": [
       "<Figure size 432x288 with 1 Axes>"
      ]
     },
     "metadata": {
      "needs_background": "light"
     },
     "output_type": "display_data"
    }
   ],
   "source": [
    "# Plot Energia por Spin\n",
    "plt.plot(x_6 ,y1_6 )\n",
    "plt.plot(x_12,y1_12)\n",
    "plt.plot(x_18,y1_18)\n",
    "plt.plot(x_24,y1_24)\n",
    "plt.ylabel(\"Energia por Spin\")\n",
    "plt.xlabel(\"Temperatura\")\n",
    "plt.legend([\"6x6\",\"12x12\",\"18x18\",\"24x24\"])\n",
    "plt.show()"
   ]
  },
  {
   "cell_type": "markdown",
   "metadata": {},
   "source": [
    "Novamente, as conclusões são parecidas: a energia por sítio aumenta com o aumento da temperatura. Além disso, embora não tão claro de se perceber, nota-se que em redes maiores, o aumento é mais rápido, principalmente a partir da temperatura de 2."
   ]
  },
  {
   "cell_type": "code",
   "execution_count": 29,
   "metadata": {},
   "outputs": [
    {
     "data": {
      "image/png": "[encoded data removed]",
      "text/plain": [
       "<Figure size 432x288 with 1 Axes>"
      ]
     },
     "metadata": {
      "needs_background": "light"
     },
     "output_type": "display_data"
    }
   ],
   "source": [
    "# Plot Energia Livre por Spin\n",
    "plt.plot(x_6 ,y3_6 )\n",
    "plt.plot(x_12,y3_12)\n",
    "plt.plot(x_18,y3_18)\n",
    "plt.plot(x_24,y3_24)\n",
    "plt.ylabel(\"Energia Livre por Spin\")\n",
    "plt.xlabel(\"Temperatura\")\n",
    "plt.legend([\"6x6\",\"12x12\",\"18x18\",\"24x24\"])\n",
    "plt.show()"
   ]
  },
  {
   "cell_type": "markdown",
   "metadata": {},
   "source": [
    "Vê-se que a energia livre diminui com o aumento da temperatura. O queda torna-se mais forte a partir de 2 ou 2.5, aproximadamente onde a energia por spin aumentou de forma mais rápida. Nesse caso, com redes bem maiores, todas posuem curvas muito semelhantes, o que não aconteceu, por exemplo, com a rede 2x2 na atividade passada nessa mesma grandeza, que era destacadamente diferente das outras curvas plotadas."
   ]
  },
  {
   "cell_type": "code",
   "execution_count": null,
   "metadata": {},
   "outputs": [],
   "source": []
  },
  {
   "cell_type": "code",
   "execution_count": null,
   "metadata": {},
   "outputs": [],
   "source": []
  },
  {
   "cell_type": "code",
   "execution_count": null,
   "metadata": {},
   "outputs": [],
   "source": []
  },
  {
   "cell_type": "markdown",
   "metadata": {},
   "source": [
    "#### Entropia por Spin"
   ]
  },
  {
   "cell_type": "code",
   "execution_count": 30,
   "metadata": {},
   "outputs": [
    {
     "data": {
      "image/png": "[encoded data removed]",
      "text/plain": [
       "<Figure size 432x288 with 1 Axes>"
      ]
     },
     "metadata": {
      "needs_background": "light"
     },
     "output_type": "display_data"
    }
   ],
   "source": [
    "# Plot Entropia por Spin\n",
    "plt.plot(x_6 ,y4_6 )\n",
    "plt.plot(x_12,y4_12)\n",
    "plt.plot(x_18,y4_18)\n",
    "plt.plot(x_24,y4_24)\n",
    "plt.ylabel(\"Entropia por Spin\")\n",
    "plt.xlabel(\"Temperatura\")\n",
    "plt.legend([\"6x6\",\"12x12\",\"18x18\",\"24x24\"])\n",
    "plt.show()"
   ]
  },
  {
   "cell_type": "markdown",
   "metadata": {},
   "source": [
    "Em concordância com o que vimos na atividade anterior, com o aumento da temperatura, há um aumento da entropia do sistema. É notável que à temperatura de 1, a entropia do 6x6 é maior do que a das outras redes. Além disso, a rede 24x24 tem a menor nesse ponto. Apesar da diferença, todas estão próximas de 0 aqui na temperatura de 1. De forma parecida com o resultado exato, em torno de 2.5, a ordem das curvas se inverte com o aumento da entropia do sistema. Contudo, essa inversão não se torna tão relevante com o fato de que a partir da temperatura de 3.5 as curvas estão praticamente sobrepostas.   "
   ]
  },
  {
   "cell_type": "markdown",
   "metadata": {},
   "source": [
    "#### Magnetização Média"
   ]
  },
  {
   "cell_type": "code",
   "execution_count": 31,
   "metadata": {},
   "outputs": [
    {
     "data": {
      "image/png": "[encoded data removed]",
      "text/plain": [
       "<Figure size 432x288 with 1 Axes>"
      ]
     },
     "metadata": {
      "needs_background": "light"
     },
     "output_type": "display_data"
    }
   ],
   "source": [
    "# Plot Entropia por Spin\n",
    "plt.plot(x_6 ,m_6 )\n",
    "plt.plot(x_12,m_12)\n",
    "plt.plot(x_18,m_18)\n",
    "plt.plot(x_24,m_24)\n",
    "plt.ylabel(\"Magnetização Média\")\n",
    "plt.xlabel(\"Temperatura\")\n",
    "plt.legend([\"6x6\",\"12x12\",\"18x18\",\"24x24\"])\n",
    "plt.show()"
   ]
  },
  {
   "cell_type": "markdown",
   "metadata": {},
   "source": [
    "Após normalização dos dados, vemos que todas as redes tem uma magnetização maior entre 0 e 2.5. Após esse ponto de temperatura tão relevante, a magnetização de todas as redes tem uma queda. Em linhas gerais, quanto maior a rede, menor a magnetização final e mais vertical é a queda. Assim, a rede 6x6 é a que tem a menor queda e o mais alto nível final, enquanto a 24x24 é a que tem a maior queda e mais baixo nível final de magnetização média."
   ]
  },
  {
   "cell_type": "markdown",
   "metadata": {},
   "source": [
    "## Script _wang.py_"
   ]
  },
  {
   "cell_type": "markdown",
   "metadata": {},
   "source": [
    "Abaixo o script _wang.py_, apenas para fins de relatório. Ele, ou algumas de suas funções, são invocadas ao longo do relatório"
   ]
  },
  {
   "cell_type": "code",
   "execution_count": null,
   "metadata": {},
   "outputs": [],
   "source": [
    "# %load wang.py\n",
    "import numpy as np\n",
    "from numba import jit\n",
    "import matplotlib.pyplot as plt\n",
    "import argparse\n",
    "import pickle\n",
    "\n",
    "@jit(nopython=True)\n",
    "def neighbours(N, L):\n",
    "    \"\"\"\n",
    "    Constrói a matriz de vizinhança.\n",
    "    Assume que há uma \"vizinhança circular\" como se a rede \n",
    "    fosse um toro.\n",
    "    Adaptação do algoritmo proposto no enunciado\n",
    "    \"\"\"\n",
    "    # Idêntico ao da atividade anterior"
   ]
  },
  {
   "cell_type": "code",
   "execution_count": null,
   "metadata": {},
   "outputs": [],
   "source": [
    "@jit(nopython=True)\n",
    "def energy_ising(s, viz):\n",
    "    \"\"\"\n",
    "    Calcula a energia da rede Ising usando os vizinhos de cada sítio.\n",
    "    É importante notar que precisamos apenas dos \n",
    "    vizinhos à direita e acima\n",
    "    \"\"\"\n",
    "    E = 0\n",
    "    N = len(s)\n",
    "    for i in range(N):\n",
    "        right = viz[i][0]\n",
    "        up = viz[i][1]\n",
    "        h = s[right] + s[up]\n",
    "        E = E - s[i]*h\n",
    "    return E\n",
    "\n",
    "@jit(nopython=True)\n",
    "def sub_min(H):\n",
    "    \"\"\"\n",
    "    Retorna o mínimo do vetor H, ignorando o segundo e penúltimo itens\n",
    "    \"\"\"\n",
    "    n = len(H)\n",
    "    menor = H[0]\n",
    "    for i in range(n):\n",
    "        if (i == 1 or i == n-2):\n",
    "            continue\n",
    "        if (H[i] < menor):\n",
    "            menor = H[i]\n",
    "    return menor"
   ]
  },
  {
   "cell_type": "code",
   "execution_count": null,
   "metadata": {},
   "outputs": [],
   "source": [
    "@jit(nopython=True)\n",
    "def energy_scale(N,E):\n",
    "    \"\"\"\n",
    "    Escala os valores de energia para que fiquem entre 0 e N \n",
    "    ao invés de -2N até 2N\n",
    "    \"\"\"\n",
    "    E = E+2*N\n",
    "    E = E/4\n",
    "    if (int(E) - E > 0):\n",
    "        print(\"Energia não inteira pós escala!\")\n",
    "    return int(E)\n",
    "\n",
    "@jit(nopython=True)\n",
    "def random_energy_state(N):\n",
    "    \"\"\"\n",
    "    Gera um estado aleatório de energia\n",
    "    \"\"\"\n",
    "    s = []\n",
    "    # De 0 a N-1\n",
    "    for i in range(N):\n",
    "        s.append(np.sign(2*np.random.random()-1))\n",
    "    s = np.array(s)\n",
    "    return s"
   ]
  },
  {
   "cell_type": "code",
   "execution_count": null,
   "metadata": {},
   "outputs": [],
   "source": [
    "@jit(nopython=True)\n",
    "def wang_landau(N, E, s):\n",
    "    \"\"\"\n",
    "    Algoritmo de Wang-Landau para estimativa da densidade de estados g(E)\n",
    "    \"\"\"\n",
    "    # Inicialização arrays, de 0 a N, inclusive\n",
    "    lnG = np.zeros(N+1, dtype=np.float64)\n",
    "    H = np.zeros(N+1, dtype=np.int64)\n",
    "    Hc = np.zeros(N+1, dtype=np.int64)\n",
    "    mmicro = np.zeros(N+1, dtype=np.float64)\n",
    "    viz = neighbours(N, np.sqrt(N))\n",
    "    \n",
    "    # Variáveis do Loop Principal\n",
    "    lnf = 1.0\n",
    "    flat = False\n",
    "    m = s.sum()\n",
    "    for i in range(10**7):\n",
    "        for j in range(N):\n",
    "            # Escolhe um sítio aleatório\n",
    "#             rng = np.random.default_rng()\n",
    "            k = np.random.randint(N)\n",
    "            \n",
    "            # Soma sobre os vizinhos de k\n",
    "            h = 0\n",
    "            for v_idx in viz[k]:\n",
    "                h += s[v_idx]\n",
    "            \n",
    "            # Energia desse novo estado\n",
    "            E2 = E + s[k]*h/2\n",
    "            if (int(E2) - E2 > 0): print(\"Energia não inteira pós iteração!\")\n",
    "            E2 = int(E2)\n",
    "\n",
    "            # Economizar algumas exponenciais\n",
    "            if lnG[E] > lnG[E2]:\n",
    "                # Faz a troca\n",
    "                s[k] = -s[k]\n",
    "                E = E2\n",
    "                m = m - 2*s[k]\n",
    "            else:\n",
    "#                 rng = np.random.default_rng()\n",
    "                P = np.exp(lnG[E] - lnG[E2])\n",
    "                if (np.random.random() < P):\n",
    "                    # Faz a troca\n",
    "                    s[k] = -s[k]\n",
    "                    E = E2\n",
    "                    m = m - 2*s[k]\n",
    "            H[E] = H[E] + 1\n",
    "            lnG[E] = lnG[E] + lnf\n",
    "            mmicro[E] = mmicro[E] + np.abs(m)\n",
    "            \n",
    "        if (i % 1000 == 0):\n",
    "            hmed = np.sum(H)/(N-1)\n",
    "            hmin = sub_min(H)\n",
    "\n",
    "            if (hmin > 0.8*hmed):\n",
    "                Hc = H.copy()\n",
    "                H = np.zeros(N+1, dtype=np.int64)\n",
    "                lnf = lnf/2\n",
    "                if (i % 10000 == 0):\n",
    "                    print(round(hmed,2),round(hmin,2),round(hmin,2),\n",
    "                        round(0.8*hmed,2), i, lnf)\n",
    "        if (lnf < 10**-8):\n",
    "            break\n",
    "    mmicro = mmicro/Hc\n",
    "    # Normalizar o vetor de magnetização\n",
    "    maior = max(mmicro)\n",
    "    mmicro = mmicro / maior\n",
    "    lnG0 = lnG[0]\n",
    "    lnG = lnG - lnG0 + np.log(2)\n",
    "    return lnG, mmicro"
   ]
  },
  {
   "cell_type": "code",
   "execution_count": null,
   "metadata": {},
   "outputs": [],
   "source": [
    "def main():\n",
    "    # Parse dos argumentos\n",
    "    parser = argparse.ArgumentParser()\n",
    "    parser.add_argument(\"L\", help=\"Tamanho da rede LxL\")\n",
    "    args = parser.parse_args()\n",
    "    L = int(args.L)\n",
    "\n",
    "    N = L**2\n",
    "    s = random_energy_state(N)\n",
    "    viz = neighbours(N,np.sqrt(N))\n",
    "    E = energy_ising(s,viz)\n",
    "    E = energy_scale(N,E)\n",
    "    lnG, mmicro = wang_landau(N, E, s)\n",
    "    with open(\"wang\"+str(L)+\"x\"+str(L)+\".dict\", \"wb\") as f:\n",
    "        pickle.dump(lnG, f)\n",
    "    with open(f\"mag\"+str(L)+\"x\"+str(L)+\".dict\", \"wb\") as f:\n",
    "        pickle.dump(mmicro, f)\n",
    "    print(\"Criado rede \"+str(L)+\"x\"+str(L))\n",
    "\n",
    "if __name__==\"__main__\":\n",
    "    main()"
   ]
  },
  {
   "cell_type": "code",
   "execution_count": null,
   "metadata": {},
   "outputs": [],
   "source": []
  }
 ],
 "metadata": {
  "kernelspec": {
   "display_name": "Python 3",
   "language": "python",
   "name": "python3"
  },
  "language_info": {
   "codemirror_mode": {
    "name": "ipython",
    "version": 3
   },
   "file_extension": ".py",
   "mimetype": "text/x-python",
   "name": "python",
   "nbconvert_exporter": "python",
   "pygments_lexer": "ipython3",
   "version": "3.8.5"
  },
  "toc": {
   "base_numbering": 1,
   "nav_menu": {
    "height": "197px",
    "width": "322px"
   },
   "number_sections": false,
   "sideBar": true,
   "skip_h1_title": false,
   "title_cell": "Table of Contents",
   "title_sidebar": "Contents",
   "toc_cell": false,
   "toc_position": {
    "height": "calc(100% - 180px)",
    "left": "10px",
    "top": "150px",
    "width": "320px"
   },
   "toc_section_display": true,
   "toc_window_display": false
  }
 },
 "nbformat": 4,
 "nbformat_minor": 4
}
