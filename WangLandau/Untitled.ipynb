{
 "cells": [
  {
   "cell_type": "code",
   "execution_count": 1,
   "metadata": {},
   "outputs": [],
   "source": [
    "import numpy as np\n",
    "import matplotlib.pyplot as plt"
   ]
  },
  {
   "cell_type": "code",
   "execution_count": 33,
   "metadata": {},
   "outputs": [
    {
     "name": "stdout",
     "output_type": "stream",
     "text": [
      "100\n",
      "0.6666666666666666\n",
      "0.6666666666666666\n"
     ]
    }
   ],
   "source": [
    "soma0 = 0\n",
    "soma1 = 0\n",
    "N = 100\n",
    "a = 3\n",
    "\n",
    "truque = 0\n",
    "for i in range(N):\n",
    "    if (a*i > truque):\n",
    "        truque = N\n",
    "print(truque)\n",
    "\n",
    "for i in range(N):\n",
    "    soma0 += 3*np.exp((a*i)-truque)\n",
    "    soma1 += 3*np.exp((a*i))\n",
    "    \n",
    "print((20*soma0)/(30*soma0))\n",
    "print((20*soma1)/(30*soma1))"
   ]
  },
  {
   "cell_type": "code",
   "execution_count": 21,
   "metadata": {},
   "outputs": [
    {
     "name": "stdout",
     "output_type": "stream",
     "text": [
      "5\n",
      "3.0\n",
      "63.256610769563004\n",
      "1273.5429912477682\n",
      "25582.79477397392\n",
      "513847.1690309857\n"
     ]
    },
    {
     "data": {
      "text/plain": [
       "0.6666666666666667"
      ]
     },
     "execution_count": 21,
     "metadata": {},
     "output_type": "execute_result"
    }
   ],
   "source": [
    "soma = 0\n",
    "N = 5\n",
    "a = 3\n",
    "\n",
    "truque = 0\n",
    "for i in range(N):\n",
    "    if (a*i > truque):\n",
    "        truque = N\n",
    "print(truque)\n",
    "\n",
    "for i in range(N):\n",
    "    soma += 3*np.exp((a*i))\n",
    "    print(soma)\n",
    "(20*soma)/(30*soma)"
   ]
  },
  {
   "cell_type": "code",
   "execution_count": 22,
   "metadata": {},
   "outputs": [
    {
     "data": {
      "text/plain": [
       "0.6666666666666667"
      ]
     },
     "execution_count": 22,
     "metadata": {},
     "output_type": "execute_result"
    }
   ],
   "source": [
    "(20*soma)/(30*soma)"
   ]
  },
  {
   "cell_type": "code",
   "execution_count": null,
   "metadata": {},
   "outputs": [],
   "source": []
  }
 ],
 "metadata": {
  "kernelspec": {
   "display_name": "Python 3",
   "language": "python",
   "name": "python3"
  },
  "language_info": {
   "codemirror_mode": {
    "name": "ipython",
    "version": 3
   },
   "file_extension": ".py",
   "mimetype": "text/x-python",
   "name": "python",
   "nbconvert_exporter": "python",
   "pygments_lexer": "ipython3",
   "version": "3.8.5"
  },
  "toc": {
   "base_numbering": 1,
   "nav_menu": {},
   "number_sections": true,
   "sideBar": true,
   "skip_h1_title": false,
   "title_cell": "Table of Contents",
   "title_sidebar": "Contents",
   "toc_cell": false,
   "toc_position": {},
   "toc_section_display": true,
   "toc_window_display": false
  }
 },
 "nbformat": 4,
 "nbformat_minor": 4
}
