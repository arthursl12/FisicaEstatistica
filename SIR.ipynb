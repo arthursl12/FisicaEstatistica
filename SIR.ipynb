{
 "cells": [
  {
   "cell_type": "markdown",
   "metadata": {},
   "source": [
    "# Modelo SIR\n",
    "\n",
    "Arthur Souto Lima  \n",
    "Vitória Mirella Pereira do Nascimento"
   ]
  },
  {
   "cell_type": "markdown",
   "metadata": {},
   "source": [
    "## Algoritmos"
   ]
  },
  {
   "cell_type": "markdown",
   "metadata": {},
   "source": [
    "### Imports "
   ]
  },
  {
   "cell_type": "code",
   "execution_count": 1,
   "metadata": {},
   "outputs": [],
   "source": [
    "import numpy as np\n",
    "import matplotlib.pyplot as plt\n",
    "import seaborn as sns\n",
    "import pickle\n",
    "from numba import jit\n",
    "\n",
    "sns.set_theme()\n",
    "sns.set_palette(\"colorblind\")"
   ]
  },
  {
   "cell_type": "markdown",
   "metadata": {},
   "source": [
    "### Funções de Plotting"
   ]
  },
  {
   "cell_type": "markdown",
   "metadata": {},
   "source": [
    "Para podermos ver a evolução da infecção na rede, temos que conseguir plotá-la. O código de cores é simples: azuis são os suscetíveis, vermelhos são os infectados e verdes são os recuperados."
   ]
  },
  {
   "cell_type": "code",
   "execution_count": 2,
   "metadata": {},
   "outputs": [],
   "source": [
    "from matplotlib.colors import LinearSegmentedColormap\n",
    "\n",
    "def plot_map(s, L, title=None):\n",
    "    \"\"\"\n",
    "    Plota uma rede de autômatos LxL no estado s\n",
    "    \n",
    "    Parâmetros:\n",
    "        s: estado dos autômatos\n",
    "        L: tamanho do quadrado da rede\n",
    "        title: (opcional) título do plot\n",
    "    Retornos:\n",
    "        None\n",
    "    \"\"\"\n",
    "    # Transforma o vetor em matriz\n",
    "    s1 = s.reshape(L,L)\n",
    "    s2 = np.flip(s1,0)\n",
    "\n",
    "    # Plot\n",
    "    resize_factor = L/100\n",
    "    base_factor = 3\n",
    "    plt.figure(figsize=(base_factor*resize_factor,\n",
    "                        base_factor*resize_factor))\n",
    "    colors = ['b','r','g']\n",
    "    cmap = LinearSegmentedColormap.from_list('cmap', colors, N=3)\n",
    "    plt.imshow(s2, cmap=cmap)\n",
    "    plt.grid(False)\n",
    "    plt.xticks([],[])\n",
    "    plt.yticks([],[])\n",
    "    \n",
    "    # Coloca título\n",
    "    if (title is not None):\n",
    "        plt.title(title)"
   ]
  },
  {
   "cell_type": "markdown",
   "metadata": {},
   "source": [
    "<br>\n",
    "<br>\n",
    "<br>\n",
    "<br>\n",
    "<br>\n",
    "<br>\n",
    "<br>\n",
    "<br>\n",
    "<br>\n",
    "<br>\n",
    "<br>\n",
    "<br>\n",
    "<br>\n",
    "<br>"
   ]
  },
  {
   "cell_type": "markdown",
   "metadata": {},
   "source": [
    "### Funções Auxiliares"
   ]
  },
  {
   "cell_type": "markdown",
   "metadata": {},
   "source": [
    "Vamos usar interface parecida com a que usamos nas atividades do Modelo de Ising. Assim, a rede de autômatos será guardada num array de $ N $ posições e a vizinhança será feita através de uma matriz."
   ]
  },
  {
   "cell_type": "code",
   "execution_count": 3,
   "metadata": {},
   "outputs": [],
   "source": [
    "@jit(nopython=True)\n",
    "def neighbours(N, L):\n",
    "    \"\"\"\n",
    "    Constrói a matriz de vizinhança.\n",
    "    Assume que há uma \"vizinhança circular\" como se a rede \n",
    "    fosse um toro.\n",
    "    Adaptação do algoritmo proposto no enunciado da atividade\n",
    "    Wang-Landau\n",
    "    \"\"\"\n",
    "    # Cria uma matriz Nx4\n",
    "    viz = np.zeros((N,4), dtype=np.longlong)\n",
    "\n",
    "    # (k,0): vizinho à direita\n",
    "    # (k,1): vizinho acima\n",
    "    # (k,2): vizinho à esquerda\n",
    "    # (k,3): vizinho abaixo]\n",
    "    for k in range(N):\n",
    "        # Vizinho à direita (k,0)\n",
    "        viz[k][0] = k+1\n",
    "        if (k % L == L-1):\n",
    "            # Sítio na borda da direita\n",
    "            viz[k][0] = k+1-L\n",
    "\n",
    "        # Vizinho acima (k,1)\n",
    "        viz[k][1] = k+L\n",
    "        if (k >= N-L):\n",
    "            # Sítio na borda superior\n",
    "            viz[k][1] = k+L-N\n",
    "\n",
    "        # Vizinho à esquerda (k,2)\n",
    "        viz[k][2] = k-1\n",
    "        if (k % L == 0):\n",
    "            # Sítio na borda da esquerda\n",
    "            viz[k][2] = k+L-1\n",
    "\n",
    "        # Vizinho abaixo (k,3)\n",
    "        viz[k][3] = k-L\n",
    "        if (k < L):\n",
    "            # Sítio na borda inferior\n",
    "            viz[k][3] = k+N-L\n",
    "    return viz"
   ]
  },
  {
   "cell_type": "markdown",
   "metadata": {},
   "source": [
    "Para propiciar estados iniciais, podemos criar uma função que infecta $ k $ pessoas numa rede em que todas ainda estavam apenas suscetíveis."
   ]
  },
  {
   "cell_type": "code",
   "execution_count": 4,
   "metadata": {},
   "outputs": [],
   "source": [
    "@jit(nopython=True)\n",
    "def random_infected(N, n_infected):\n",
    "    \"\"\"\n",
    "    Gera um estado de epidemia com alguns sítios\n",
    "    aleatórios considerados como infectados\n",
    "    \"\"\"\n",
    "    # Gera N sítios suscetíveis\n",
    "    # De 0 a N-1\n",
    "    s = []\n",
    "    for i in range(N):\n",
    "        s.append(0)\n",
    "    s = np.array(s)\n",
    "    \n",
    "    # Infecta n_infected sítios\n",
    "    while (s.sum() < n_infected):\n",
    "        i = np.random.randint(0, N)\n",
    "        s[i] = 1\n",
    "    return s"
   ]
  },
  {
   "cell_type": "markdown",
   "metadata": {},
   "source": [
    "<br>\n",
    "<br>\n",
    "<br>"
   ]
  },
  {
   "cell_type": "markdown",
   "metadata": {},
   "source": [
    "Durante as simulações, temos que, diversas vezes, fazer contagens de 0's, 1's e 2's em arrays, os quais representam, respectivamente, suscetíveis, infectados e recuperados na rede de autômatos."
   ]
  },
  {
   "cell_type": "code",
   "execution_count": 5,
   "metadata": {},
   "outputs": [],
   "source": [
    "@jit(nopython=True)\n",
    "def count(s):\n",
    "    \"\"\"\n",
    "    Conta quantos 0's, 1's e 2's tem no array\n",
    "    \n",
    "    Parâmetros:\n",
    "        s: array com apenas 0,1 e 2\n",
    "    Retorno:\n",
    "        hist: tupla com quantidades de 0's, 1's e 2's, \n",
    "            respectivamente\n",
    "    \"\"\"\n",
    "    hist = [0,0,0]\n",
    "    for i in range(len(s)):\n",
    "        hist[s[i]] += 1\n",
    "    return hist"
   ]
  },
  {
   "cell_type": "markdown",
   "metadata": {},
   "source": [
    "Como cada iteração da simulação pode parar após uma quantidade diferente de instantes de tempo, temos que ser capazes de tirar a média de arrays de tamanhos diferentes. Para tanto, vamos interpolá-los para que fiquem do mesmo tamanho."
   ]
  },
  {
   "cell_type": "code",
   "execution_count": 8,
   "metadata": {},
   "outputs": [],
   "source": [
    "import numpy as np\n",
    "from scipy.ndimage import zoom\n",
    "\n",
    "def zoom_interpolate(A, B):\n",
    "    \"\"\"\n",
    "    Interpola o array A para que tenha a mesma quantidade de elementos de B\n",
    "    \n",
    "    Parâmetros:\n",
    "        A: vetor a ser interpolado\n",
    "        B: vetor com quantidade objetivo de elementos\n",
    "    Retorno:\n",
    "        C: vetor A interpolado com len(B) elementos\n",
    "    \n",
    "    \"\"\"\n",
    "    zoom_rate = B.shape[0] / A.shape[0]\n",
    "    C = zoom(A, zoom_rate)\n",
    "    return C"
   ]
  },
  {
   "cell_type": "markdown",
   "metadata": {},
   "source": [
    "Usando a interpolação, vamos somar arrays de tamanhos diferentes"
   ]
  },
  {
   "cell_type": "code",
   "execution_count": 10,
   "metadata": {},
   "outputs": [],
   "source": [
    "def sum_different(a,b):\n",
    "    \"\"\"\n",
    "    Soma os arrays a e b não simétricos\n",
    "    \n",
    "    Parâmetros:\n",
    "        a,b: arrays\n",
    "    Retornos:\n",
    "        c = a + b\n",
    "    \"\"\"\n",
    "    if len(a) < len(b):\n",
    "        c = zoom_interpolate(a,b)\n",
    "        return c + b\n",
    "    else:\n",
    "        c = zoom_interpolate(b,a)\n",
    "        return a + c"
   ]
  },
  {
   "cell_type": "markdown",
   "metadata": {},
   "source": [
    "Finalmente, podemos simular a epidemia, usando as probabilidades de que um infectado contamine algum suscetível ($ p_c $) e que um infectado se recupere ($ p_r $)."
   ]
  },
  {
   "cell_type": "markdown",
   "metadata": {},
   "source": [
    "<br>\n",
    "<br>\n",
    "<br>\n",
    "<br>\n",
    "<br>\n",
    "<br>"
   ]
  },
  {
   "cell_type": "markdown",
   "metadata": {},
   "source": [
    "### Funções de Simulação"
   ]
  },
  {
   "cell_type": "markdown",
   "metadata": {},
   "source": [
    "Assim, podemos definir a função que simula uma epidemia via modelo SIR."
   ]
  },
  {
   "cell_type": "code",
   "execution_count": 6,
   "metadata": {},
   "outputs": [],
   "source": [
    "def simulate_epidemy(N, L, s, pc, pr, n_iter, prints=False, print_states=False):\n",
    "    \"\"\"\n",
    "    Simula uma epidemia segundo o modelo SIR numa rede de\n",
    "    N autômatos celulares, organizados de forma quadrada (LxL),\n",
    "    e com vizinhança circular.\n",
    "    \n",
    "    Parâmetros:\n",
    "        N: quantidade de autômatos celulares\n",
    "        L: lado do quadrado da rede (N = L*L)\n",
    "        s: estado inicial\n",
    "        pc: probabilidade de contaminação\n",
    "        pr: probabilidade de recuperação\n",
    "        n_iter: quantidade de iterações\n",
    "        prints: se verdadeiro, imprimirá resultados intermediários\n",
    "    \n",
    "    Retornos:\n",
    "        suscp_t: lista com quantidade de suscetíveis a cada momento\n",
    "        infec_t: lista com quantidade de infectados a cada momento\n",
    "        recup_t: lista com quantidade de recuperados a cada momento\n",
    "        ts: iterações\n",
    "    \"\"\"\n",
    "    assert N == L**2\n",
    "    viz = neighbours(N,L)\n",
    "\n",
    "    \n",
    "    suscp_t = []\n",
    "    infec_t = []\n",
    "    recup_t = []\n",
    "    ts = []\n",
    "    \n",
    "    \n",
    "    for n in range(n_iter):\n",
    "        distribution = count(s)\n",
    "        if (distribution[1] == 0):\n",
    "            print(\"Não há mais infectados. Iteração: \", n)\n",
    "            break\n",
    "        \n",
    "        if (n % 20 == 0 and print_states == True):\n",
    "            plot_map(s, L, title=(\"Iteração \"+str(n)))\n",
    "            plt.show()\n",
    "        elif (n % 20 == 0 and print_states == False):\n",
    "            print(\"Iteração \"+str(n))\n",
    "        \n",
    "        # Para cada autômato da rede\n",
    "        for i in range(N):\n",
    "            if (s[i] == 1):\n",
    "                # Contaminada\n",
    "                if (np.random.random() < pr):\n",
    "                    # Chance de se recuperar\n",
    "                    if (prints): print(i,\"recuperado\")\n",
    "                    s[i] = 2\n",
    "                else:\n",
    "                    viz_k = viz[i]\n",
    "                    for j in viz_k:\n",
    "                        if (s[j] == 0):\n",
    "                            if (np.random.random() < pc):\n",
    "                                # Chance de contaminar a outra\n",
    "                                if (prints): print(j,\"contaminado por \", i)\n",
    "                                s[j] = 1\n",
    "            elif (s[i] == 2):\n",
    "                # Recuperada\n",
    "                pass\n",
    "            else:\n",
    "                # Suscetível\n",
    "                pass\n",
    "            \n",
    "            distribution = count(s)\n",
    "            suscp_t.append(distribution[0])\n",
    "            infec_t.append(distribution[1])\n",
    "            recup_t.append(distribution[2])\n",
    "            ts.append(i)\n",
    "    return suscp_t, infec_t, recup_t, ts"
   ]
  },
  {
   "cell_type": "markdown",
   "metadata": {},
   "source": [
    "<br>\n",
    "<br>\n",
    "<br>\n",
    "<br>"
   ]
  },
  {
   "cell_type": "markdown",
   "metadata": {},
   "source": [
    "Finalmente, como esse é um método estocástico, temos que avaliar a média de várias rodadas."
   ]
  },
  {
   "cell_type": "code",
   "execution_count": 7,
   "metadata": {},
   "outputs": [],
   "source": [
    "def simulate(L, infected, pc, pr, s=None, qtd=5):\n",
    "    \"\"\"\n",
    "    Simula vários modelos SIR e retorna a média deles \n",
    "    \"\"\"\n",
    "    # Parâmetros\n",
    "    N = L**2\n",
    "    if (s is None):\n",
    "        s = random_infected(N, infected)\n",
    "    \n",
    "    # Vetores para guardar\n",
    "    suscp_total = np.zeros(1, dtype=np.int64)\n",
    "    infec_total = np.zeros(1, dtype=np.int64)\n",
    "    recup_total = np.zeros(1, dtype=np.int64)\n",
    "    \n",
    "    for i in range(qtd):\n",
    "        print(\"Rodada \"+str(i))\n",
    "        s0 = s.copy()\n",
    "        sus, inf, rec, _ = simulate_epidemy(N, L, s0, pc, pr, n_iter=10**4)\n",
    "        sus = np.array(sus, dtype=np.int64)\n",
    "        inf = np.array(inf, dtype=np.int64)\n",
    "        rec = np.array(rec, dtype=np.int64)\n",
    "        suscp_total = sum_different(suscp_total, sus)\n",
    "        infec_total = sum_different(infec_total, inf)\n",
    "        recup_total = sum_different(recup_total, rec)\n",
    "        \n",
    "    factor = 1/qtd\n",
    "    \n",
    "    suscp_total = np.array(suscp_total) * factor\n",
    "    infec_total = np.array(infec_total) * factor\n",
    "    recup_total = np.array(recup_total) * factor\n",
    "    \n",
    "    return suscp_total,infec_total,recup_total"
   ]
  },
  {
   "cell_type": "markdown",
   "metadata": {},
   "source": [
    "<br>\n",
    "<br>\n",
    "<br>\n",
    "<br>\n",
    "<br>\n",
    "<br>\n",
    "<br>\n",
    "<br>\n",
    "<br>"
   ]
  },
  {
   "cell_type": "markdown",
   "metadata": {},
   "source": [
    "## Simulações"
   ]
  },
  {
   "cell_type": "markdown",
   "metadata": {},
   "source": [
    "Nesta seção de simulações, vamos explorar algumas situações e observar o comportamento da rede à epidemia. "
   ]
  },
  {
   "cell_type": "markdown",
   "metadata": {},
   "source": [
    "### Poucos indivíduos aleatórios contaminados"
   ]
  },
  {
   "cell_type": "markdown",
   "metadata": {},
   "source": [
    "#### Uma iteração"
   ]
  },
  {
   "cell_type": "markdown",
   "metadata": {},
   "source": [
    "Vamos olhar uma rede 100x100. Inicialmente, podemos observar uma iteração, para analisarmos o comportamento dela preliminarmente. Começaremos com 4 indivíduos aleatoriamente escolhidos infectados."
   ]
  },
  {
   "cell_type": "code",
   "execution_count": 11,
   "metadata": {},
   "outputs": [
    {
     "data": {
      "image/png": "[encoded data removed]",
      "text/plain": [
       "<Figure size 216x216 with 1 Axes>"
      ]
     },
     "metadata": {},
     "output_type": "display_data"
    }
   ],
   "source": [
    "L = 100\n",
    "N = L**2\n",
    "s = random_infected(N, 4)\n",
    "plot_map(s, L)"
   ]
  },
  {
   "cell_type": "code",
   "execution_count": 12,
   "metadata": {},
   "outputs": [
    {
     "data": {
      "image/png": "[encoded data removed]",
      "text/plain": [
       "<Figure size 216x216 with 1 Axes>"
      ]
     },
     "metadata": {},
     "output_type": "display_data"
    },
    {
     "data": {
      "image/png": "[encoded data removed]",
      "text/plain": [
       "<Figure size 216x216 with 1 Axes>"
      ]
     },
     "metadata": {},
     "output_type": "display_data"
    },
    {
     "data": {
      "image/png": "[encoded data removed]",
      "text/plain": [
       "<Figure size 216x216 with 1 Axes>"
      ]
     },
     "metadata": {},
     "output_type": "display_data"
    },
    {
     "data": {
      "image/png": "[encoded data removed]",
      "text/plain": [
       "<Figure size 216x216 with 1 Axes>"
      ]
     },
     "metadata": {},
     "output_type": "display_data"
    },
    {
     "name": "stdout",
     "output_type": "stream",
     "text": [
      "Não há mais infectados. Iteração:  63\n"
     ]
    }
   ],
   "source": [
    "y0, y1, y2, x = simulate_epidemy(N, L, s, 0.6, 0.2, n_iter=10**4, print_states=True)"
   ]
  },
  {
   "cell_type": "code",
   "execution_count": 13,
   "metadata": {},
   "outputs": [
    {
     "data": {
      "text/plain": [
       "<matplotlib.legend.Legend at 0x7f11a49fbdc0>"
      ]
     },
     "execution_count": 13,
     "metadata": {},
     "output_type": "execute_result"
    },
    {
     "data": {
      "image/png": "[encoded data removed]",
      "text/plain": [
       "<Figure size 432x288 with 1 Axes>"
      ]
     },
     "metadata": {},
     "output_type": "display_data"
    }
   ],
   "source": [
    "plt.plot(np.array(y0)/N, color='b')\n",
    "plt.plot(np.array(y1)/N, color='r')\n",
    "plt.plot(np.array(y2)/N, color='g')\n",
    "plt.legend([\"Suscetíveis\",\"Infectados\",\"Recuperados\"])"
   ]
  },
  {
   "cell_type": "markdown",
   "metadata": {},
   "source": [
    "O comportamento é o esperado, os infectados aumentam até um pico, quando passam a decrescer até zerarem. Os recuperados, por outro lado, tomam maioria da população suscetível."
   ]
  },
  {
   "cell_type": "markdown",
   "metadata": {},
   "source": [
    "\n",
    "Contudo, esse resultado é apenas para uma iteração e, como temos um método estocástico, regido por variáveis aleatórias, convém fazer mais de uma simulação para melhor embasar as análises."
   ]
  },
  {
   "cell_type": "markdown",
   "metadata": {},
   "source": [
    "#### Média das iterações"
   ]
  },
  {
   "cell_type": "code",
   "execution_count": 14,
   "metadata": {},
   "outputs": [
    {
     "name": "stdout",
     "output_type": "stream",
     "text": [
      "Rodada 0\n",
      "Iteração 0\n",
      "Iteração 20\n",
      "Iteração 40\n",
      "Não há mais infectados. Iteração:  55\n",
      "Rodada 1\n",
      "Iteração 0\n",
      "Iteração 20\n",
      "Iteração 40\n",
      "Iteração 60\n",
      "Não há mais infectados. Iteração:  62\n",
      "Rodada 2\n",
      "Iteração 0\n",
      "Iteração 20\n",
      "Iteração 40\n",
      "Não há mais infectados. Iteração:  57\n",
      "Rodada 3\n",
      "Iteração 0\n",
      "Iteração 20\n",
      "Iteração 40\n",
      "Não há mais infectados. Iteração:  55\n",
      "Rodada 4\n",
      "Iteração 0\n",
      "Iteração 20\n",
      "Iteração 40\n",
      "Iteração 60\n",
      "Não há mais infectados. Iteração:  64\n"
     ]
    }
   ],
   "source": [
    "y0, y1, y2 = simulate(L, infected=4, s=None, pc=0.6, pr=0.2)"
   ]
  },
  {
   "cell_type": "code",
   "execution_count": 15,
   "metadata": {},
   "outputs": [
    {
     "data": {
      "text/plain": [
       "<matplotlib.legend.Legend at 0x7f11a6b08f40>"
      ]
     },
     "execution_count": 15,
     "metadata": {},
     "output_type": "execute_result"
    },
    {
     "data": {
      "image/png": "[encoded data removed]",
      "text/plain": [
       "<Figure size 432x288 with 1 Axes>"
      ]
     },
     "metadata": {},
     "output_type": "display_data"
    }
   ],
   "source": [
    "plt.plot(np.array(y0)/N, color='b')\n",
    "plt.plot(np.array(y1)/N, color='r')\n",
    "plt.plot(np.array(y2)/N, color='g')\n",
    "plt.legend([\"Suscetíveis\",\"Infectados\",\"Recuperados\"])"
   ]
  },
  {
   "cell_type": "markdown",
   "metadata": {},
   "source": [
    "Nota-se que nessa configuração, toda a população é contaminada, mas se recupera. Em um determinado ponto, os infectados chegaram a cerca de 30% da população no pico. Com o passar das iterações, já que não há nem recontaminação nem óbitos a população se recupera e fica imune, causando o fim da infecção."
   ]
  },
  {
   "cell_type": "markdown",
   "metadata": {},
   "source": [
    "<br>\n",
    "<br>\n",
    "<br>\n",
    "<br>\n",
    "<br>\n",
    "<br>\n",
    "<br>\n",
    "<br>\n",
    "<br>\n",
    "<br>\n",
    "<br>\n",
    "<br>\n",
    "<br>\n",
    "<br>\n",
    "<br>\n",
    "<br>"
   ]
  },
  {
   "cell_type": "markdown",
   "metadata": {},
   "source": [
    "#### Maior taxa de recuperação"
   ]
  },
  {
   "cell_type": "code",
   "execution_count": 16,
   "metadata": {},
   "outputs": [
    {
     "name": "stdout",
     "output_type": "stream",
     "text": [
      "Rodada 0\n",
      "Iteração 0\n",
      "Iteração 20\n",
      "Iteração 40\n",
      "Iteração 60\n",
      "Iteração 80\n",
      "Não há mais infectados. Iteração:  100\n",
      "Rodada 1\n",
      "Iteração 0\n",
      "Iteração 20\n",
      "Iteração 40\n",
      "Iteração 60\n",
      "Iteração 80\n",
      "Iteração 100\n",
      "Não há mais infectados. Iteração:  106\n",
      "Rodada 2\n",
      "Iteração 0\n",
      "Iteração 20\n",
      "Iteração 40\n",
      "Iteração 60\n",
      "Iteração 80\n",
      "Não há mais infectados. Iteração:  97\n",
      "Rodada 3\n",
      "Iteração 0\n",
      "Iteração 20\n",
      "Iteração 40\n",
      "Iteração 60\n",
      "Iteração 80\n",
      "Iteração 100\n",
      "Iteração 120\n",
      "Iteração 140\n",
      "Iteração 160\n",
      "Iteração 180\n",
      "Não há mais infectados. Iteração:  186\n",
      "Rodada 4\n",
      "Iteração 0\n",
      "Iteração 20\n",
      "Iteração 40\n",
      "Iteração 60\n",
      "Iteração 80\n",
      "Iteração 100\n",
      "Iteração 120\n",
      "Iteração 140\n",
      "Não há mais infectados. Iteração:  156\n"
     ]
    }
   ],
   "source": [
    "y0, y1, y2 = simulate(L, infected=4, s=None, pc=0.6, pr=0.3)"
   ]
  },
  {
   "cell_type": "code",
   "execution_count": 17,
   "metadata": {},
   "outputs": [
    {
     "data": {
      "text/plain": [
       "<matplotlib.legend.Legend at 0x7f11a6bb2fd0>"
      ]
     },
     "execution_count": 17,
     "metadata": {},
     "output_type": "execute_result"
    },
    {
     "data": {
      "image/png": "[encoded data removed]",
      "text/plain": [
       "<Figure size 432x288 with 1 Axes>"
      ]
     },
     "metadata": {},
     "output_type": "display_data"
    }
   ],
   "source": [
    "plt.plot(np.array(y0)/N, color='b')\n",
    "plt.plot(np.array(y1)/N, color='r')\n",
    "plt.plot(np.array(y2)/N, color='g')\n",
    "plt.legend([\"Suscetíveis\",\"Infectados\",\"Recuperados\"])"
   ]
  },
  {
   "cell_type": "markdown",
   "metadata": {},
   "source": [
    "Se incrementarmos a taxa de recuperação, nota-se que a infecção é muito menor, de forma que há aqueles indivíduos que nem se contaminam. Além disso, a curva de infecções é bem mais suave, com pico muito baixo. Pode ser por conta da sequência de números aleatórios, mas todas as rodadas nesse cenário demoraram bem mais iterações para estabilizar, ou seja, para que a infeccção termine."
   ]
  },
  {
   "cell_type": "markdown",
   "metadata": {},
   "source": [
    "#### Maior taxa de infecção"
   ]
  },
  {
   "cell_type": "code",
   "execution_count": 18,
   "metadata": {},
   "outputs": [
    {
     "name": "stdout",
     "output_type": "stream",
     "text": [
      "Rodada 0\n",
      "Iteração 0\n",
      "Iteração 20\n",
      "Iteração 40\n",
      "Não há mais infectados. Iteração:  46\n",
      "Rodada 1\n",
      "Iteração 0\n",
      "Iteração 20\n",
      "Iteração 40\n",
      "Não há mais infectados. Iteração:  49\n",
      "Rodada 2\n",
      "Iteração 0\n",
      "Iteração 20\n",
      "Iteração 40\n",
      "Iteração 60\n",
      "Não há mais infectados. Iteração:  64\n",
      "Rodada 3\n",
      "Iteração 0\n",
      "Iteração 20\n",
      "Iteração 40\n",
      "Não há mais infectados. Iteração:  44\n",
      "Rodada 4\n",
      "Iteração 0\n",
      "Iteração 20\n",
      "Iteração 40\n",
      "Não há mais infectados. Iteração:  45\n"
     ]
    }
   ],
   "source": [
    "y0, y1, y2 = simulate(L, infected=4, s=None, pc=0.8, pr=0.2)"
   ]
  },
  {
   "cell_type": "code",
   "execution_count": 19,
   "metadata": {},
   "outputs": [
    {
     "data": {
      "text/plain": [
       "<matplotlib.legend.Legend at 0x7f11a3253fa0>"
      ]
     },
     "execution_count": 19,
     "metadata": {},
     "output_type": "execute_result"
    },
    {
     "data": {
      "image/png": "[encoded data removed]",
      "text/plain": [
       "<Figure size 432x288 with 1 Axes>"
      ]
     },
     "metadata": {},
     "output_type": "display_data"
    }
   ],
   "source": [
    "plt.plot(np.array(y0)/N, color='b')\n",
    "plt.plot(np.array(y1)/N, color='r')\n",
    "plt.plot(np.array(y2)/N, color='g')\n",
    "plt.legend([\"Suscetíveis\",\"Infectados\",\"Recuperados\"])"
   ]
  },
  {
   "cell_type": "markdown",
   "metadata": {},
   "source": [
    "Nesse cenário, a infeccção é mais rápida e o pico da infeccção é maior, com cerca de 40% ou 50% da população contaminada num determinado momento. Novamente, como não há outras possibilidades para os indíviduos, como recontaminação ou vacinação, a população se contamina muito rápido e logo a epidemia termina, pois todos se recuperam da doença e ela não circula mais."
   ]
  },
  {
   "cell_type": "markdown",
   "metadata": {},
   "source": [
    "<br>\n",
    "<br>\n",
    "<br>\n",
    "<br>\n",
    "<br>\n",
    "<br>\n",
    "<br>\n",
    "<br>\n",
    "<br>\n",
    "<br>\n",
    "<br>\n",
    "<br>\n",
    "<br>\n",
    "<br>\n",
    "<br>\n",
    "<br>"
   ]
  },
  {
   "cell_type": "markdown",
   "metadata": {},
   "source": [
    "### Porcentagem mais alta de contaminados"
   ]
  },
  {
   "cell_type": "markdown",
   "metadata": {},
   "source": [
    "#### 10% aleatórios contaminados"
   ]
  },
  {
   "cell_type": "markdown",
   "metadata": {},
   "source": [
    "Estávamos utilizando um número absoluto e baixo de pessoas inicialmente infectadas aleatoriamente. Nessa segunda etapa de simulações vamos analisar o efeitod e uma quantidade maior de indivíduos inicialmente contaminados."
   ]
  },
  {
   "cell_type": "code",
   "execution_count": 20,
   "metadata": {},
   "outputs": [
    {
     "data": {
      "image/png": "[encoded data removed]",
      "text/plain": [
       "<Figure size 216x216 with 1 Axes>"
      ]
     },
     "metadata": {},
     "output_type": "display_data"
    }
   ],
   "source": [
    "L = 100\n",
    "N = L**2\n",
    "infected = .1*N\n",
    "s = random_infected(N, infected)\n",
    "plot_map(s, L)"
   ]
  },
  {
   "cell_type": "code",
   "execution_count": 21,
   "metadata": {},
   "outputs": [
    {
     "name": "stdout",
     "output_type": "stream",
     "text": [
      "Rodada 0\n",
      "Iteração 0\n",
      "Iteração 20\n",
      "Não há mais infectados. Iteração:  38\n",
      "Rodada 1\n",
      "Iteração 0\n",
      "Iteração 20\n",
      "Não há mais infectados. Iteração:  40\n",
      "Rodada 2\n",
      "Iteração 0\n",
      "Iteração 20\n",
      "Iteração 40\n",
      "Não há mais infectados. Iteração:  44\n",
      "Rodada 3\n",
      "Iteração 0\n",
      "Iteração 20\n",
      "Iteração 40\n",
      "Não há mais infectados. Iteração:  41\n",
      "Rodada 4\n",
      "Iteração 0\n",
      "Iteração 20\n",
      "Não há mais infectados. Iteração:  40\n"
     ]
    }
   ],
   "source": [
    "y0, y1, y2 = simulate(L, infected=infected, s=None, pc=0.6, pr=0.2)"
   ]
  },
  {
   "cell_type": "code",
   "execution_count": 22,
   "metadata": {},
   "outputs": [
    {
     "data": {
      "text/plain": [
       "<matplotlib.legend.Legend at 0x7f11a0f1c460>"
      ]
     },
     "execution_count": 22,
     "metadata": {},
     "output_type": "execute_result"
    },
    {
     "data": {
      "image/png": "[encoded data removed]",
      "text/plain": [
       "<Figure size 432x288 with 1 Axes>"
      ]
     },
     "metadata": {},
     "output_type": "display_data"
    }
   ],
   "source": [
    "plt.plot(np.array(y0)/N, color='b')\n",
    "plt.plot(np.array(y1)/N, color='r')\n",
    "plt.plot(np.array(y2)/N, color='g')\n",
    "plt.legend([\"Suscetíveis\",\"Infectados\",\"Recuperados\"])"
   ]
  },
  {
   "cell_type": "markdown",
   "metadata": {},
   "source": [
    "Comparando com o exemplo anterior, além, obviamente, dos pontos iniciais das curvas, vemos que a infeccção tem um pico bem maior, de forma que atinge 60% da população num dado momento."
   ]
  },
  {
   "cell_type": "markdown",
   "metadata": {},
   "source": [
    "<br>\n",
    "<br>\n",
    "<br>\n",
    "<br>"
   ]
  },
  {
   "cell_type": "markdown",
   "metadata": {},
   "source": [
    "#### 40% aleatórios contaminados"
   ]
  },
  {
   "cell_type": "code",
   "execution_count": 23,
   "metadata": {},
   "outputs": [
    {
     "data": {
      "image/png": "[encoded data removed]",
      "text/plain": [
       "<Figure size 216x216 with 1 Axes>"
      ]
     },
     "metadata": {},
     "output_type": "display_data"
    }
   ],
   "source": [
    "L = 100\n",
    "N = L**2\n",
    "infected = .4*N\n",
    "s = random_infected(N, infected)\n",
    "plot_map(s, L)"
   ]
  },
  {
   "cell_type": "code",
   "execution_count": 24,
   "metadata": {},
   "outputs": [
    {
     "name": "stdout",
     "output_type": "stream",
     "text": [
      "Rodada 0\n",
      "Iteração 0\n",
      "Iteração 20\n",
      "Iteração 40\n",
      "Não há mais infectados. Iteração:  54\n",
      "Rodada 1\n",
      "Iteração 0\n",
      "Iteração 20\n",
      "Não há mais infectados. Iteração:  38\n",
      "Rodada 2\n",
      "Iteração 0\n",
      "Iteração 20\n",
      "Iteração 40\n",
      "Não há mais infectados. Iteração:  48\n",
      "Rodada 3\n",
      "Iteração 0\n",
      "Iteração 20\n",
      "Iteração 40\n",
      "Não há mais infectados. Iteração:  42\n",
      "Rodada 4\n",
      "Iteração 0\n",
      "Iteração 20\n",
      "Iteração 40\n",
      "Não há mais infectados. Iteração:  50\n"
     ]
    }
   ],
   "source": [
    "y0, y1, y2 = simulate(L, infected=infected, s=None, pc=0.6, pr=0.2)"
   ]
  },
  {
   "cell_type": "code",
   "execution_count": 25,
   "metadata": {},
   "outputs": [
    {
     "data": {
      "text/plain": [
       "<matplotlib.legend.Legend at 0x7f11a0e66670>"
      ]
     },
     "execution_count": 25,
     "metadata": {},
     "output_type": "execute_result"
    },
    {
     "data": {
      "image/png": "[encoded data removed]",
      "text/plain": [
       "<Figure size 432x288 with 1 Axes>"
      ]
     },
     "metadata": {},
     "output_type": "display_data"
    }
   ],
   "source": [
    "plt.plot(np.array(y0)/N, color='b')\n",
    "plt.plot(np.array(y1)/N, color='r')\n",
    "plt.plot(np.array(y2)/N, color='g')\n",
    "plt.legend([\"Suscetíveis\",\"Infectados\",\"Recuperados\"])"
   ]
  },
  {
   "cell_type": "markdown",
   "metadata": {},
   "source": [
    "O pico de infecções fica ainda maior quando 40% da população está inicialmente contaminada."
   ]
  },
  {
   "cell_type": "markdown",
   "metadata": {},
   "source": [
    "<br>\n",
    "<br>\n",
    "<br>\n",
    "<br><br>\n",
    "<br>\n",
    "<br>\n",
    "<br><br>"
   ]
  },
  {
   "cell_type": "markdown",
   "metadata": {},
   "source": [
    "## Conclusões"
   ]
  },
  {
   "cell_type": "markdown",
   "metadata": {},
   "source": [
    "Ao final dessa breve exploração do modelo SIR para epidemias em autômatos celulares, é possível notar que o modelo, mesmo sendo bem simples de entender e implementar, consegue capturar várias dinâmicas da infecção de uma população. Entretando, apesar disso, a versão implementada, seguindo os moldes do enunciado, é bem limitada, já que outros fatores tão comuns e relevantes nesse tipo de análise não são modelados, como vacinação, eficácia delas contra reinfecção, reinfecção de já recuperados e até mesmo óbitos. Essas situações dariam mais poder de modelagem, ao custo de maior complexidade e certamente de maior custo computacional."
   ]
  }
 ],
 "metadata": {
  "kernelspec": {
   "display_name": "Python 3",
   "language": "python",
   "name": "python3"
  },
  "language_info": {
   "codemirror_mode": {
    "name": "ipython",
    "version": 3
   },
   "file_extension": ".py",
   "mimetype": "text/x-python",
   "name": "python",
   "nbconvert_exporter": "python",
   "pygments_lexer": "ipython3",
   "version": "3.8.10"
  },
  "toc": {
   "base_numbering": 1,
   "nav_menu": {},
   "number_sections": true,
   "sideBar": true,
   "skip_h1_title": false,
   "title_cell": "Table of Contents",
   "title_sidebar": "Contents",
   "toc_cell": false,
   "toc_position": {
    "height": "calc(100% - 180px)",
    "left": "10px",
    "top": "150px",
    "width": "320px"
   },
   "toc_section_display": true,
   "toc_window_display": true
  }
 },
 "nbformat": 4,
 "nbformat_minor": 4
}
