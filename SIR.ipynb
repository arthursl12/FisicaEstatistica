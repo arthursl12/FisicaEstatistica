{
 "cells": [
  {
   "cell_type": "markdown",
   "metadata": {},
   "source": [
    "# Modelo SIR"
   ]
  },
  {
   "cell_type": "markdown",
   "metadata": {},
   "source": [
    "## Algoritmos"
   ]
  },
  {
   "cell_type": "markdown",
   "metadata": {},
   "source": [
    "### Imports "
   ]
  },
  {
   "cell_type": "code",
   "execution_count": 4,
   "metadata": {},
   "outputs": [],
   "source": [
    "import numpy as np\n",
    "import matplotlib.pyplot as plt\n",
    "import seaborn as sns\n",
    "import pickle\n",
    "from numba import jit\n",
    "\n",
    "sns.set_theme()\n",
    "sns.set_palette(\"colorblind\")"
   ]
  },
  {
   "cell_type": "markdown",
   "metadata": {
    "heading_collapsed": true
   },
   "source": [
    "### Funções de Plotting"
   ]
  },
  {
   "cell_type": "code",
   "execution_count": 5,
   "metadata": {
    "hidden": true
   },
   "outputs": [],
   "source": [
    "from matplotlib.colors import LinearSegmentedColormap\n",
    "\n",
    "def plot_map(s, L, title=None):\n",
    "    \"\"\"\n",
    "    Plota uma rede de autômatos LxL no estado s\n",
    "    \n",
    "    Parâmetros:\n",
    "        s: estado dos autômatos\n",
    "        L: tamanho do quadrado da rede\n",
    "        title: (opcional) título do plot\n",
    "    Retornos:\n",
    "        None\n",
    "    \"\"\"\n",
    "    # Transforma o vetor em matriz\n",
    "    s1 = s.reshape(L,L)\n",
    "    s2 = np.flip(s1,0)\n",
    "\n",
    "    # Plot\n",
    "    resize_factor = L/100\n",
    "    base_factor = 3\n",
    "    plt.figure(figsize=(base_factor*resize_factor,\n",
    "                        base_factor*resize_factor))\n",
    "    colors = ['b','r','g']\n",
    "    cmap = LinearSegmentedColormap.from_list('cmap', colors, N=3)\n",
    "    plt.imshow(s2, cmap=cmap)\n",
    "    plt.grid(False)\n",
    "    plt.xticks([],[])\n",
    "    plt.yticks([],[])\n",
    "    \n",
    "    # Coloca título\n",
    "    if (title is not None):\n",
    "        plt.title(title)"
   ]
  },
  {
   "cell_type": "markdown",
   "metadata": {
    "heading_collapsed": true
   },
   "source": [
    "### Funções Auxiliares"
   ]
  },
  {
   "cell_type": "markdown",
   "metadata": {
    "hidden": true
   },
   "source": [
    "Vamos usar interface parecida com a que usamos nas atividades do Modelo de Ising. Assim, a rede de autômatos será guardada num array de $N$ posições e a vizinhança será feita através de uma matriz."
   ]
  },
  {
   "cell_type": "code",
   "execution_count": 6,
   "metadata": {
    "hidden": true
   },
   "outputs": [],
   "source": [
    "@jit(nopython=True)\n",
    "def neighbours(N, L):\n",
    "    \"\"\"\n",
    "    Constrói a matriz de vizinhança.\n",
    "    Assume que há uma \"vizinhança circular\" como se a rede \n",
    "    fosse um toro.\n",
    "    Adaptação do algoritmo proposto no enunciado da atividade\n",
    "    Wang-Landau\n",
    "    \"\"\"\n",
    "    # Cria uma matriz Nx4\n",
    "    viz = np.zeros((N,4), dtype=np.longlong)\n",
    "\n",
    "    # (k,0): vizinho à direita\n",
    "    # (k,1): vizinho acima\n",
    "    # (k,2): vizinho à esquerda\n",
    "    # (k,3): vizinho abaixo]\n",
    "    for k in range(N):\n",
    "        # Vizinho à direita (k,0)\n",
    "        viz[k][0] = k+1\n",
    "        if (k % L == L-1):\n",
    "            # Sítio na borda da direita\n",
    "            viz[k][0] = k+1-L\n",
    "\n",
    "        # Vizinho acima (k,1)\n",
    "        viz[k][1] = k+L\n",
    "        if (k >= N-L):\n",
    "            # Sítio na borda superior\n",
    "            viz[k][1] = k+L-N\n",
    "\n",
    "        # Vizinho à esquerda (k,2)\n",
    "        viz[k][2] = k-1\n",
    "        if (k % L == 0):\n",
    "            # Sítio na borda da esquerda\n",
    "            viz[k][2] = k+L-1\n",
    "\n",
    "        # Vizinho abaixo (k,3)\n",
    "        viz[k][3] = k-L\n",
    "        if (k < L):\n",
    "            # Sítio na borda inferior\n",
    "            viz[k][3] = k+N-L\n",
    "    return viz"
   ]
  },
  {
   "cell_type": "markdown",
   "metadata": {
    "hidden": true
   },
   "source": [
    "Para propiciar estados iniciais, podemos criar uma função que infecta $k$ pessoas numa rede em que todas ainda estavam apenas suscetíveis."
   ]
  },
  {
   "cell_type": "code",
   "execution_count": 7,
   "metadata": {
    "hidden": true
   },
   "outputs": [],
   "source": [
    "@jit(nopython=True)\n",
    "def random_infected(N, n_infected):\n",
    "    \"\"\"\n",
    "    Gera um estado de epidemia com alguns sítios\n",
    "    aleatórios considerados como infectados\n",
    "    \"\"\"\n",
    "    # Gera N sítios suscetíveis\n",
    "    # De 0 a N-1\n",
    "    s = []\n",
    "    for i in range(N):\n",
    "        s.append(0)\n",
    "    s = np.array(s)\n",
    "    \n",
    "    # Infecta n_infected sítios\n",
    "    while (s.sum() < n_infected):\n",
    "        i = np.random.randint(0, N)\n",
    "        s[i] = 1\n",
    "    return s"
   ]
  },
  {
   "cell_type": "markdown",
   "metadata": {
    "hidden": true
   },
   "source": [
    "Finalmente, podemos simular a epidemia, usando as probabilidades de que um infectado contamine algum suscetível ($p_c$) e que um infectado se recupere ($p_r$)."
   ]
  },
  {
   "cell_type": "code",
   "execution_count": 8,
   "metadata": {
    "hidden": true
   },
   "outputs": [],
   "source": [
    "@jit(nopython=True)\n",
    "def count(s):\n",
    "    \"\"\"\n",
    "    Conta quantos 0's, 1's e 2's tem no array\n",
    "    \n",
    "    Parâmetros:\n",
    "        s: array com apenas 0,1 e 2\n",
    "    Retorno:\n",
    "        hist: tupla com quantidades de 0's, 1's e 2's, \n",
    "            respectivamente\n",
    "    \"\"\"\n",
    "    hist = [0,0,0]\n",
    "    for i in range(len(s)):\n",
    "        hist[s[i]] += 1\n",
    "    return hist"
   ]
  },
  {
   "cell_type": "markdown",
   "metadata": {},
   "source": [
    "### Funções de Simulação"
   ]
  },
  {
   "cell_type": "markdown",
   "metadata": {},
   "source": [
    "Assim, podemos definir a função que simula uma epidemia via modelo SIR."
   ]
  },
  {
   "cell_type": "code",
   "execution_count": 9,
   "metadata": {},
   "outputs": [],
   "source": [
    "def simulate_epidemy(N, L, s, pc, pr, n_iter, prints=False, print_states=False):\n",
    "    \"\"\"\n",
    "    Simula uma epidemia segundo o modelo SIR numa rede de\n",
    "    N autômatos celulares, organizados de forma quadrada (LxL),\n",
    "    e com vizinhança circular.\n",
    "    \n",
    "    Parâmetros:\n",
    "        N: quantidade de autômatos celulares\n",
    "        L: lado do quadrado da rede (N = L*L)\n",
    "        s: estado inicial\n",
    "        pc: probabilidade de contaminação\n",
    "        pr: probabilidade de recuperação\n",
    "        n_iter: quantidade de iterações\n",
    "        prints: se verdadeiro, imprimirá resultados intermediários\n",
    "    \n",
    "    Retornos:\n",
    "        suscp_t: lista com quantidade de suscetíveis a cada momento\n",
    "        infec_t: lista com quantidade de infectados a cada momento\n",
    "        recup_t: lista com quantidade de recuperados a cada momento\n",
    "        ts: iterações\n",
    "    \"\"\"\n",
    "    assert N == L**2\n",
    "    viz = neighbours(N,L)\n",
    "\n",
    "    \n",
    "    suscp_t = []\n",
    "    infec_t = []\n",
    "    recup_t = []\n",
    "    ts = []\n",
    "    \n",
    "    \n",
    "    for n in range(n_iter):\n",
    "        distribution = count(s)\n",
    "        if (distribution[1] == 0):\n",
    "            print(\"Não há mais infectados. Iteração: \", n)\n",
    "            break\n",
    "        \n",
    "        if (n % 20 == 0 and print_states == True):\n",
    "            plot_map(s, L, title=(\"Iteração \"+str(n)))\n",
    "            plt.show()\n",
    "        elif (n % 20 == 0 and print_states == False):\n",
    "            print(\"Iteração \"+str(n))\n",
    "        \n",
    "        # Para cada autômato da rede\n",
    "        for i in range(N):\n",
    "            if (s[i] == 1):\n",
    "                # Contaminada\n",
    "                if (np.random.random() < pr):\n",
    "                    # Chance de se recuperar\n",
    "                    if (prints): print(i,\"recuperado\")\n",
    "                    s[i] = 2\n",
    "                else:\n",
    "                    viz_k = viz[i]\n",
    "                    for j in viz_k:\n",
    "                        if (s[j] == 0):\n",
    "                            if (np.random.random() < pc):\n",
    "                                # Chance de contaminar a outra\n",
    "                                if (prints): print(j,\"contaminado por \", i)\n",
    "                                s[j] = 1\n",
    "            elif (s[i] == 2):\n",
    "                # Recuperada\n",
    "                pass\n",
    "            else:\n",
    "                # Suscetível\n",
    "                pass\n",
    "            \n",
    "            distribution = count(s)\n",
    "            suscp_t.append(distribution[0])\n",
    "            infec_t.append(distribution[1])\n",
    "            recup_t.append(distribution[2])\n",
    "            ts.append(i)\n",
    "    return suscp_t, infec_t, recup_t, ts"
   ]
  },
  {
   "cell_type": "markdown",
   "metadata": {},
   "source": [
    "Finalmente, como esse é um método estocástico, temos que avaliar a média de várias rodadas."
   ]
  },
  {
   "cell_type": "code",
   "execution_count": 52,
   "metadata": {},
   "outputs": [],
   "source": [
    "def simulate(L, infected, pc, pr, s=None, qtd=5):\n",
    "    \"\"\"\n",
    "    Simula vários modelos SIR e retorna a média deles \n",
    "    \"\"\"\n",
    "    # Parâmetros\n",
    "    N = L**2\n",
    "    if (s is None):\n",
    "        s = random_infected(N, min(N,20))\n",
    "    \n",
    "    # Vetores para guardar\n",
    "    suscp_total = np.zeros(1, dtype=np.int64)\n",
    "    infec_total = np.zeros(1, dtype=np.int64)\n",
    "    recup_total = np.zeros(1, dtype=np.int64)\n",
    "    \n",
    "    for i in range(qtd):\n",
    "        print(\"Rodada \"+str(i))\n",
    "        s0 = s.copy()\n",
    "        sus, inf, rec, _ = simulate_epidemy(N, L, s0, pc, pr, n_iter=10**4)\n",
    "        sus = np.array(sus, dtype=np.int64)\n",
    "        inf = np.array(inf, dtype=np.int64)\n",
    "        rec = np.array(rec, dtype=np.int64)\n",
    "        suscp_total = sum_different(suscp_total, sus)\n",
    "        infec_total = sum_different(infec_total, inf)\n",
    "        recup_total = sum_different(recup_total, rec)\n",
    "        \n",
    "    factor = 1/qtd\n",
    "    \n",
    "    suscp_total = np.array(suscp_total) * factor\n",
    "    infec_total = np.array(infec_total) * factor\n",
    "    recup_total = np.array(recup_total) * factor\n",
    "    \n",
    "    return suscp_total,infec_total,recup_total"
   ]
  },
  {
   "cell_type": "markdown",
   "metadata": {},
   "source": [
    "Como cada iteração da simulação pode parar após uma quantidade diferente de instantes de tempo, temos que ser capazes de somar arrays de tamanhos diferentes."
   ]
  },
  {
   "cell_type": "code",
   "execution_count": 10,
   "metadata": {},
   "outputs": [],
   "source": [
    "def sum_different(a,b):\n",
    "    \"\"\"\n",
    "    Soma os arrays a e b não simétricos\n",
    "    \n",
    "    Parâmetros:\n",
    "        a,b: arrays\n",
    "    Retornos:\n",
    "        c = a + b\n",
    "    \"\"\"\n",
    "    if len(a) < len(b):\n",
    "        c = b.copy()\n",
    "        c[:len(a)] += a\n",
    "    else:\n",
    "        c = a.copy()\n",
    "        c[:len(b)] += b\n",
    "\n",
    "    return c"
   ]
  },
  {
   "cell_type": "markdown",
   "metadata": {},
   "source": [
    "## Simulações"
   ]
  },
  {
   "cell_type": "markdown",
   "metadata": {},
   "source": [
    "Vamos olhar uma rede 100x100"
   ]
  },
  {
   "cell_type": "code",
   "execution_count": 19,
   "metadata": {},
   "outputs": [
    {
     "data": {
      "image/png": "[encoded data removed]",
      "text/plain": [
       "<Figure size 8.64x8.64 with 1 Axes>"
      ]
     },
     "metadata": {},
     "output_type": "display_data"
    }
   ],
   "source": [
    "L = 4\n",
    "N = L**2\n",
    "s = random_infected(N, 4)\n",
    "plot_map(s, L)"
   ]
  },
  {
   "cell_type": "code",
   "execution_count": 55,
   "metadata": {},
   "outputs": [
    {
     "data": {
      "image/png": "[encoded data removed]",
      "text/plain": [
       "<Figure size 8.64x8.64 with 1 Axes>"
      ]
     },
     "metadata": {},
     "output_type": "display_data"
    },
    {
     "name": "stdout",
     "output_type": "stream",
     "text": [
      "Não há mais infectados. Iteração:  18\n"
     ]
    }
   ],
   "source": [
    "y0, y1, y2, x = simulate_epidemy(N, L, s, 0.6, 0.2, n_iter=10**4, print_states=True)"
   ]
  },
  {
   "cell_type": "code",
   "execution_count": 53,
   "metadata": {},
   "outputs": [
    {
     "name": "stdout",
     "output_type": "stream",
     "text": [
      "Rodada 0\n",
      "Iteração 0\n",
      "Não há mais infectados. Iteração:  14\n",
      "Rodada 1\n",
      "Iteração 0\n",
      "Não há mais infectados. Iteração:  11\n",
      "Rodada 2\n",
      "Iteração 0\n",
      "Não há mais infectados. Iteração:  12\n",
      "Rodada 3\n",
      "Iteração 0\n",
      "Iteração 20\n",
      "Não há mais infectados. Iteração:  26\n",
      "Rodada 4\n",
      "Iteração 0\n",
      "Não há mais infectados. Iteração:  13\n"
     ]
    }
   ],
   "source": [
    "y0, y1, y2 = simulate(L, infected=3, s=None, pc=0.6, pr=0.2)"
   ]
  },
  {
   "cell_type": "code",
   "execution_count": 54,
   "metadata": {},
   "outputs": [
    {
     "data": {
      "text/plain": [
       "<matplotlib.legend.Legend at 0x7f424cb44b20>"
      ]
     },
     "execution_count": 54,
     "metadata": {},
     "output_type": "execute_result"
    },
    {
     "data": {
      "image/png": "[encoded data removed]",
      "text/plain": [
       "<Figure size 432x288 with 1 Axes>"
      ]
     },
     "metadata": {},
     "output_type": "display_data"
    }
   ],
   "source": [
    "plt.plot(np.array(y0)/N, color='b')\n",
    "plt.plot(np.array(y1)/N, color='r')\n",
    "plt.plot(np.array(y2)/N, color='g')\n",
    "plt.legend([\"Suscetíveis\",\"Infectados\",\"Recuperados\"])"
   ]
  },
  {
   "cell_type": "markdown",
   "metadata": {},
   "source": [
    "# OFF"
   ]
  },
  {
   "cell_type": "code",
   "execution_count": 39,
   "metadata": {},
   "outputs": [
    {
     "data": {
      "text/plain": [
       "array([10, 35, 55, 75, 95, 55, 65])"
      ]
     },
     "execution_count": 39,
     "metadata": {},
     "output_type": "execute_result"
    }
   ],
   "source": [
    "sum_different(\n",
    "              np.array([0 ,15,25,35,45,55,65]),\n",
    "             np.array([10,20,30,40,50]))"
   ]
  },
  {
   "cell_type": "code",
   "execution_count": 40,
   "metadata": {},
   "outputs": [
    {
     "ename": "ValueError",
     "evalue": "operands could not be broadcast together with shapes (7,) (5,) ",
     "output_type": "error",
     "traceback": [
      "\u001b[0;31m---------------------------------------------------------------------------\u001b[0m",
      "\u001b[0;31mValueError\u001b[0m                                Traceback (most recent call last)",
      "\u001b[0;32m<ipython-input-40-c88bd2a31be2>\u001b[0m in \u001b[0;36m<module>\u001b[0;34m\u001b[0m\n\u001b[0;32m----> 1\u001b[0;31m \u001b[0mnp\u001b[0m\u001b[0;34m.\u001b[0m\u001b[0marray\u001b[0m\u001b[0;34m(\u001b[0m\u001b[0;34m[\u001b[0m\u001b[0;36m0\u001b[0m \u001b[0;34m,\u001b[0m\u001b[0;36m15\u001b[0m\u001b[0;34m,\u001b[0m\u001b[0;36m25\u001b[0m\u001b[0;34m,\u001b[0m\u001b[0;36m35\u001b[0m\u001b[0;34m,\u001b[0m\u001b[0;36m45\u001b[0m\u001b[0;34m,\u001b[0m\u001b[0;36m55\u001b[0m\u001b[0;34m,\u001b[0m\u001b[0;36m65\u001b[0m\u001b[0;34m]\u001b[0m\u001b[0;34m)\u001b[0m \u001b[0;34m+\u001b[0m  \u001b[0mnp\u001b[0m\u001b[0;34m.\u001b[0m\u001b[0marray\u001b[0m\u001b[0;34m(\u001b[0m\u001b[0;34m[\u001b[0m\u001b[0;36m10\u001b[0m\u001b[0;34m,\u001b[0m\u001b[0;36m20\u001b[0m\u001b[0;34m,\u001b[0m\u001b[0;36m30\u001b[0m\u001b[0;34m,\u001b[0m\u001b[0;36m40\u001b[0m\u001b[0;34m,\u001b[0m\u001b[0;36m50\u001b[0m\u001b[0;34m]\u001b[0m\u001b[0;34m)\u001b[0m\u001b[0;34m\u001b[0m\u001b[0;34m\u001b[0m\u001b[0m\n\u001b[0m",
      "\u001b[0;31mValueError\u001b[0m: operands could not be broadcast together with shapes (7,) (5,) "
     ]
    }
   ],
   "source": [
    "np.array([0 ,15,25,35,45,55,65]) +  np.array([10,20,30,40,50])"
   ]
  },
  {
   "cell_type": "code",
   "execution_count": 44,
   "metadata": {},
   "outputs": [
    {
     "name": "stdout",
     "output_type": "stream",
     "text": [
      "[0]\n",
      "[0]\n",
      "[0]\n"
     ]
    }
   ],
   "source": [
    "sust = np.zeros(1, dtype=np.int64)\n",
    "inft = np.zeros(1, dtype=np.int64)\n",
    "rect = np.zeros(1, dtype=np.int64)\n",
    "print(sust)\n",
    "print(inft)\n",
    "print(rect)"
   ]
  },
  {
   "cell_type": "code",
   "execution_count": 45,
   "metadata": {},
   "outputs": [
    {
     "name": "stdout",
     "output_type": "stream",
     "text": [
      "Iteração 0\n",
      "Não há mais infectados. Iteração:  13\n",
      "[11  8  8  8  6  5  5  3  3  2  1  1  1  1  1  0  0  0  0  0  0  0  0  0\n",
      "  0  0  0  0  0  0  0  0  0  0  0  0  0  0  0  0  0  0  0  0  0  0  0  0\n",
      "  0  0  0  0  0  0  0  0  0  0  0  0  0  0  0  0  0  0  0  0  0  0  0  0\n",
      "  0  0  0  0  0  0  0  0  0  0  0  0  0  0  0  0  0  0  0  0  0  0  0  0\n",
      "  0  0  0  0  0  0  0  0  0  0  0  0  0  0  0  0  0  0  0  0  0  0  0  0\n",
      "  0  0  0  0  0  0  0  0  0  0  0  0  0  0  0  0  0  0  0  0  0  0  0  0\n",
      "  0  0  0  0  0  0  0  0  0  0  0  0  0  0  0  0  0  0  0  0  0  0  0  0\n",
      "  0  0  0  0  0  0  0  0  0  0  0  0  0  0  0  0  0  0  0  0  0  0  0  0\n",
      "  0  0  0  0  0  0  0  0  0  0  0  0  0  0  0  0]\n",
      "[ 5  8  8  7  9 10 10 12 12 13 14 14 14 14 13 14 14 14 14 14 14 14 14 14\n",
      " 14 13 13 13 13 13 13 13 12 12 12 12 12 12 11 10 10 10 10 10  9  9  9  9\n",
      "  9  9  9  9  9  9  9  9  8  8  7  7  7  6  6  6  6  6  6  6  6  6  6  6\n",
      "  6  6  6  6  6  6  6  6  6  5  5  5  5  5  5  5  5  5  5  5  5  5  5  5\n",
      "  5  5  5  5  4  3  3  3  3  3  3  3  3  3  3  3  3  3  3  3  3  3  3  3\n",
      "  3  3  3  3  3  3  3  2  2  2  2  2  2  2  2  2  2  2  2  1  1  1  1  1\n",
      "  1  1  1  1  1  1  1  1  1  1  1  1  1  1  1  1  1  1  1  1  1  1  1  1\n",
      "  1  1  1  1  1  1  1  1  1  1  1  1  1  1  1  1  1  1  1  1  1  1  1  1\n",
      "  1  1  0  0  0  0  0  0  0  0  0  0  0  0  0  0]\n",
      "[ 0  0  0  1  1  1  1  1  1  1  1  1  1  1  2  2  2  2  2  2  2  2  2  2\n",
      "  2  3  3  3  3  3  3  3  4  4  4  4  4  4  5  6  6  6  6  6  7  7  7  7\n",
      "  7  7  7  7  7  7  7  7  8  8  9  9  9 10 10 10 10 10 10 10 10 10 10 10\n",
      " 10 10 10 10 10 10 10 10 10 11 11 11 11 11 11 11 11 11 11 11 11 11 11 11\n",
      " 11 11 11 11 12 13 13 13 13 13 13 13 13 13 13 13 13 13 13 13 13 13 13 13\n",
      " 13 13 13 13 13 13 13 14 14 14 14 14 14 14 14 14 14 14 14 15 15 15 15 15\n",
      " 15 15 15 15 15 15 15 15 15 15 15 15 15 15 15 15 15 15 15 15 15 15 15 15\n",
      " 15 15 15 15 15 15 15 15 15 15 15 15 15 15 15 15 15 15 15 15 15 15 15 15\n",
      " 15 15 16 16 16 16 16 16 16 16 16 16 16 16 16 16]\n",
      "\n",
      "[11  8  8  8  6  5  5  3  3  2  1  1  1  1  1  0  0  0  0  0  0  0  0  0\n",
      "  0  0  0  0  0  0  0  0  0  0  0  0  0  0  0  0  0  0  0  0  0  0  0  0\n",
      "  0  0  0  0  0  0  0  0  0  0  0  0  0  0  0  0  0  0  0  0  0  0  0  0\n",
      "  0  0  0  0  0  0  0  0  0  0  0  0  0  0  0  0  0  0  0  0  0  0  0  0\n",
      "  0  0  0  0  0  0  0  0  0  0  0  0  0  0  0  0  0  0  0  0  0  0  0  0\n",
      "  0  0  0  0  0  0  0  0  0  0  0  0  0  0  0  0  0  0  0  0  0  0  0  0\n",
      "  0  0  0  0  0  0  0  0  0  0  0  0  0  0  0  0  0  0  0  0  0  0  0  0\n",
      "  0  0  0  0  0  0  0  0  0  0  0  0  0  0  0  0  0  0  0  0  0  0  0  0\n",
      "  0  0  0  0  0  0  0  0  0  0  0  0  0  0  0  0]\n",
      "[ 5  8  8  7  9 10 10 12 12 13 14 14 14 14 13 14 14 14 14 14 14 14 14 14\n",
      " 14 13 13 13 13 13 13 13 12 12 12 12 12 12 11 10 10 10 10 10  9  9  9  9\n",
      "  9  9  9  9  9  9  9  9  8  8  7  7  7  6  6  6  6  6  6  6  6  6  6  6\n",
      "  6  6  6  6  6  6  6  6  6  5  5  5  5  5  5  5  5  5  5  5  5  5  5  5\n",
      "  5  5  5  5  4  3  3  3  3  3  3  3  3  3  3  3  3  3  3  3  3  3  3  3\n",
      "  3  3  3  3  3  3  3  2  2  2  2  2  2  2  2  2  2  2  2  1  1  1  1  1\n",
      "  1  1  1  1  1  1  1  1  1  1  1  1  1  1  1  1  1  1  1  1  1  1  1  1\n",
      "  1  1  1  1  1  1  1  1  1  1  1  1  1  1  1  1  1  1  1  1  1  1  1  1\n",
      "  1  1  0  0  0  0  0  0  0  0  0  0  0  0  0  0]\n",
      "[ 0  0  0  1  1  1  1  1  1  1  1  1  1  1  2  2  2  2  2  2  2  2  2  2\n",
      "  2  3  3  3  3  3  3  3  4  4  4  4  4  4  5  6  6  6  6  6  7  7  7  7\n",
      "  7  7  7  7  7  7  7  7  8  8  9  9  9 10 10 10 10 10 10 10 10 10 10 10\n",
      " 10 10 10 10 10 10 10 10 10 11 11 11 11 11 11 11 11 11 11 11 11 11 11 11\n",
      " 11 11 11 11 12 13 13 13 13 13 13 13 13 13 13 13 13 13 13 13 13 13 13 13\n",
      " 13 13 13 13 13 13 13 14 14 14 14 14 14 14 14 14 14 14 14 15 15 15 15 15\n",
      " 15 15 15 15 15 15 15 15 15 15 15 15 15 15 15 15 15 15 15 15 15 15 15 15\n",
      " 15 15 15 15 15 15 15 15 15 15 15 15 15 15 15 15 15 15 15 15 15 15 15 15\n",
      " 15 15 16 16 16 16 16 16 16 16 16 16 16 16 16 16]\n"
     ]
    },
    {
     "data": {
      "image/png": "[encoded data removed]",
      "text/plain": [
       "<Figure size 432x288 with 1 Axes>"
      ]
     },
     "metadata": {},
     "output_type": "display_data"
    }
   ],
   "source": [
    "s0 = s.copy()\n",
    "sus, inf, rec, _ = simulate_epidemy(N, L, s0, 0.6, 0.2, n_iter=10**4)\n",
    "sus = np.array(sus, dtype=np.int64)\n",
    "inf = np.array(inf, dtype=np.int64)\n",
    "rec = np.array(rec, dtype=np.int64)\n",
    "\n",
    "plt.plot(sus/N)\n",
    "plt.plot(inf/N)\n",
    "plt.plot(rec/N)\n",
    "print(sus)\n",
    "print(inf)\n",
    "print(rec)\n",
    "sust = sum_different(sust, sus)\n",
    "inft = sum_different(inft, inf)\n",
    "rect = sum_different(rect, rec)\n",
    "print(\"\")\n",
    "print(sust)\n",
    "print(inft)\n",
    "print(rect)"
   ]
  },
  {
   "cell_type": "code",
   "execution_count": 46,
   "metadata": {},
   "outputs": [
    {
     "name": "stdout",
     "output_type": "stream",
     "text": [
      "Iteração 0\n",
      "Não há mais infectados. Iteração:  16\n",
      "[11  8  7  7  6  6  6  6  4  4  4  3  3  2  2  2  2  2  2  2  1  1  1  1\n",
      "  1  1  0  0  0  0  0  0  0  0  0  0  0  0  0  0  0  0  0  0  0  0  0  0\n",
      "  0  0  0  0  0  0  0  0  0  0  0  0  0  0  0  0  0  0  0  0  0  0  0  0\n",
      "  0  0  0  0  0  0  0  0  0  0  0  0  0  0  0  0  0  0  0  0  0  0  0  0\n",
      "  0  0  0  0  0  0  0  0  0  0  0  0  0  0  0  0  0  0  0  0  0  0  0  0\n",
      "  0  0  0  0  0  0  0  0  0  0  0  0  0  0  0  0  0  0  0  0  0  0  0  0\n",
      "  0  0  0  0  0  0  0  0  0  0  0  0  0  0  0  0  0  0  0  0  0  0  0  0\n",
      "  0  0  0  0  0  0  0  0  0  0  0  0  0  0  0  0  0  0  0  0  0  0  0  0\n",
      "  0  0  0  0  0  0  0  0  0  0  0  0  0  0  0  0  0  0  0  0  0  0  0  0\n",
      "  0  0  0  0  0  0  0  0  0  0  0  0  0  0  0  0  0  0  0  0  0  0  0  0\n",
      "  0  0  0  0  0  0  0  0  0  0  0  0  0  0  0  0]\n",
      "[ 5  8  9  8  9  8  8  8 10  9  9 10 10 11 11 11 10 10  9  9 10 10 10 10\n",
      " 10 10 11 11 11 11 11 11 11 11 11 11 11 11 10 10 10 10 10  9  9  9  9  9\n",
      "  9  9  9  9  9  9  9  9  9  9  9  9  9  9  9  9  9  8  8  8  8  8  8  8\n",
      "  7  7  7  7  7  7  7  7  7  7  7  7  7  7  7  7  7  7  7  7  7  7  7  7\n",
      "  7  7  7  7  7  7  7  7  7  7  7  7  7  7  7  6  6  6  6  6  6  6  6  6\n",
      "  6  6  6  6  6  6  6  6  6  6  6  6  6  6  6  6  6  6  6  6  6  6  5  5\n",
      "  5  5  5  5  4  4  4  4  4  4  3  3  3  2  2  2  2  2  2  2  2  2  2  2\n",
      "  2  2  2  2  2  2  2  2  2  2  2  2  2  2  2  1  1  1  1  1  1  1  1  1\n",
      "  1  1  1  1  1  1  1  1  1  1  1  1  1  1  1  1  1  1  1  1  1  1  1  1\n",
      "  1  1  1  1  1  1  1  1  1  1  1  1  1  1  1  1  1  1  1  1  1  1  1  1\n",
      "  1  1  1  1  1  1  1  1  1  1  1  1  0  0  0  0]\n",
      "[ 0  0  0  1  1  2  2  2  2  3  3  3  3  3  3  3  4  4  5  5  5  5  5  5\n",
      "  5  5  5  5  5  5  5  5  5  5  5  5  5  5  6  6  6  6  6  7  7  7  7  7\n",
      "  7  7  7  7  7  7  7  7  7  7  7  7  7  7  7  7  7  8  8  8  8  8  8  8\n",
      "  9  9  9  9  9  9  9  9  9  9  9  9  9  9  9  9  9  9  9  9  9  9  9  9\n",
      "  9  9  9  9  9  9  9  9  9  9  9  9  9  9  9 10 10 10 10 10 10 10 10 10\n",
      " 10 10 10 10 10 10 10 10 10 10 10 10 10 10 10 10 10 10 10 10 10 10 11 11\n",
      " 11 11 11 11 12 12 12 12 12 12 13 13 13 14 14 14 14 14 14 14 14 14 14 14\n",
      " 14 14 14 14 14 14 14 14 14 14 14 14 14 14 14 15 15 15 15 15 15 15 15 15\n",
      " 15 15 15 15 15 15 15 15 15 15 15 15 15 15 15 15 15 15 15 15 15 15 15 15\n",
      " 15 15 15 15 15 15 15 15 15 15 15 15 15 15 15 15 15 15 15 15 15 15 15 15\n",
      " 15 15 15 15 15 15 15 15 15 15 15 15 16 16 16 16]\n",
      "\n",
      "[22 16 15 15 12 11 11  9  7  6  5  4  4  3  3  2  2  2  2  2  1  1  1  1\n",
      "  1  1  0  0  0  0  0  0  0  0  0  0  0  0  0  0  0  0  0  0  0  0  0  0\n",
      "  0  0  0  0  0  0  0  0  0  0  0  0  0  0  0  0  0  0  0  0  0  0  0  0\n",
      "  0  0  0  0  0  0  0  0  0  0  0  0  0  0  0  0  0  0  0  0  0  0  0  0\n",
      "  0  0  0  0  0  0  0  0  0  0  0  0  0  0  0  0  0  0  0  0  0  0  0  0\n",
      "  0  0  0  0  0  0  0  0  0  0  0  0  0  0  0  0  0  0  0  0  0  0  0  0\n",
      "  0  0  0  0  0  0  0  0  0  0  0  0  0  0  0  0  0  0  0  0  0  0  0  0\n",
      "  0  0  0  0  0  0  0  0  0  0  0  0  0  0  0  0  0  0  0  0  0  0  0  0\n",
      "  0  0  0  0  0  0  0  0  0  0  0  0  0  0  0  0  0  0  0  0  0  0  0  0\n",
      "  0  0  0  0  0  0  0  0  0  0  0  0  0  0  0  0  0  0  0  0  0  0  0  0\n",
      "  0  0  0  0  0  0  0  0  0  0  0  0  0  0  0  0]\n",
      "[10 16 17 15 18 18 18 20 22 22 23 24 24 25 24 25 24 24 23 23 24 24 24 24\n",
      " 24 23 24 24 24 24 24 24 23 23 23 23 23 23 21 20 20 20 20 19 18 18 18 18\n",
      " 18 18 18 18 18 18 18 18 17 17 16 16 16 15 15 15 15 14 14 14 14 14 14 14\n",
      " 13 13 13 13 13 13 13 13 13 12 12 12 12 12 12 12 12 12 12 12 12 12 12 12\n",
      " 12 12 12 12 11 10 10 10 10 10 10 10 10 10 10  9  9  9  9  9  9  9  9  9\n",
      "  9  9  9  9  9  9  9  8  8  8  8  8  8  8  8  8  8  8  8  7  7  7  6  6\n",
      "  6  6  6  6  5  5  5  5  5  5  4  4  4  3  3  3  3  3  3  3  3  3  3  3\n",
      "  3  3  3  3  3  3  3  3  3  3  3  3  3  3  3  2  2  2  2  2  2  2  2  2\n",
      "  2  2  1  1  1  1  1  1  1  1  1  1  1  1  1  1  1  1  1  1  1  1  1  1\n",
      "  1  1  1  1  1  1  1  1  1  1  1  1  1  1  1  1  1  1  1  1  1  1  1  1\n",
      "  1  1  1  1  1  1  1  1  1  1  1  1  0  0  0  0]\n",
      "[ 0  0  0  2  2  3  3  3  3  4  4  4  4  4  5  5  6  6  7  7  7  7  7  7\n",
      "  7  8  8  8  8  8  8  8  9  9  9  9  9  9 11 12 12 12 12 13 14 14 14 14\n",
      " 14 14 14 14 14 14 14 14 15 15 16 16 16 17 17 17 17 18 18 18 18 18 18 18\n",
      " 19 19 19 19 19 19 19 19 19 20 20 20 20 20 20 20 20 20 20 20 20 20 20 20\n",
      " 20 20 20 20 21 22 22 22 22 22 22 22 22 22 22 23 23 23 23 23 23 23 23 23\n",
      " 23 23 23 23 23 23 23 24 24 24 24 24 24 24 24 24 24 24 24 25 25 25 26 26\n",
      " 26 26 26 26 27 27 27 27 27 27 28 28 28 29 29 29 29 29 29 29 29 29 29 29\n",
      " 29 29 29 29 29 29 29 29 29 29 29 29 29 29 29 30 30 30 30 30 30 30 30 30\n",
      " 30 30 31 31 31 31 31 31 31 31 31 31 31 31 31 31 15 15 15 15 15 15 15 15\n",
      " 15 15 15 15 15 15 15 15 15 15 15 15 15 15 15 15 15 15 15 15 15 15 15 15\n",
      " 15 15 15 15 15 15 15 15 15 15 15 15 16 16 16 16]\n"
     ]
    },
    {
     "data": {
      "image/png": "[encoded data removed]",
      "text/plain": [
       "<Figure size 432x288 with 1 Axes>"
      ]
     },
     "metadata": {},
     "output_type": "display_data"
    }
   ],
   "source": [
    "s0 = s.copy()\n",
    "sus, inf, rec, _ = simulate_epidemy(N, L, s0, 0.6, 0.2, n_iter=10**4)\n",
    "sus = np.array(sus)\n",
    "inf = np.array(inf)\n",
    "rec = np.array(rec)\n",
    "\n",
    "plt.plot(sus/N)\n",
    "plt.plot(inf/N)\n",
    "plt.plot(rec/N)\n",
    "print(sus)\n",
    "print(inf)\n",
    "print(rec)\n",
    "sust = sum_different(sust, sus)\n",
    "inft = sum_different(inft, inf)\n",
    "rect = sum_different(rect, rec)\n",
    "print(\"\")\n",
    "print(sust)\n",
    "print(inft)\n",
    "print(rect)"
   ]
  },
  {
   "cell_type": "code",
   "execution_count": 47,
   "metadata": {},
   "outputs": [
    {
     "name": "stdout",
     "output_type": "stream",
     "text": [
      "Iteração 0\n",
      "Não há mais infectados. Iteração:  12\n",
      "[12 12 12 12 10 10 10  8  8  8  8  8  8  8  8  6  6  6  6  5  4  2  2  2\n",
      "  2  2  2  1  0  0  0  0  0  0  0  0  0  0  0  0  0  0  0  0  0  0  0  0\n",
      "  0  0  0  0  0  0  0  0  0  0  0  0  0  0  0  0  0  0  0  0  0  0  0  0\n",
      "  0  0  0  0  0  0  0  0  0  0  0  0  0  0  0  0  0  0  0  0  0  0  0  0\n",
      "  0  0  0  0  0  0  0  0  0  0  0  0  0  0  0  0  0  0  0  0  0  0  0  0\n",
      "  0  0  0  0  0  0  0  0  0  0  0  0  0  0  0  0  0  0  0  0  0  0  0  0\n",
      "  0  0  0  0  0  0  0  0  0  0  0  0  0  0  0  0  0  0  0  0  0  0  0  0\n",
      "  0  0  0  0  0  0  0  0  0  0  0  0  0  0  0  0  0  0  0  0  0  0  0  0]\n",
      "[ 3  3  3  3  5  5  5  7  7  7  7  7  7  7  7  9  9  9  9 10 11 13 13 13\n",
      " 13 13 13 14 15 15 15 15 15 15 15 15 15 15 15 15 15 14 14 14 14 14 13 13\n",
      " 13 13 13 12 12 11 11 11 11 11 11 10 10  9  9  9  9  9  9  9  9  9  9  8\n",
      "  8  8  8  8  8  8  8  8  8  8  8  8  8  8  8  8  7  7  6  6  6  6  6  5\n",
      "  5  4  4  4  4  4  4  4  4  4  4  4  3  3  3  3  3  3  3  3  3  3  3  3\n",
      "  3  3  3  3  3  3  3  3  3  3  3  3  3  3  2  2  2  2  2  2  2  2  2  2\n",
      "  2  2  1  1  1  1  1  1  1  1  1  1  1  1  1  1  1  1  1  1  1  1  1  1\n",
      "  1  1  1  1  1  1  1  1  1  1  1  1  0  0  0  0  0  0  0  0  0  0  0  0]\n",
      "[ 1  1  1  1  1  1  1  1  1  1  1  1  1  1  1  1  1  1  1  1  1  1  1  1\n",
      "  1  1  1  1  1  1  1  1  1  1  1  1  1  1  1  1  1  2  2  2  2  2  3  3\n",
      "  3  3  3  4  4  5  5  5  5  5  5  6  6  7  7  7  7  7  7  7  7  7  7  8\n",
      "  8  8  8  8  8  8  8  8  8  8  8  8  8  8  8  8  9  9 10 10 10 10 10 11\n",
      " 11 12 12 12 12 12 12 12 12 12 12 12 13 13 13 13 13 13 13 13 13 13 13 13\n",
      " 13 13 13 13 13 13 13 13 13 13 13 13 13 13 14 14 14 14 14 14 14 14 14 14\n",
      " 14 14 15 15 15 15 15 15 15 15 15 15 15 15 15 15 15 15 15 15 15 15 15 15\n",
      " 15 15 15 15 15 15 15 15 15 15 15 15 16 16 16 16 16 16 16 16 16 16 16 16]\n",
      "\n",
      "[34 28 27 27 22 21 21 17 15 14 13 12 12 11 11  8  8  8  8  7  5  3  3  3\n",
      "  3  3  2  1  0  0  0  0  0  0  0  0  0  0  0  0  0  0  0  0  0  0  0  0\n",
      "  0  0  0  0  0  0  0  0  0  0  0  0  0  0  0  0  0  0  0  0  0  0  0  0\n",
      "  0  0  0  0  0  0  0  0  0  0  0  0  0  0  0  0  0  0  0  0  0  0  0  0\n",
      "  0  0  0  0  0  0  0  0  0  0  0  0  0  0  0  0  0  0  0  0  0  0  0  0\n",
      "  0  0  0  0  0  0  0  0  0  0  0  0  0  0  0  0  0  0  0  0  0  0  0  0\n",
      "  0  0  0  0  0  0  0  0  0  0  0  0  0  0  0  0  0  0  0  0  0  0  0  0\n",
      "  0  0  0  0  0  0  0  0  0  0  0  0  0  0  0  0  0  0  0  0  0  0  0  0\n",
      "  0  0  0  0  0  0  0  0  0  0  0  0  0  0  0  0  0  0  0  0  0  0  0  0\n",
      "  0  0  0  0  0  0  0  0  0  0  0  0  0  0  0  0  0  0  0  0  0  0  0  0\n",
      "  0  0  0  0  0  0  0  0  0  0  0  0  0  0  0  0]\n",
      "[13 19 20 18 23 23 23 27 29 29 30 31 31 32 31 34 33 33 32 33 35 37 37 37\n",
      " 37 36 37 38 39 39 39 39 38 38 38 38 38 38 36 35 35 34 34 33 32 32 31 31\n",
      " 31 31 31 30 30 29 29 29 28 28 27 26 26 24 24 24 24 23 23 23 23 23 23 22\n",
      " 21 21 21 21 21 21 21 21 21 20 20 20 20 20 20 20 19 19 18 18 18 18 18 17\n",
      " 17 16 16 16 15 14 14 14 14 14 14 14 13 13 13 12 12 12 12 12 12 12 12 12\n",
      " 12 12 12 12 12 12 12 11 11 11 11 11 11 11 10 10 10 10 10  9  9  9  8  8\n",
      "  8  8  7  7  6  6  6  6  6  6  5  5  5  4  4  4  4  4  4  4  4  4  4  4\n",
      "  4  4  4  4  4  4  4  4  4  4  4  4  3  3  3  2  2  2  2  2  2  2  2  2\n",
      "  2  2  1  1  1  1  1  1  1  1  1  1  1  1  1  1  1  1  1  1  1  1  1  1\n",
      "  1  1  1  1  1  1  1  1  1  1  1  1  1  1  1  1  1  1  1  1  1  1  1  1\n",
      "  1  1  1  1  1  1  1  1  1  1  1  1  0  0  0  0]\n",
      "[ 1  1  1  3  3  4  4  4  4  5  5  5  5  5  6  6  7  7  8  8  8  8  8  8\n",
      "  8  9  9  9  9  9  9  9 10 10 10 10 10 10 12 13 13 14 14 15 16 16 17 17\n",
      " 17 17 17 18 18 19 19 19 20 20 21 22 22 24 24 24 24 25 25 25 25 25 25 26\n",
      " 27 27 27 27 27 27 27 27 27 28 28 28 28 28 28 28 29 29 30 30 30 30 30 31\n",
      " 31 32 32 32 33 34 34 34 34 34 34 34 35 35 35 36 36 36 36 36 36 36 36 36\n",
      " 36 36 36 36 36 36 36 37 37 37 37 37 37 37 38 38 38 38 38 39 39 39 40 40\n",
      " 40 40 41 41 42 42 42 42 42 42 43 43 43 44 44 44 44 44 44 44 44 44 44 44\n",
      " 44 44 44 44 44 44 44 44 44 44 44 44 45 45 45 46 46 46 46 46 46 46 46 46\n",
      " 30 30 31 31 31 31 31 31 31 31 31 31 31 31 31 31 15 15 15 15 15 15 15 15\n",
      " 15 15 15 15 15 15 15 15 15 15 15 15 15 15 15 15 15 15 15 15 15 15 15 15\n",
      " 15 15 15 15 15 15 15 15 15 15 15 15 16 16 16 16]\n"
     ]
    },
    {
     "data": {
      "image/png": "[encoded data removed]",
      "text/plain": [
       "<Figure size 432x288 with 1 Axes>"
      ]
     },
     "metadata": {},
     "output_type": "display_data"
    }
   ],
   "source": [
    "s0 = s.copy()\n",
    "sus, inf, rec, _ = simulate_epidemy(N, L, s0, 0.6, 0.2, n_iter=10**4)\n",
    "sus = np.array(sus)\n",
    "inf = np.array(inf)\n",
    "rec = np.array(rec)\n",
    "\n",
    "plt.plot(sus/N)\n",
    "plt.plot(inf/N)\n",
    "plt.plot(rec/N)\n",
    "print(sus)\n",
    "print(inf)\n",
    "print(rec)\n",
    "sust = sum_different(sust, sus)\n",
    "inft = sum_different(inft, inf)\n",
    "rect = sum_different(rect, rec)\n",
    "print(\"\")\n",
    "print(sust)\n",
    "print(inft)\n",
    "print(rect)"
   ]
  },
  {
   "cell_type": "code",
   "execution_count": 49,
   "metadata": {},
   "outputs": [
    {
     "data": {
      "text/plain": [
       "<matplotlib.legend.Legend at 0x7f424bea2a30>"
      ]
     },
     "execution_count": 49,
     "metadata": {},
     "output_type": "execute_result"
    },
    {
     "data": {
      "image/png": "[encoded data removed]",
      "text/plain": [
       "<Figure size 432x288 with 1 Axes>"
      ]
     },
     "metadata": {},
     "output_type": "display_data"
    }
   ],
   "source": [
    "plt.plot((np.array(sust)/3)/N, color='b')\n",
    "plt.plot((np.array(inft)/3)/N, color='r')\n",
    "plt.plot((np.array(rect)/3)/N, color='g')\n",
    "plt.legend([\"Suscetíveis1\",\"Infectados1\",\"Recuperados1\",\n",
    "            \"Suscetíveis2\",\"Infectados2\",\"Recuperados2\",\n",
    "            \"Suscetíveis3\",\"Infectados3\",\"Recuperados3\",])"
   ]
  },
  {
   "cell_type": "code",
   "execution_count": 26,
   "metadata": {},
   "outputs": [
    {
     "name": "stdout",
     "output_type": "stream",
     "text": [
      "Iteração 0\n",
      "Não há mais infectados. Iteração:  14\n",
      "Iteração 0\n",
      "Não há mais infectados. Iteração:  9\n",
      "Iteração 0\n",
      "Não há mais infectados. Iteração:  15\n"
     ]
    },
    {
     "data": {
      "image/png": "[encoded data removed]",
      "text/plain": [
       "<Figure size 432x288 with 1 Axes>"
      ]
     },
     "metadata": {},
     "output_type": "display_data"
    }
   ],
   "source": [
    "\n",
    "\n",
    "s0 = s.copy()\n",
    "sus, inf, rec, _ = simulate_epidemy(N, L, s0, 0.6, 0.2, n_iter=10**4)\n",
    "plt.plot(np.array(sus)/N)\n",
    "plt.plot(np.array(inf)/N)\n",
    "plt.plot(np.array(rec)/N)\n",
    "sust = sum_different(sust, sus)\n",
    "inft = sum_different(inft, inf)\n",
    "rect = sum_different(rect, rec)"
   ]
  },
  {
   "cell_type": "code",
   "execution_count": 28,
   "metadata": {},
   "outputs": [
    {
     "data": {
      "text/plain": [
       "<matplotlib.legend.Legend at 0x7f424c935ca0>"
      ]
     },
     "execution_count": 28,
     "metadata": {},
     "output_type": "execute_result"
    },
    {
     "data": {
      "image/png": "[encoded data removed]",
      "text/plain": [
       "<Figure size 432x288 with 1 Axes>"
      ]
     },
     "metadata": {},
     "output_type": "display_data"
    }
   ],
   "source": [
    "plt.plot(np.array(sust)/3*N, color='b')\n",
    "plt.plot(np.array(inft)/3*N, color='r')\n",
    "plt.plot(np.array(rect)/3*N, color='g')\n",
    "plt.legend([\"Suscetíveis1\",\"Infectados1\",\"Recuperados1\",\n",
    "            \"Suscetíveis2\",\"Infectados2\",\"Recuperados2\",\n",
    "            \"Suscetíveis3\",\"Infectados3\",\"Recuperados3\",])"
   ]
  },
  {
   "cell_type": "code",
   "execution_count": null,
   "metadata": {},
   "outputs": [],
   "source": []
  },
  {
   "cell_type": "markdown",
   "metadata": {},
   "source": [
    "# OFF"
   ]
  },
  {
   "cell_type": "markdown",
   "metadata": {
    "heading_collapsed": true
   },
   "source": [
    "### Plot da Rede"
   ]
  },
  {
   "cell_type": "markdown",
   "metadata": {
    "heading_collapsed": true
   },
   "source": [
    "### GIF da Simulação"
   ]
  },
  {
   "cell_type": "code",
   "execution_count": 2,
   "metadata": {
    "hidden": true
   },
   "outputs": [],
   "source": [
    "from pathlib import Path\n",
    "import os\n",
    "import imageio\n",
    "\n",
    "def generate_gif(states):\n",
    "    # Create Frames\n",
    "    filenames = []\n",
    "    Path(\"gif\").mkdir(parents=True, exist_ok=True)\n",
    "    index = 0\n",
    "    N = len(states[0][1])\n",
    "    for (n, s, descr) in states:\n",
    "        plot(N, s, title=descr)\n",
    "\n",
    "        # create file name and append it to a list\n",
    "        filename = f'gif/{index}.png'\n",
    "        filenames.append(filename)\n",
    "        index += 1\n",
    "\n",
    "        # repeat last frame GIF\n",
    "        if (index == len(states)-1):\n",
    "            for i in range(15):\n",
    "                filenames.append(filename)\n",
    "\n",
    "        # save frame\n",
    "        plt.savefig(filename)\n",
    "        plt.close()\n",
    "    \n",
    "    # build gif\n",
    "    frames = []\n",
    "    for filename in filenames:\n",
    "        image = imageio.imread(filename)\n",
    "        frames.append(image)\n",
    "    imageio.mimsave('mygif2.gif', frames, format='GIF', fps=2)\n",
    "            \n",
    "    # Remove intermediate files used for the frames\n",
    "    for filename in set(filenames):\n",
    "        os.remove(filename)"
   ]
  },
  {
   "cell_type": "code",
   "execution_count": 3,
   "metadata": {
    "hidden": true
   },
   "outputs": [
    {
     "ename": "NameError",
     "evalue": "name 'random_infected' is not defined",
     "output_type": "error",
     "traceback": [
      "\u001b[0;31m---------------------------------------------------------------------------\u001b[0m",
      "\u001b[0;31mNameError\u001b[0m                                 Traceback (most recent call last)",
      "\u001b[0;32m<ipython-input-3-5a79518e340d>\u001b[0m in \u001b[0;36m<module>\u001b[0;34m\u001b[0m\n\u001b[1;32m      1\u001b[0m \u001b[0mL\u001b[0m \u001b[0;34m=\u001b[0m \u001b[0;36m3\u001b[0m\u001b[0;34m\u001b[0m\u001b[0;34m\u001b[0m\u001b[0m\n\u001b[1;32m      2\u001b[0m \u001b[0mN\u001b[0m \u001b[0;34m=\u001b[0m \u001b[0mL\u001b[0m\u001b[0;34m**\u001b[0m\u001b[0;36m2\u001b[0m\u001b[0;34m\u001b[0m\u001b[0;34m\u001b[0m\u001b[0m\n\u001b[0;32m----> 3\u001b[0;31m \u001b[0ms\u001b[0m \u001b[0;34m=\u001b[0m \u001b[0mrandom_infected\u001b[0m\u001b[0;34m(\u001b[0m\u001b[0mN\u001b[0m\u001b[0;34m,\u001b[0m \u001b[0;36m4\u001b[0m\u001b[0;34m)\u001b[0m\u001b[0;34m\u001b[0m\u001b[0;34m\u001b[0m\u001b[0m\n\u001b[0m\u001b[1;32m      4\u001b[0m \u001b[0mplot\u001b[0m\u001b[0;34m(\u001b[0m\u001b[0mN\u001b[0m\u001b[0;34m,\u001b[0m \u001b[0ms\u001b[0m\u001b[0;34m)\u001b[0m\u001b[0;34m\u001b[0m\u001b[0;34m\u001b[0m\u001b[0m\n\u001b[1;32m      5\u001b[0m \u001b[0mmod_states\u001b[0m\u001b[0;34m,\u001b[0m \u001b[0mstates\u001b[0m \u001b[0;34m=\u001b[0m \u001b[0msimulate_epidemy\u001b[0m\u001b[0;34m(\u001b[0m\u001b[0mN\u001b[0m\u001b[0;34m,\u001b[0m \u001b[0mL\u001b[0m\u001b[0;34m,\u001b[0m \u001b[0ms\u001b[0m\u001b[0;34m,\u001b[0m \u001b[0;36m0.5\u001b[0m\u001b[0;34m,\u001b[0m \u001b[0;36m0.5\u001b[0m\u001b[0;34m,\u001b[0m \u001b[0mn_iter\u001b[0m\u001b[0;34m=\u001b[0m\u001b[0;36m10\u001b[0m\u001b[0;34m**\u001b[0m\u001b[0;36m4\u001b[0m\u001b[0;34m)\u001b[0m\u001b[0;34m\u001b[0m\u001b[0;34m\u001b[0m\u001b[0m\n",
      "\u001b[0;31mNameError\u001b[0m: name 'random_infected' is not defined"
     ]
    }
   ],
   "source": [
    "L = 3\n",
    "N = L**2\n",
    "s = random_infected(N, 4)\n",
    "plot(N, s)\n",
    "mod_states, states = simulate_epidemy(N, L, s, 0.5, 0.5, n_iter=10**4)"
   ]
  },
  {
   "cell_type": "code",
   "execution_count": null,
   "metadata": {
    "hidden": true
   },
   "outputs": [],
   "source": [
    "generate_gif(mod_states)"
   ]
  },
  {
   "cell_type": "markdown",
   "metadata": {
    "hidden": true
   },
   "source": [
    "<img src=\"mygif2.gif\" width=\"400\" align=\"center\">"
   ]
  },
  {
   "cell_type": "markdown",
   "metadata": {},
   "source": [
    "### Plot da proporção"
   ]
  },
  {
   "cell_type": "code",
   "execution_count": null,
   "metadata": {},
   "outputs": [],
   "source": [
    "L = 100\n",
    "N = L**2\n",
    "s = random_infected(N, 4)\n",
    "plot(N, s)"
   ]
  },
  {
   "cell_type": "code",
   "execution_count": null,
   "metadata": {},
   "outputs": [],
   "source": [
    "L = 10\n",
    "N = L**2\n",
    "s = random_infected(N, 4)\n",
    "plot(N, s)\n",
    "mod_states, states = simulate_epidemy(N, L, s, 0.5, 0.1, n_iter=10**4)\n",
    "plot(N, s)"
   ]
  },
  {
   "cell_type": "code",
   "execution_count": null,
   "metadata": {},
   "outputs": [],
   "source": [
    "y0, y1, y2, x = histogram(states)\n",
    "plt.stackplot(x,y0,y1,y2, colors=[\"b\",\"r\",\"g\"])\n",
    "plt.legend([\"Suscetíveis\",\"Infectados\",\"Recuperados\"])"
   ]
  },
  {
   "cell_type": "code",
   "execution_count": null,
   "metadata": {},
   "outputs": [],
   "source": [
    "plt.plot(x,y0/N, color='b')\n",
    "plt.plot(x,y1/N, color='r')\n",
    "plt.plot(x,y2/N, color='g')\n",
    "plt.legend([\"Suscetíveis\",\"Infectados\",\"Recuperados\"])"
   ]
  },
  {
   "cell_type": "markdown",
   "metadata": {},
   "source": [
    "Obs.:\n",
    "* Limitado: não simula vacinação, óbitos, reinfecção... Mas já dá uma boa ideia\n"
   ]
  },
  {
   "cell_type": "code",
   "execution_count": null,
   "metadata": {},
   "outputs": [],
   "source": [
    "L = 150\n",
    "N = L**2\n",
    "s = random_infected(N, 20)\n",
    "s"
   ]
  },
  {
   "cell_type": "code",
   "execution_count": null,
   "metadata": {},
   "outputs": [],
   "source": [
    "plot_map(s, L)"
   ]
  },
  {
   "cell_type": "code",
   "execution_count": null,
   "metadata": {
    "scrolled": true
   },
   "outputs": [],
   "source": [
    "y0, y1, y2, x = simulate_epidemy(N, L, s, 0.6, 0.2, n_iter=10**4, print_states=True)"
   ]
  },
  {
   "cell_type": "code",
   "execution_count": null,
   "metadata": {},
   "outputs": [],
   "source": [
    "y0, y1, y2 = simulate(L, s=None, pc=0.6, pr=0.2)"
   ]
  },
  {
   "cell_type": "code",
   "execution_count": null,
   "metadata": {},
   "outputs": [],
   "source": [
    "plt.plot(np.array(y0)/N, color='b')\n",
    "plt.plot(np.array(y1)/N, color='r')\n",
    "plt.plot(np.array(y2)/N, color='g')\n",
    "plt.legend([\"Suscetíveis\",\"Infectados\",\"Recuperados\"])"
   ]
  },
  {
   "cell_type": "code",
   "execution_count": null,
   "metadata": {},
   "outputs": [],
   "source": [
    "plot_map(s, L)"
   ]
  },
  {
   "cell_type": "code",
   "execution_count": null,
   "metadata": {},
   "outputs": [],
   "source": [
    "\n",
    "\n",
    "filenames = []\n",
    "for index, y in enumerate(coordinates_lists):\n",
    "    # plot charts\n",
    "    plt.bar(x, y)\n",
    "    plt.ylim(0,80)\n",
    "    \n",
    "    # create file name and append it to a list\n",
    "    filename = f'gif/{index}.png'\n",
    "    filenames.append(filename)\n",
    "    \n",
    "    # repeat last frame\n",
    "    if (index == len(coordinates_lists)-1):\n",
    "        for i in range(15):\n",
    "            filenames.append(filename)\n",
    "            \n",
    "    # save frame\n",
    "    plt.savefig(filename)\n",
    "    plt.close()\n",
    "\n",
    "# Remove files\n",
    "for filename in set(filenames):\n",
    "    os.remove(filename)"
   ]
  },
  {
   "cell_type": "code",
   "execution_count": null,
   "metadata": {},
   "outputs": [],
   "source": [
    "Path(\"gif\").rmdir()"
   ]
  },
  {
   "cell_type": "code",
   "execution_count": null,
   "metadata": {},
   "outputs": [],
   "source": [
    "s = random_infected(N, 1)\n",
    "s"
   ]
  },
  {
   "cell_type": "code",
   "execution_count": null,
   "metadata": {},
   "outputs": [],
   "source": [
    "N = L**2\n",
    "s = random_epidemy_state(N)\n",
    "s"
   ]
  },
  {
   "cell_type": "code",
   "execution_count": null,
   "metadata": {},
   "outputs": [],
   "source": [
    "simulate_epidemy(N, L, s, 0.5, 0.5)"
   ]
  },
  {
   "cell_type": "code",
   "execution_count": null,
   "metadata": {},
   "outputs": [],
   "source": [
    "viz = neighbours(N,np.sqrt(N))\n",
    "viz"
   ]
  },
  {
   "cell_type": "code",
   "execution_count": null,
   "metadata": {},
   "outputs": [],
   "source": []
  }
 ],
 "metadata": {
  "kernelspec": {
   "display_name": "Python 3",
   "language": "python",
   "name": "python3"
  },
  "language_info": {
   "codemirror_mode": {
    "name": "ipython",
    "version": 3
   },
   "file_extension": ".py",
   "mimetype": "text/x-python",
   "name": "python",
   "nbconvert_exporter": "python",
   "pygments_lexer": "ipython3",
   "version": "3.8.10"
  },
  "toc": {
   "base_numbering": 1,
   "nav_menu": {},
   "number_sections": true,
   "sideBar": true,
   "skip_h1_title": false,
   "title_cell": "Table of Contents",
   "title_sidebar": "Contents",
   "toc_cell": false,
   "toc_position": {
    "height": "calc(100% - 180px)",
    "left": "10px",
    "top": "150px",
    "width": "320px"
   },
   "toc_section_display": true,
   "toc_window_display": true
  }
 },
 "nbformat": 4,
 "nbformat_minor": 4
}
