{
 "cells": [
  {
   "cell_type": "markdown",
   "metadata": {},
   "source": [
    "# Simulação Modelo de Ising pelo Algoritmo de Metropolis\n",
    "Arthur Souto Lima - 2018055113\n",
    "\n",
    "### TODO:\n",
    "- Refatorar função do erro\n",
    "- Refatorar energia por spin e magnetização por spin"
   ]
  },
  {
   "cell_type": "markdown",
   "metadata": {},
   "source": [
    "## Imports e Funções Auxiliares"
   ]
  },
  {
   "cell_type": "markdown",
   "metadata": {},
   "source": [
    "Imports de funções das bibliotecas"
   ]
  },
  {
   "cell_type": "code",
   "execution_count": 1,
   "metadata": {},
   "outputs": [],
   "source": [
    "import numpy as np\n",
    "import matplotlib.pyplot as plt\n",
    "import pickle\n",
    "from numba import jit"
   ]
  },
  {
   "cell_type": "markdown",
   "metadata": {},
   "source": [
    "Importar funções auxiliares usadas em atividades anteriores para auxiliar nas computações."
   ]
  },
  {
   "cell_type": "code",
   "execution_count": 2,
   "metadata": {},
   "outputs": [],
   "source": [
    "from wang import (energy_ising, # calcula a energia da rede na configuração atual\n",
    "                  neighbours,   # computa a matriz de vizinhança da rede\n",
    "                  random_energy_state # cria uma configuração aleatória\n",
    "                 )"
   ]
  },
  {
   "cell_type": "code",
   "execution_count": 3,
   "metadata": {},
   "outputs": [],
   "source": [
    "from metropolis import metropolis   # simula modelo de Ising via Metropolis, \n",
    "                                    # com pequenas alterações com relação à atividade anterior"
   ]
  },
  {
   "cell_type": "markdown",
   "metadata": {},
   "source": [
    "A função do algoritmo de Metropolis usado anteriormente foi levemente modificado para que possamos obter também o estado final naquela temperatura e usá-lo como inicial da temperatura seguinte, como orientado no enunciado."
   ]
  },
  {
   "cell_type": "markdown",
   "metadata": {},
   "source": [
    "### Processamento das Caixas (Bins) "
   ]
  },
  {
   "cell_type": "markdown",
   "metadata": {},
   "source": [
    "Obtidos os valores de energia e de magnetização, temos que separá-los em caixas (bins) e computar os valores necessários. Como pedido, o \"primeiro bin\" é descartado para fins de termalização."
   ]
  },
  {
   "cell_type": "code",
   "execution_count": 4,
   "metadata": {},
   "outputs": [],
   "source": [
    "def metropolis_bins(Energs, Mags, \n",
    "                    bin_size=10**5, \n",
    "                    total_mcs=1.1*10**6):\n",
    "    \"\"\"\n",
    "    Obtém valores esperados simples e ao quadrado da energia e da magnetização\n",
    "    da simulação do Modelo de Ising via Metropolis dentro de cada bin\n",
    "    \n",
    "    Parâmetros:\n",
    "        Energs: array com as energias\n",
    "        Mags: array com o módulo das magnetizações\n",
    "        bin_size: tamanho da caixa, default 10**5\n",
    "        total_mcs: quantidade total de passos de Monte Carlo, default 1.1e6\n",
    "    \n",
    "    Retornos:\n",
    "        E : valor esperado de energia por bin\n",
    "        E2: valor esperado de energia ao quadrado por bin\n",
    "        M : valor esperado da magnetização por bin\n",
    "        M2: valor esperado da magnetização ao quadrado por bin\n",
    "    \"\"\"\n",
    "    # m: qtd de elementos por bin\n",
    "    m = int(total_mcs / bin_size)\n",
    "    \n",
    "    # Descartar os primeiros 10**5, para fins de termalização\n",
    "    Energs = Energs[bin_size:]\n",
    "    Mags = Mags[bin_size:]\n",
    "    assert(len(Energs) == (m-1)*bin_size)\n",
    "    assert(len(Mags) == (m-1)*bin_size)\n",
    "    m = m-1\n",
    "    \n",
    "    E = []  # Para guardar os E_j's\n",
    "    E2 = []  # Para guardar os E^2_j's\n",
    "    M = []  # Para guardar os M_j's\n",
    "    M2 = []  # Para guardar os M^2_j's\n",
    "    \n",
    "    factor = 1/m\n",
    "    for i in range(m):\n",
    "        intervalE = np.array(Energs[i*m:(i+1)*m])\n",
    "        intervalE2 = intervalE**2\n",
    "        intervalM = np.array(Mags[i*m:(i+1)*m])\n",
    "        intervalM2 = intervalM**2\n",
    "              \n",
    "        E.append(np.sum(factor * intervalE))\n",
    "        E2.append(np.sum(factor * intervalE2))\n",
    "        M.append(np.sum(factor * intervalM))\n",
    "        M2.append(np.sum(factor * intervalM2))\n",
    "        \n",
    "    return E, E2, M, M2"
   ]
  },
  {
   "cell_type": "markdown",
   "metadata": {},
   "source": [
    "### Propriedades Termodinâmicas"
   ]
  },
  {
   "cell_type": "markdown",
   "metadata": {},
   "source": [
    "A seguir, são apresentados os algoritmos para computar os valores esperados e os erros associados a cada uma das grandezas pedidas no enunciado. São elas: calor específico, energia por spin, magnetização por spin e suscetibilidade magnética. "
   ]
  },
  {
   "cell_type": "markdown",
   "metadata": {},
   "source": [
    "#### Erro Estatístico Associado"
   ]
  },
  {
   "cell_type": "markdown",
   "metadata": {},
   "source": [
    "O erro estatístico é sempre calculado da mesma forma, o que possibilita uma função genérica para tanto."
   ]
  },
  {
   "cell_type": "code",
   "execution_count": 5,
   "metadata": {},
   "outputs": [],
   "source": [
    "def error(ve, values):\n",
    "    \"\"\"\n",
    "    Calcula o erro estatístico associado a uma grandeza.\n",
    "    \n",
    "    Parâmetros:\n",
    "        ve: valor esperado da grandeza\n",
    "        values: array com os valores da grandeza obtidos\n",
    "    Retornos:\n",
    "        err: erro estatístico associado\n",
    "    \"\"\"\n",
    "    acc = 0\n",
    "    n_bins = len(values)\n",
    "    for i in range(n_bins):\n",
    "        acc += (ve - values[i])**2\n",
    "    err = np.sqrt(acc/(n_bins*(n_bins-1)))\n",
    "    return err"
   ]
  },
  {
   "cell_type": "markdown",
   "metadata": {},
   "source": [
    "#### Calor Específico"
   ]
  },
  {
   "cell_type": "code",
   "execution_count": 6,
   "metadata": {},
   "outputs": [],
   "source": [
    "def media_calor(E, E2, beta, N):\n",
    "    \"\"\"\n",
    "    Computa o valor esperado do calor específico \n",
    "    e seu erro estatístico associado\n",
    "    \n",
    "    Parâmetros:\n",
    "        E : valor esperado de energia por bin\n",
    "        E2: valor esperado de energia ao quadrado por bin\n",
    "        beta: inverso da temperatura (1/T)\n",
    "        N: quantidade de sítios da rede (N=LxL)\n",
    "    \n",
    "    Retornos:\n",
    "        ve_cv: valor esperado do calor específico\n",
    "        err: erro estatístico associado\n",
    "    \"\"\"\n",
    "    # Cálculo do valor esperado\n",
    "    n_bins = len(E)\n",
    "    cv = np.zeros(n_bins)\n",
    "    factor = beta**2/N\n",
    "    for i in range(n_bins):\n",
    "        term = E2[i] - E[i]**2\n",
    "        term = factor * term\n",
    "        cv[i] = term\n",
    "    ve_cv = np.sum(cv)/n_bins\n",
    "    \n",
    "    # Cálculo do erro\n",
    "    err = error(ve_cv, cv)\n",
    "    \n",
    "    return ve_cv, err"
   ]
  },
  {
   "cell_type": "markdown",
   "metadata": {},
   "source": [
    "#### Energia por Spin"
   ]
  },
  {
   "cell_type": "code",
   "execution_count": 7,
   "metadata": {},
   "outputs": [],
   "source": [
    "def media_energia_spin(E, E2, N):\n",
    "    \"\"\"\n",
    "    Computa o valor esperado da energia por spin \n",
    "    e seu erro estatístico associado\n",
    "    \n",
    "    Parâmetros:\n",
    "        E : valor esperado de energia por bin\n",
    "        E2: valor esperado de energia ao quadrado por bin\n",
    "        N: quantidade de sítios da rede (N=LxL)\n",
    "    \n",
    "    Retornos:\n",
    "        ve_eps: valor esperado da energia por spin \n",
    "        err: erro estatístico associado\n",
    "    \"\"\"\n",
    "    # Cálculo do valor esperado\n",
    "    n_bins = len(E)\n",
    "    EpS = np.zeros(n_bins)\n",
    "    factor = 1/N\n",
    "    for i in range(n_bins):\n",
    "        EpS[i] = factor * E[i]\n",
    "    ve_eps = np.sum(EpS)/n_bins\n",
    "    \n",
    "    # Cálculo do erro\n",
    "    err = error(ve_eps, EpS)\n",
    "    \n",
    "    return ve_eps, err"
   ]
  },
  {
   "cell_type": "markdown",
   "metadata": {},
   "source": [
    "#### Magnetização por Spin"
   ]
  },
  {
   "cell_type": "code",
   "execution_count": 8,
   "metadata": {},
   "outputs": [],
   "source": [
    "def media_magn_spin(M, M2, N):\n",
    "    \"\"\"\n",
    "    Computa o valor esperado do módulo da magnetização por spin \n",
    "    e seu erro estatístico associado\n",
    "    \n",
    "    Parâmetros:\n",
    "        M : valor esperado de magnetização por bin\n",
    "        M2: valor esperado de magnetização ao quadrado por bin\n",
    "        N: quantidade de sítios da rede (N=LxL)\n",
    "    \n",
    "    Retornos:\n",
    "        ve_mags: valor esperado da mangnetização por spin\n",
    "        err: erro estatístico associado\n",
    "    \"\"\"\n",
    "    # Cálculo do valor esperado\n",
    "    n_bins = len(E)\n",
    "    MagS = np.zeros(n_bins)\n",
    "    factor = 1/N\n",
    "    for i in range(n_bins):\n",
    "        MagS[i] = factor * M[i]\n",
    "    ve_mags = np.sum(MagS)/n_bins\n",
    "    \n",
    "    # Cálculo do erro\n",
    "    err = error(ve_mags, MagS)\n",
    "    \n",
    "    return ve_mags, err"
   ]
  },
  {
   "cell_type": "markdown",
   "metadata": {},
   "source": [
    "#### Susceptibilidade Magnética"
   ]
  },
  {
   "cell_type": "code",
   "execution_count": 9,
   "metadata": {},
   "outputs": [],
   "source": [
    "def media_susceptibilidade(M, M2, beta, N):\n",
    "    \"\"\"\n",
    "    Computa o valor esperado da susceptibilidade magnética\n",
    "    e seu erro estatístico associado\n",
    "    \n",
    "    Parâmetros:\n",
    "        M : valor esperado de magnetização por bin\n",
    "        M2: valor esperado de magnetização ao quadrado por bin\n",
    "        N: quantidade de sítios da rede (N=LxL)\n",
    "    \n",
    "    Retornos:\n",
    "        ve_ssm: valor esperado da susceptibilidade magnética\n",
    "        err: erro estatístico associado\n",
    "    \"\"\"\n",
    "    # Cálculo do valor esperado\n",
    "    n_bins = len(E)\n",
    "    ssm = np.zeros(n_bins)\n",
    "    factor = beta/N\n",
    "    for i in range(n_bins):\n",
    "        term = M2[i] - M[i]**2\n",
    "        term = factor * term\n",
    "        ssm[i] = term\n",
    "    ve_ssm = np.sum(ssm)/n_bins\n",
    "    \n",
    "    # Cálculo do erro\n",
    "    err = error(ve_ssm, ssm)\n",
    "    \n",
    "    return ve_ssm, err"
   ]
  },
  {
   "cell_type": "markdown",
   "metadata": {},
   "source": [
    "## Estrutura de Dados para os Resultados"
   ]
  },
  {
   "cell_type": "markdown",
   "metadata": {},
   "source": [
    "A fim de facilitar a leitura, entendimento e desenvolvimento, escolheu-se agrupar todas as informações de uma determinada rede numa única estrutura de dados. Assim, todos os dados referentes à ela ficam juntas."
   ]
  },
  {
   "cell_type": "code",
   "execution_count": 33,
   "metadata": {},
   "outputs": [],
   "source": [
    "class redeIsing2D:\n",
    "    \"\"\"\n",
    "    Classe para agrupar todas as informações de uma determinada rede no modelo de Ising.\n",
    "    Isso inclui seu tamanho e suas propriedades termodinâmicas\n",
    "    \"\"\"\n",
    "    \n",
    "    def __init__(self, L):\n",
    "        \"\"\"Inicializa rede e aloca vetores para dados termodinâmicos\"\"\"\n",
    "        # Dimensões da rede\n",
    "        self.L = L\n",
    "        self.N = L**2\n",
    "        \n",
    "        # Estado anterior do sistema, para iterações seguintes\n",
    "        self.s_anterior = None    \n",
    "        \n",
    "        # Propriedades termodinâmicas e seus erros associados\n",
    "        self.temps = []\n",
    "        self.cal, self.cal_err = [], []\n",
    "        self.ener, self.ener_err = [], []\n",
    "        self.mag, self.mag_err = [], []\n",
    "        self.sus, self.sus_err = [], []\n",
    "    \n",
    "    def reverse_data(self):\n",
    "        \"\"\"Inverte os arrays de propriedades termodinâmicas\"\"\"\n",
    "        self.temps.reverse()\n",
    "        self.cal.reverse()\n",
    "        self.cal_err.reverse()\n",
    "        self.ener.reverse()\n",
    "        self.ener_err.reverse()     \n",
    "        self.mag.reverse()\n",
    "        self.mag_err.reverse()\n",
    "        self.sus.reverse()\n",
    "        self.sus_err.reverse()"
   ]
  },
  {
   "cell_type": "code",
   "execution_count": 12,
   "metadata": {},
   "outputs": [],
   "source": [
    "redes = [redeIsing2D(18), \n",
    "         redeIsing2D(24), \n",
    "         redeIsing2D(36)]"
   ]
  },
  {
   "cell_type": "markdown",
   "metadata": {},
   "source": [
    "## Simulações"
   ]
  },
  {
   "cell_type": "markdown",
   "metadata": {},
   "source": [
    "Utilizando os algoritmos apresentados anteriormente, pode-se fazer a simulação de redes 18x18, 24x24 e 36x36. Seguiremos as orientações dadas e iniciaremos a simulação da temperatura mais alta, ou seja, 5 partindo de uma configuração aleatória. A cada etapa, diminuiremos a temperatura em 0.25 e partiremos da última configuração anterior."
   ]
  },
  {
   "cell_type": "code",
   "execution_count": 13,
   "metadata": {},
   "outputs": [],
   "source": [
    "step = 0.25\n",
    "t_min = 1\n",
    "t_max = 5"
   ]
  },
  {
   "cell_type": "code",
   "execution_count": 18,
   "metadata": {},
   "outputs": [],
   "source": [
    "def prop_termo(r, E, E2, M, M2, temp, beta):\n",
    "    \"\"\"\n",
    "    Calcula todas as propriedades termodinâmicas para a rede passada \n",
    "    na temperatura (e beta) informados.\n",
    "    Os resultados são salvos na estrutura de dados da rede\n",
    "    \n",
    "    Parâmetros:\n",
    "        r: a estrutura de dados que é a rede\n",
    "        E : valor esperado de energia por bin\n",
    "        E2: valor esperado de energia ao quadrado por bin\n",
    "        M : valor esperado da magnetização por bin\n",
    "        M2: valor esperado da magnetização ao quadrado por bin\n",
    "        temp: temperatura do sistema\n",
    "        beta: inverso da temperatura do sistema\n",
    "    \n",
    "    Retornos:\n",
    "        Nenhum. O resultado é salvo na rede.\n",
    "    \"\"\"\n",
    "    # Temperatura atual\n",
    "    r.temps.append(temp)\n",
    "    \n",
    "    # Calor Específico\n",
    "    cal, err = media_calor(E, E2, beta, r.N)\n",
    "    r.cal.append(cal)\n",
    "    r.cal_err.append(err)\n",
    "    \n",
    "    # Energia por Spin \n",
    "    energ, err = media_energia_spin(E, E2, r.N)\n",
    "    r.ener.append(energ)\n",
    "    r.ener_err.append(err)\n",
    "    \n",
    "    # Magnetização por Spin \n",
    "    mag, err = media_magn_spin(M, M2, r.N)\n",
    "    r.mag.append(mag)\n",
    "    r.mag_err.append(err)\n",
    "    \n",
    "    # Susceptibilidade Magnética \n",
    "    sus, err = media_susceptibilidade(M, M2, beta, r.N)\n",
    "    r.sus.append(sus)\n",
    "    r.sus_err.append(err)"
   ]
  },
  {
   "cell_type": "code",
   "execution_count": 24,
   "metadata": {
    "code_folding": []
   },
   "outputs": [],
   "source": [
    "# Criação das redes\n",
    "redes = [redeIsing2D(18), \n",
    "         redeIsing2D(24), \n",
    "         redeIsing2D(36)]"
   ]
  },
  {
   "cell_type": "code",
   "execution_count": 25,
   "metadata": {},
   "outputs": [
    {
     "name": "stdout",
     "output_type": "stream",
     "text": [
      "5.0\n",
      "Rede 18x18: Metropolis,  Propriedades\n",
      "Rede 24x24: Metropolis,  Propriedades\n",
      "Rede 36x36: Metropolis,  Propriedades\n",
      "4.75\n",
      "Rede 18x18: Metropolis,  Propriedades\n",
      "Rede 24x24: Metropolis,  Propriedades\n",
      "Rede 36x36: Metropolis,  Propriedades\n",
      "4.5\n",
      "Rede 18x18: Metropolis,  Propriedades\n",
      "Rede 24x24: Metropolis,  Propriedades\n",
      "Rede 36x36: Metropolis,  Propriedades\n",
      "4.25\n",
      "Rede 18x18: Metropolis,  Propriedades\n",
      "Rede 24x24: Metropolis,  Propriedades\n",
      "Rede 36x36: Metropolis,  Propriedades\n",
      "4.0\n",
      "Rede 18x18: Metropolis,  Propriedades\n",
      "Rede 24x24: Metropolis,  Propriedades\n",
      "Rede 36x36: Metropolis,  Propriedades\n",
      "3.75\n",
      "Rede 18x18: Metropolis,  Propriedades\n",
      "Rede 24x24: Metropolis,  Propriedades\n",
      "Rede 36x36: Metropolis,  Propriedades\n",
      "3.5\n",
      "Rede 18x18: Metropolis,  Propriedades\n",
      "Rede 24x24: Metropolis,  Propriedades\n",
      "Rede 36x36: Metropolis,  Propriedades\n",
      "3.25\n",
      "Rede 18x18: Metropolis,  Propriedades\n",
      "Rede 24x24: Metropolis,  Propriedades\n",
      "Rede 36x36: Metropolis,  Propriedades\n",
      "3.0\n",
      "Rede 18x18: Metropolis,  Propriedades\n",
      "Rede 24x24: Metropolis,  Propriedades\n",
      "Rede 36x36: Metropolis,  Propriedades\n",
      "2.75\n",
      "Rede 18x18: Metropolis,  Propriedades\n",
      "Rede 24x24: Metropolis,  Propriedades\n",
      "Rede 36x36: Metropolis,  Propriedades\n",
      "2.5\n",
      "Rede 18x18: Metropolis,  Propriedades\n",
      "Rede 24x24: Metropolis,  Propriedades\n",
      "Rede 36x36: Metropolis,  Propriedades\n",
      "2.25\n",
      "Rede 18x18: Metropolis,  Propriedades\n",
      "Rede 24x24: Metropolis,  Propriedades\n",
      "Rede 36x36: Metropolis,  Propriedades\n",
      "2.0\n",
      "Rede 18x18: Metropolis,  Propriedades\n",
      "Rede 24x24: Metropolis,  Propriedades\n",
      "Rede 36x36: Metropolis,  Propriedades\n",
      "1.75\n",
      "Rede 18x18: Metropolis,  Propriedades\n",
      "Rede 24x24: Metropolis,  Propriedades\n",
      "Rede 36x36: Metropolis,  Propriedades\n",
      "1.5\n",
      "Rede 18x18: Metropolis,  Propriedades\n",
      "Rede 24x24: Metropolis,  Propriedades\n",
      "Rede 36x36: Metropolis,  Propriedades\n",
      "1.25\n",
      "Rede 18x18: Metropolis,  Propriedades\n",
      "Rede 24x24: Metropolis,  Propriedades\n",
      "Rede 36x36: Metropolis,  Propriedades\n",
      "1.0\n",
      "Rede 18x18: Metropolis,  Propriedades\n",
      "Rede 24x24: Metropolis,  Propriedades\n",
      "Rede 36x36: Metropolis,  Propriedades\n"
     ]
    }
   ],
   "source": [
    "prints = True\n",
    "# Ir de 5 até 1, com passos de 0.25\n",
    "for temp in np.arange(t_max,t_min-step,-step):\n",
    "    beta = 1/temp\n",
    "    if (prints): print(temp)\n",
    "    \n",
    "    for r in redes:\n",
    "        if (prints): print(f\"Rede {r.L}x{r.L}:\", end =\" \", flush=True)\n",
    "        \n",
    "        # Simulação da rede via Metropolis nessa temperatura\n",
    "        result = metropolis(L=r.L, s=r.s_anterior, \n",
    "                            temp=temp, steps=1.1*10**6)\n",
    "        Es, Mags, r.s_anterior = result\n",
    "        if (prints): print(\"Metropolis, \", end =\" \", flush=True)\n",
    "        \n",
    "        # Processando as caixas\n",
    "        E, E2, M, M2 = metropolis_bins(Es, Mags)\n",
    "        \n",
    "        # Cálculo das propriedades termodinâmicas\n",
    "        prop_termo(r, E, E2, M, M2, temp, beta)\n",
    "        if (prints): print(\"Propriedades\", flush=True)\n",
    "        "
   ]
  },
  {
   "cell_type": "code",
   "execution_count": 30,
   "metadata": {},
   "outputs": [
    {
     "data": {
      "text/plain": [
       "[0.024691358025266247,\n",
       " 0.06153481481500247,\n",
       " 0.1251467764060606,\n",
       " 0.28154195011337046,\n",
       " 0.3953950617284046,\n",
       " 0.46282700807802024,\n",
       " 0.43251358024690767,\n",
       " 0.3935533108866392,\n",
       " 0.40019753086419596,\n",
       " 0.3036364964570094,\n",
       " 0.2192592592592582,\n",
       " 0.16761854595336084,\n",
       " 0.18472222222222168,\n",
       " 0.10928583023623381,\n",
       " 0.08743301326017364,\n",
       " 0.1415284019014393,\n",
       " 0.09161086419753083]"
      ]
     },
     "execution_count": 30,
     "metadata": {},
     "output_type": "execute_result"
    }
   ],
   "source": [
    "redes[0].cal"
   ]
  },
  {
   "cell_type": "code",
   "execution_count": 31,
   "metadata": {},
   "outputs": [],
   "source": [
    "redes[0].cal.reverse()"
   ]
  },
  {
   "cell_type": "code",
   "execution_count": 34,
   "metadata": {},
   "outputs": [
    {
     "ename": "AttributeError",
     "evalue": "'redeIsing2D' object has no attribute 'reverse_data'",
     "output_type": "error",
     "traceback": [
      "\u001b[0;31m---------------------------------------------------------------------------\u001b[0m",
      "\u001b[0;31mAttributeError\u001b[0m                            Traceback (most recent call last)",
      "\u001b[0;32m<ipython-input-34-b8dc19fb8795>\u001b[0m in \u001b[0;36m<module>\u001b[0;34m\u001b[0m\n\u001b[0;32m----> 1\u001b[0;31m \u001b[0mredes\u001b[0m\u001b[0;34m[\u001b[0m\u001b[0;36m0\u001b[0m\u001b[0;34m]\u001b[0m\u001b[0;34m.\u001b[0m\u001b[0mreverse_data\u001b[0m\u001b[0;34m(\u001b[0m\u001b[0;34m)\u001b[0m\u001b[0;34m\u001b[0m\u001b[0;34m\u001b[0m\u001b[0m\n\u001b[0m",
      "\u001b[0;31mAttributeError\u001b[0m: 'redeIsing2D' object has no attribute 'reverse_data'"
     ]
    }
   ],
   "source": [
    "redes[0].reverse_data()"
   ]
  },
  {
   "cell_type": "code",
   "execution_count": null,
   "metadata": {},
   "outputs": [],
   "source": []
  },
  {
   "cell_type": "code",
   "execution_count": 29,
   "metadata": {},
   "outputs": [
    {
     "ename": "ValueError",
     "evalue": "x, y, and format string must not be None",
     "output_type": "error",
     "traceback": [
      "\u001b[0;31m---------------------------------------------------------------------------\u001b[0m",
      "\u001b[0;31mValueError\u001b[0m                                Traceback (most recent call last)",
      "\u001b[0;32m<ipython-input-29-c47c5bc0c043>\u001b[0m in \u001b[0;36m<module>\u001b[0;34m\u001b[0m\n\u001b[0;32m----> 1\u001b[0;31m \u001b[0mplt\u001b[0m\u001b[0;34m.\u001b[0m\u001b[0mplot\u001b[0m\u001b[0;34m(\u001b[0m\u001b[0mredes\u001b[0m\u001b[0;34m[\u001b[0m\u001b[0;36m0\u001b[0m\u001b[0;34m]\u001b[0m\u001b[0;34m.\u001b[0m\u001b[0mcal\u001b[0m\u001b[0;34m.\u001b[0m\u001b[0mreverse\u001b[0m\u001b[0;34m(\u001b[0m\u001b[0;34m)\u001b[0m\u001b[0;34m)\u001b[0m\u001b[0;34m\u001b[0m\u001b[0;34m\u001b[0m\u001b[0m\n\u001b[0m",
      "\u001b[0;32m~/.local/lib/python3.8/site-packages/matplotlib/pyplot.py\u001b[0m in \u001b[0;36mplot\u001b[0;34m(scalex, scaley, data, *args, **kwargs)\u001b[0m\n\u001b[1;32m   2838\u001b[0m \u001b[0;34m@\u001b[0m\u001b[0m_copy_docstring_and_deprecators\u001b[0m\u001b[0;34m(\u001b[0m\u001b[0mAxes\u001b[0m\u001b[0;34m.\u001b[0m\u001b[0mplot\u001b[0m\u001b[0;34m)\u001b[0m\u001b[0;34m\u001b[0m\u001b[0;34m\u001b[0m\u001b[0m\n\u001b[1;32m   2839\u001b[0m \u001b[0;32mdef\u001b[0m \u001b[0mplot\u001b[0m\u001b[0;34m(\u001b[0m\u001b[0;34m*\u001b[0m\u001b[0margs\u001b[0m\u001b[0;34m,\u001b[0m \u001b[0mscalex\u001b[0m\u001b[0;34m=\u001b[0m\u001b[0;32mTrue\u001b[0m\u001b[0;34m,\u001b[0m \u001b[0mscaley\u001b[0m\u001b[0;34m=\u001b[0m\u001b[0;32mTrue\u001b[0m\u001b[0;34m,\u001b[0m \u001b[0mdata\u001b[0m\u001b[0;34m=\u001b[0m\u001b[0;32mNone\u001b[0m\u001b[0;34m,\u001b[0m \u001b[0;34m**\u001b[0m\u001b[0mkwargs\u001b[0m\u001b[0;34m)\u001b[0m\u001b[0;34m:\u001b[0m\u001b[0;34m\u001b[0m\u001b[0;34m\u001b[0m\u001b[0m\n\u001b[0;32m-> 2840\u001b[0;31m     return gca().plot(\n\u001b[0m\u001b[1;32m   2841\u001b[0m         \u001b[0;34m*\u001b[0m\u001b[0margs\u001b[0m\u001b[0;34m,\u001b[0m \u001b[0mscalex\u001b[0m\u001b[0;34m=\u001b[0m\u001b[0mscalex\u001b[0m\u001b[0;34m,\u001b[0m \u001b[0mscaley\u001b[0m\u001b[0;34m=\u001b[0m\u001b[0mscaley\u001b[0m\u001b[0;34m,\u001b[0m\u001b[0;34m\u001b[0m\u001b[0;34m\u001b[0m\u001b[0m\n\u001b[1;32m   2842\u001b[0m         **({\"data\": data} if data is not None else {}), **kwargs)\n",
      "\u001b[0;32m~/.local/lib/python3.8/site-packages/matplotlib/axes/_axes.py\u001b[0m in \u001b[0;36mplot\u001b[0;34m(self, scalex, scaley, data, *args, **kwargs)\u001b[0m\n\u001b[1;32m   1741\u001b[0m         \"\"\"\n\u001b[1;32m   1742\u001b[0m         \u001b[0mkwargs\u001b[0m \u001b[0;34m=\u001b[0m \u001b[0mcbook\u001b[0m\u001b[0;34m.\u001b[0m\u001b[0mnormalize_kwargs\u001b[0m\u001b[0;34m(\u001b[0m\u001b[0mkwargs\u001b[0m\u001b[0;34m,\u001b[0m \u001b[0mmlines\u001b[0m\u001b[0;34m.\u001b[0m\u001b[0mLine2D\u001b[0m\u001b[0;34m)\u001b[0m\u001b[0;34m\u001b[0m\u001b[0;34m\u001b[0m\u001b[0m\n\u001b[0;32m-> 1743\u001b[0;31m         \u001b[0mlines\u001b[0m \u001b[0;34m=\u001b[0m \u001b[0;34m[\u001b[0m\u001b[0;34m*\u001b[0m\u001b[0mself\u001b[0m\u001b[0;34m.\u001b[0m\u001b[0m_get_lines\u001b[0m\u001b[0;34m(\u001b[0m\u001b[0;34m*\u001b[0m\u001b[0margs\u001b[0m\u001b[0;34m,\u001b[0m \u001b[0mdata\u001b[0m\u001b[0;34m=\u001b[0m\u001b[0mdata\u001b[0m\u001b[0;34m,\u001b[0m \u001b[0;34m**\u001b[0m\u001b[0mkwargs\u001b[0m\u001b[0;34m)\u001b[0m\u001b[0;34m]\u001b[0m\u001b[0;34m\u001b[0m\u001b[0;34m\u001b[0m\u001b[0m\n\u001b[0m\u001b[1;32m   1744\u001b[0m         \u001b[0;32mfor\u001b[0m \u001b[0mline\u001b[0m \u001b[0;32min\u001b[0m \u001b[0mlines\u001b[0m\u001b[0;34m:\u001b[0m\u001b[0;34m\u001b[0m\u001b[0;34m\u001b[0m\u001b[0m\n\u001b[1;32m   1745\u001b[0m             \u001b[0mself\u001b[0m\u001b[0;34m.\u001b[0m\u001b[0madd_line\u001b[0m\u001b[0;34m(\u001b[0m\u001b[0mline\u001b[0m\u001b[0;34m)\u001b[0m\u001b[0;34m\u001b[0m\u001b[0;34m\u001b[0m\u001b[0m\n",
      "\u001b[0;32m~/.local/lib/python3.8/site-packages/matplotlib/axes/_base.py\u001b[0m in \u001b[0;36m__call__\u001b[0;34m(self, data, *args, **kwargs)\u001b[0m\n\u001b[1;32m    271\u001b[0m                 \u001b[0mthis\u001b[0m \u001b[0;34m+=\u001b[0m \u001b[0margs\u001b[0m\u001b[0;34m[\u001b[0m\u001b[0;36m0\u001b[0m\u001b[0;34m]\u001b[0m\u001b[0;34m,\u001b[0m\u001b[0;34m\u001b[0m\u001b[0;34m\u001b[0m\u001b[0m\n\u001b[1;32m    272\u001b[0m                 \u001b[0margs\u001b[0m \u001b[0;34m=\u001b[0m \u001b[0margs\u001b[0m\u001b[0;34m[\u001b[0m\u001b[0;36m1\u001b[0m\u001b[0;34m:\u001b[0m\u001b[0;34m]\u001b[0m\u001b[0;34m\u001b[0m\u001b[0;34m\u001b[0m\u001b[0m\n\u001b[0;32m--> 273\u001b[0;31m             \u001b[0;32myield\u001b[0m \u001b[0;32mfrom\u001b[0m \u001b[0mself\u001b[0m\u001b[0;34m.\u001b[0m\u001b[0m_plot_args\u001b[0m\u001b[0;34m(\u001b[0m\u001b[0mthis\u001b[0m\u001b[0;34m,\u001b[0m \u001b[0mkwargs\u001b[0m\u001b[0;34m)\u001b[0m\u001b[0;34m\u001b[0m\u001b[0;34m\u001b[0m\u001b[0m\n\u001b[0m\u001b[1;32m    274\u001b[0m \u001b[0;34m\u001b[0m\u001b[0m\n\u001b[1;32m    275\u001b[0m     \u001b[0;32mdef\u001b[0m \u001b[0mget_next_color\u001b[0m\u001b[0;34m(\u001b[0m\u001b[0mself\u001b[0m\u001b[0;34m)\u001b[0m\u001b[0;34m:\u001b[0m\u001b[0;34m\u001b[0m\u001b[0;34m\u001b[0m\u001b[0m\n",
      "\u001b[0;32m~/.local/lib/python3.8/site-packages/matplotlib/axes/_base.py\u001b[0m in \u001b[0;36m_plot_args\u001b[0;34m(self, tup, kwargs)\u001b[0m\n\u001b[1;32m    377\u001b[0m         \u001b[0;31m# element array of None which causes problems downstream.\u001b[0m\u001b[0;34m\u001b[0m\u001b[0;34m\u001b[0m\u001b[0;34m\u001b[0m\u001b[0m\n\u001b[1;32m    378\u001b[0m         \u001b[0;32mif\u001b[0m \u001b[0many\u001b[0m\u001b[0;34m(\u001b[0m\u001b[0mv\u001b[0m \u001b[0;32mis\u001b[0m \u001b[0;32mNone\u001b[0m \u001b[0;32mfor\u001b[0m \u001b[0mv\u001b[0m \u001b[0;32min\u001b[0m \u001b[0mtup\u001b[0m\u001b[0;34m)\u001b[0m\u001b[0;34m:\u001b[0m\u001b[0;34m\u001b[0m\u001b[0;34m\u001b[0m\u001b[0m\n\u001b[0;32m--> 379\u001b[0;31m             \u001b[0;32mraise\u001b[0m \u001b[0mValueError\u001b[0m\u001b[0;34m(\u001b[0m\u001b[0;34m\"x, y, and format string must not be None\"\u001b[0m\u001b[0;34m)\u001b[0m\u001b[0;34m\u001b[0m\u001b[0;34m\u001b[0m\u001b[0m\n\u001b[0m\u001b[1;32m    380\u001b[0m \u001b[0;34m\u001b[0m\u001b[0m\n\u001b[1;32m    381\u001b[0m         \u001b[0mkw\u001b[0m \u001b[0;34m=\u001b[0m \u001b[0;34m{\u001b[0m\u001b[0;34m}\u001b[0m\u001b[0;34m\u001b[0m\u001b[0;34m\u001b[0m\u001b[0m\n",
      "\u001b[0;31mValueError\u001b[0m: x, y, and format string must not be None"
     ]
    },
    {
     "data": {
      "image/png": "[encoded data removed]",
      "text/plain": [
       "<Figure size 432x288 with 1 Axes>"
      ]
     },
     "metadata": {
      "needs_background": "light"
     },
     "output_type": "display_data"
    }
   ],
   "source": [
    "plt.plot(redes[0].cal.reverse())"
   ]
  },
  {
   "cell_type": "code",
   "execution_count": null,
   "metadata": {},
   "outputs": [],
   "source": []
  },
  {
   "cell_type": "code",
   "execution_count": null,
   "metadata": {},
   "outputs": [],
   "source": [
    "# Alocação de vetores para os dados\n",
    "# cal: calor específico\n",
    "# ener: energia por spin\n",
    "# mag: magnetização por spin\n",
    "# sus: susceptibilidade magnética\n",
    "\n",
    "x_18, cal_18, ener_18, y3_18, y4_18, m_18 = [], [], [], [], [], []\n",
    "x_24, cal_24, ener_24, y3_24, y4_24, m_24 = [], [], [], [], [], []\n",
    "x_36, cal_36, ener_36 , y3_36 , y4_36 , m_36  = [], [], [], [], [], []"
   ]
  },
  {
   "cell_type": "code",
   "execution_count": 5,
   "metadata": {},
   "outputs": [],
   "source": [
    "Es, mags, s = metropolis(L=18, temp=5, steps=1.1*10**6)"
   ]
  },
  {
   "cell_type": "code",
   "execution_count": 57,
   "metadata": {},
   "outputs": [],
   "source": [
    "E, E2, M, M2 = metropolis_bins(Es, mags)"
   ]
  },
  {
   "cell_type": "code",
   "execution_count": 89,
   "metadata": {},
   "outputs": [
    {
     "data": {
      "text/plain": [
       "(0.06477827160493806, 0.006827297892881646)"
      ]
     },
     "execution_count": 89,
     "metadata": {},
     "output_type": "execute_result"
    }
   ],
   "source": [
    "media_calor(E, E2, 1/5, 18**2)"
   ]
  },
  {
   "cell_type": "code",
   "execution_count": 87,
   "metadata": {},
   "outputs": [
    {
     "data": {
      "text/plain": [
       "(-0.43506172839506174, 0.012268897035856636)"
      ]
     },
     "execution_count": 87,
     "metadata": {},
     "output_type": "execute_result"
    }
   ],
   "source": [
    "media_energia_spin(E, E2, 18**2)"
   ]
  },
  {
   "cell_type": "code",
   "execution_count": 85,
   "metadata": {},
   "outputs": [
    {
     "data": {
      "text/plain": [
       "(0.07123456790123459, 0.006620400347184333)"
      ]
     },
     "execution_count": 85,
     "metadata": {},
     "output_type": "execute_result"
    }
   ],
   "source": [
    "media_magn_spin(M, M2, 18**2)"
   ]
  },
  {
   "cell_type": "code",
   "execution_count": 83,
   "metadata": {},
   "outputs": [
    {
     "data": {
      "text/plain": [
       "(0.15233580246913583, 0.024049749224722076)"
      ]
     },
     "execution_count": 83,
     "metadata": {},
     "output_type": "execute_result"
    }
   ],
   "source": [
    "media_suscetibilidade(M, M2, 1/5, 18**2)"
   ]
  },
  {
   "cell_type": "code",
   "execution_count": null,
   "metadata": {},
   "outputs": [],
   "source": []
  }
 ],
 "metadata": {
  "kernelspec": {
   "display_name": "Python 3",
   "language": "python",
   "name": "python3"
  },
  "language_info": {
   "codemirror_mode": {
    "name": "ipython",
    "version": 3
   },
   "file_extension": ".py",
   "mimetype": "text/x-python",
   "name": "python",
   "nbconvert_exporter": "python",
   "pygments_lexer": "ipython3",
   "version": "3.8.5"
  },
  "toc": {
   "base_numbering": 1,
   "nav_menu": {},
   "number_sections": false,
   "sideBar": true,
   "skip_h1_title": true,
   "title_cell": "Table of Contents",
   "title_sidebar": "Contents",
   "toc_cell": false,
   "toc_position": {
    "height": "calc(100% - 180px)",
    "left": "10px",
    "top": "150px",
    "width": "320px"
   },
   "toc_section_display": true,
   "toc_window_display": false
  }
 },
 "nbformat": 4,
 "nbformat_minor": 4
}
