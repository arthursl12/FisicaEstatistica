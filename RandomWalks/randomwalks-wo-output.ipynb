{
 "cells": [
  {
   "cell_type": "markdown",
   "metadata": {},
   "source": [
    "## Aluno: Arthur Souto Lima\n",
    "\n",
    "## Mat.: 2018055113"
   ]
  },
  {
   "cell_type": "code",
   "execution_count": null,
   "metadata": {},
   "outputs": [],
   "source": [
    "import matplotlib.pyplot as plt\n",
    "from scipy import random\n",
    "import numpy as np"
   ]
  },
  {
   "cell_type": "markdown",
   "metadata": {},
   "source": [
    "# (a) Gerando caminhadas aleatórias"
   ]
  },
  {
   "cell_type": "markdown",
   "metadata": {},
   "source": [
    "Escreva uma rotina para gerar caminhadas aleatórias de N passos em d  (=1 ou 2) dimensões, com cada passo uniformemente distribuído no intervalo (-1/2, 1/2) em cada dimensão. (Primeiro, gere os passos como um array N x d e, então, faça uma soma cumulativa.) "
   ]
  },
  {
   "cell_type": "code",
   "execution_count": null,
   "metadata": {},
   "outputs": [],
   "source": [
    "def randomWalk(N, d):\n",
    "    \"\"\"\n",
    "    Gera uma caminhada aleatória de dimensão d e N passos\n",
    "    \"\"\"\n",
    "    steps = random.uniform(-0.5,0.5,(N,d))\n",
    "    walks = np.cumsum(steps, axis=0)\n",
    "    return walks\n"
   ]
  },
  {
   "cell_type": "markdown",
   "metadata": {},
   "source": [
    "Faça um gráfico de $x_t$ por $t$ para poucas caminhadas de 10.000 passos. "
   ]
  },
  {
   "cell_type": "code",
   "execution_count": null,
   "metadata": {},
   "outputs": [],
   "source": [
    "for i in range(10):\n",
    "    plt.ylabel(\"Distância\")\n",
    "    plt.xlabel(\"Passos\")\n",
    "    plt.title(\"Caminhadas Aleatórias 1D - 10000 passos\")\n",
    "    plt.plot(randomWalk(10000,1))\n",
    "plt.show()"
   ]
  },
  {
   "cell_type": "code",
   "execution_count": null,
   "metadata": {},
   "outputs": [],
   "source": [
    "for i in range(10):\n",
    "    plt.ylabel(\"Distância\")\n",
    "    plt.xlabel(\"Passos\")\n",
    "    plt.title(\"Caminhadas Aleatórias 1D - 10000 passos\")\n",
    "    plt.plot(randomWalk(10000,1))\n",
    "plt.show()"
   ]
  },
  {
   "cell_type": "code",
   "execution_count": null,
   "metadata": {},
   "outputs": [],
   "source": [
    "for i in range(10):\n",
    "    plt.ylabel(\"Distância\")\n",
    "    plt.xlabel(\"Passos\")\n",
    "    plt.title(\"Caminhadas Aleatórias 1D - 10000 passos\")\n",
    "    plt.plot(randomWalk(10000,1))\n",
    "plt.show()"
   ]
  },
  {
   "cell_type": "markdown",
   "metadata": {},
   "source": [
    "<ins>Comentário</ins>: apesar de que cada caminhada aleatória é única e distinta, quando fazemos várias, é possível ver certos padrões."
   ]
  },
  {
   "cell_type": "markdown",
   "metadata": {},
   "source": [
    "Se você multiplicar o número de passo por 100, a distância final da caminhada aumenta por cerca de 10 vezes?"
   ]
  },
  {
   "cell_type": "code",
   "execution_count": null,
   "metadata": {},
   "outputs": [],
   "source": [
    "for i in range(10):\n",
    "    plt.ylabel(\"Distância\")\n",
    "    plt.xlabel(\"Passos\")\n",
    "    plt.title(\"Caminhadas Aleatórias 1D - 10^6 passos\")\n",
    "    plt.plot(randomWalk(10000*100,1))\n",
    "plt.show()"
   ]
  },
  {
   "cell_type": "code",
   "execution_count": null,
   "metadata": {},
   "outputs": [],
   "source": [
    "for i in range(10):\n",
    "    plt.ylabel(\"Distância\")\n",
    "    plt.xlabel(\"Passos\")\n",
    "    plt.title(\"Caminhadas Aleatórias 1D - 10^6 passos\")\n",
    "    plt.plot(randomWalk(10000*100,1))\n",
    "plt.show()"
   ]
  },
  {
   "cell_type": "code",
   "execution_count": null,
   "metadata": {},
   "outputs": [],
   "source": [
    "for i in range(10):\n",
    "    plt.ylabel(\"Distância\")\n",
    "    plt.xlabel(\"Passos\")\n",
    "    plt.title(\"Caminhadas Aleatórias 1D - 10^6 passos\")\n",
    "    plt.plot(randomWalk(10000*100,1))\n",
    "plt.show()"
   ]
  },
  {
   "cell_type": "markdown",
   "metadata": {},
   "source": [
    "<ins>Comentário</ins>: com apenas 10000 passos, a distância final era menor que 100, normalmente entre -60 e 60. Quando usamos 100 vezes mais passos, a distância final passou a ser entre normalmente -600 e 600. Isso reafirma o proposto no enunciado. Considerando também resultados posteriores, aumentar em $100$ vezes a quantidade de passos aumenta a distância aproximadamente em $\\sqrt{100}=10$ vezes."
   ]
  },
  {
   "cell_type": "markdown",
   "metadata": {},
   "source": [
    "Faça um gráfico de x por y para poucas caminhadas aleatórias bidimensionais com N = 10, 1.000, e 100.000 (tente manter a razão de aspecto do gráfico XY em um.) "
   ]
  },
  {
   "cell_type": "code",
   "execution_count": null,
   "metadata": {},
   "outputs": [],
   "source": [
    "N = 10\n",
    "for i in range(10):\n",
    "    plt.title(f\"Caminhadas Aleatórias 2D - {N} passos\")\n",
    "    walks = randomWalk(N,2)\n",
    "    walks = np.array(walks).T\n",
    "    axs = plt.gca()\n",
    "    axs.set_aspect('equal', 'box')\n",
    "    plt.plot(walks[0], walks[1])\n",
    "plt.show()"
   ]
  },
  {
   "cell_type": "code",
   "execution_count": null,
   "metadata": {},
   "outputs": [],
   "source": [
    "N = 10000\n",
    "for i in range(10):\n",
    "    plt.title(f\"Caminhadas Aleatórias 2D - {N} passos\")\n",
    "    walks = randomWalk(N,2)\n",
    "    walks = np.array(walks).T\n",
    "    axs = plt.gca()\n",
    "    axs.set_aspect('equal', 'box')\n",
    "    plt.plot(walks[0], walks[1])\n",
    "plt.show()"
   ]
  },
  {
   "cell_type": "code",
   "execution_count": null,
   "metadata": {},
   "outputs": [],
   "source": [
    "N = 100000\n",
    "for i in range(10):\n",
    "    plt.title(f\"Caminhadas Aleatórias 2D - {N} passos\")\n",
    "    walks = randomWalk(N,2)\n",
    "    walks = np.array(walks).T\n",
    "    axs = plt.gca()\n",
    "    axs.set_aspect('equal', 'box')\n",
    "    plt.plot(walks[0], walks[1])\n",
    "plt.show()"
   ]
  },
  {
   "cell_type": "markdown",
   "metadata": {},
   "source": [
    "<ins>Comentário</ins>: é possível observar, por exemplo, a invariância de escala. Como dito no enunciado, apesar de aleatórias, o ensemble de caminhadas apresentam propriedades bem claras e perceptíveis. Quando observamos apenas as caminhadas em uma dimensão, apesar de distintas e algumas com mais passos que outras, elas têm propriedades semelhantes."
   ]
  },
  {
   "cell_type": "markdown",
   "metadata": {},
   "source": [
    "# (b) Pontos Finais das Caminhadas Aleatórias"
   ]
  },
  {
   "cell_type": "markdown",
   "metadata": {},
   "source": [
    "Escreva uma rotina para determinar os pontos finais de W caminhadas aleatórias com N passos cada em d=2 dimensões. "
   ]
  },
  {
   "cell_type": "code",
   "execution_count": null,
   "metadata": {},
   "outputs": [],
   "source": [
    "def endpoints(W, N, d):\n",
    "    \"\"\"\n",
    "    Retorna os pontos finais de W caminhadas aleatórias de N passos, de dimensão d\n",
    "    \"\"\"\n",
    "    endpoints_lst = []\n",
    "    for i in range(W):\n",
    "        # Cria uma caminhada aleatória com N passos de dimensão d\n",
    "        steps = randomWalk(N,d)\n",
    "        # Acha o ponto final dela e adiciona à lista\n",
    "        endpoints_lst.append(np.sum(steps, axis=0))    \n",
    "    return endpoints_lst\n",
    "endpoints(10, 10000, 2)"
   ]
  },
  {
   "cell_type": "markdown",
   "metadata": {},
   "source": [
    "Faça um gráfico de dispersão das coordenadas finais de 10.000 caminhadas aleatórias com N=1 e 10, superpostos no mesmo gráfico.  "
   ]
  },
  {
   "cell_type": "code",
   "execution_count": null,
   "metadata": {},
   "outputs": [],
   "source": [
    "plt.figure(figsize=(10,10))\n",
    "plt.title(\"Pontos Finais\")\n",
    "\n",
    "# N = 10\n",
    "ends = endpoints(10000, 10, 2)\n",
    "ends = np.array(ends).T\n",
    "axs = plt.gca()\n",
    "axs.set_aspect('equal')\n",
    "plt.scatter(ends[0], ends[1], edgecolors='black', alpha=.1, color='r')\n",
    "\n",
    "# N = 1\n",
    "ends = endpoints(10000, 1, 2)\n",
    "ends = np.array(ends).T\n",
    "axs = plt.gca()\n",
    "axs.set_aspect('equal')\n",
    "plt.scatter(ends[0], ends[1], edgecolors='black', alpha=.1, color='b')\n",
    "plt.show()\n"
   ]
  },
  {
   "cell_type": "markdown",
   "metadata": {},
   "source": [
    "<ins>Comentário</ins>: esse gráfico nos mostra o conceito da Simetria Rotacional Emergente das caminhadas aleatórias. Com poucos passos, no caso apenas 1, os pontos finais tendem a um quadrado, que representa exatamente até onde conseguimos ir com apenas um único passo. Porém, no que aumentamos a quantidade de passos, os pontos finais se distribuem de forma circular em torno da origem, mais concentrados nessa origem como é possível ver no gráfico."
   ]
  },
  {
   "cell_type": "markdown",
   "metadata": {},
   "source": [
    "# (c) Teorema Central do Limite "
   ]
  },
  {
   "cell_type": "markdown",
   "metadata": {},
   "source": [
    "Calcule o desvio quadrático médio (RMS), a para passos uniformemente distribuidos no intervalo (-1/2, 1/2) em uma dimensão. Escreva uma rotina que plota um histograma dos pontos finais de W caminhadas aleatórias com N passos e 50 caixas (bins), junto com a previsão da equação acima para x no intervalo (-3\\sigma, 3\\sigma). Faça um histograma com W=10.000 e N=1, 2, 3 e 5. Quão rápido a distribuição Gaussiana se torna uma boa aproximação para uma caminhada aleatória?"
   ]
  },
  {
   "cell_type": "code",
   "execution_count": null,
   "metadata": {},
   "outputs": [],
   "source": [
    "def histAndGauss(N):\n",
    "    \"\"\"\n",
    "    Plota um histograma de pontos finais de 10000 caminhadas aleatórias com de N passos, de dimensão 1\n",
    "    Plota no mesmo gráfico uma distribuição gaussiana esse parâmetro N \n",
    "    \"\"\"\n",
    "    # Cria o histograma\n",
    "    plt.figure(figsize=(5,5))\n",
    "    plt.title(f\"N = {N}\")\n",
    "    end = endpoints(10000,N,1)\n",
    "    end = np.array(end)\n",
    "    plt.hist(end,bins=50,density=True,stacked=True);\n",
    "\n",
    "    # Cria a curva gaussiana\n",
    "    sigma = np.sqrt(N)\n",
    "    x = np.arange(-3.*sigma, 3.*sigma, 0.1*sigma)\n",
    "    gauss = (1/(np.sqrt(2*np.pi)*sigma)) * np.exp((-x**2/(2*sigma**2)))\n",
    "    plt.plot(x,gauss,'r');\n",
    "    plt.show()"
   ]
  },
  {
   "cell_type": "code",
   "execution_count": null,
   "metadata": {},
   "outputs": [],
   "source": [
    "histAndGauss(1)"
   ]
  },
  {
   "cell_type": "code",
   "execution_count": null,
   "metadata": {},
   "outputs": [],
   "source": [
    "histAndGauss(2)"
   ]
  },
  {
   "cell_type": "code",
   "execution_count": null,
   "metadata": {},
   "outputs": [],
   "source": [
    "histAndGauss(5)"
   ]
  },
  {
   "cell_type": "markdown",
   "metadata": {},
   "source": [
    "<ins>Comentário</ins>: com cerca de apenas 5 passos, a caminhada aleatória já se aproxima de uma distribuição normal gaussiana. Isso também corrobora com os resultados encontrados no item anterior da simetria emergente de 1 passo e de mais passos.\n",
    "\n",
    "Além disso, aqui exemplifica-se que, embora os passos sejam discretos, quando consideramos muitos deles e se os tratamos como pequenos e com um pequeno intervalo entre cada, temos uma boa aproximação de uma gaussiana, como podemos ver no gráfico. "
   ]
  },
  {
   "cell_type": "code",
   "execution_count": null,
   "metadata": {},
   "outputs": [],
   "source": []
  }
 ],
 "metadata": {
  "kernelspec": {
   "display_name": "Python 3",
   "language": "python",
   "name": "python3"
  },
  "language_info": {
   "codemirror_mode": {
    "name": "ipython",
    "version": 3
   },
   "file_extension": ".py",
   "mimetype": "text/x-python",
   "name": "python",
   "nbconvert_exporter": "python",
   "pygments_lexer": "ipython3",
   "version": "3.8.5"
  }
 },
 "nbformat": 4,
 "nbformat_minor": 2
}
